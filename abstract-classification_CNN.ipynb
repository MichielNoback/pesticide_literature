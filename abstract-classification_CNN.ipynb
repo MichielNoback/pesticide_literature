{
 "cells": [
  {
   "cell_type": "code",
   "execution_count": 26,
   "metadata": {},
   "outputs": [],
   "source": [
    "import pandas as pd\n",
    "\n",
    "import matplotlib.pyplot as plt\n",
    "from sklearn.model_selection import train_test_split\n",
    "from sklearn.metrics import confusion_matrix\n",
    "\n",
    "from tensorflow.keras.preprocessing.text import Tokenizer # type: ignore\n",
    "from tensorflow.keras.preprocessing.sequence import pad_sequences # type: ignore\n",
    "from tensorflow.keras.layers import Dense, Input, GlobalMaxPooling1D # type: ignore\n",
    "from tensorflow.keras.layers import Conv1D, MaxPooling1D, Embedding # type: ignore\n",
    "from tensorflow.keras.models import Model # type: ignore\n",
    "from tensorflow.keras.losses import SparseCategoricalCrossentropy # type: ignore\n",
    "from keras import optimizers\n",
    "import utils # all datareading and preprocessing functionality"
   ]
  },
  {
   "cell_type": "code",
   "execution_count": 2,
   "metadata": {},
   "outputs": [],
   "source": [
    "file1 = './data/abstract_set1.txt'\n",
    "file2 = './data/abstract_set2.txt'\n",
    "data_selection = 'abstract'\n",
    "label_selection = 'label' # can be 'label' or 'text_label'"
   ]
  },
  {
   "cell_type": "code",
   "execution_count": 3,
   "metadata": {},
   "outputs": [
    {
     "data": {
      "text/html": [
       "<div>\n",
       "<style scoped>\n",
       "    .dataframe tbody tr th:only-of-type {\n",
       "        vertical-align: middle;\n",
       "    }\n",
       "\n",
       "    .dataframe tbody tr th {\n",
       "        vertical-align: top;\n",
       "    }\n",
       "\n",
       "    .dataframe thead th {\n",
       "        text-align: right;\n",
       "    }\n",
       "</style>\n",
       "<table border=\"1\" class=\"dataframe\">\n",
       "  <thead>\n",
       "    <tr style=\"text-align: right;\">\n",
       "      <th></th>\n",
       "      <th>pmid</th>\n",
       "      <th>title</th>\n",
       "      <th>abstract</th>\n",
       "      <th>label</th>\n",
       "      <th>text_label</th>\n",
       "    </tr>\n",
       "  </thead>\n",
       "  <tbody>\n",
       "    <tr>\n",
       "      <th>0</th>\n",
       "      <td>29981025</td>\n",
       "      <td>Impact of Neoadjuvant Chemotherapy on Breast C...</td>\n",
       "      <td>BACKGROUND: Breast cancer subtype, as determin...</td>\n",
       "      <td>0</td>\n",
       "      <td>control</td>\n",
       "    </tr>\n",
       "    <tr>\n",
       "      <th>1</th>\n",
       "      <td>29984001</td>\n",
       "      <td>Expert-Performed Endotracheal Intubation-Relat...</td>\n",
       "      <td>The aim of this study was to determine complic...</td>\n",
       "      <td>0</td>\n",
       "      <td>control</td>\n",
       "    </tr>\n",
       "    <tr>\n",
       "      <th>2</th>\n",
       "      <td>29988545</td>\n",
       "      <td>A case report: Addison disease caused by adren...</td>\n",
       "      <td>We report middle age man with skin hyperpigmen...</td>\n",
       "      <td>0</td>\n",
       "      <td>control</td>\n",
       "    </tr>\n",
       "    <tr>\n",
       "      <th>3</th>\n",
       "      <td>29998100</td>\n",
       "      <td>An Unusual Morphological Presentation of Cutan...</td>\n",
       "      <td>Cutaneous squamous cell carcinoma (SCC) exhibi...</td>\n",
       "      <td>0</td>\n",
       "      <td>control</td>\n",
       "    </tr>\n",
       "    <tr>\n",
       "      <th>4</th>\n",
       "      <td>29999256</td>\n",
       "      <td>Informing Consent: Medical Malpractice and the...</td>\n",
       "      <td>Since the early 1990s, jurisdictions around th...</td>\n",
       "      <td>0</td>\n",
       "      <td>control</td>\n",
       "    </tr>\n",
       "  </tbody>\n",
       "</table>\n",
       "</div>"
      ],
      "text/plain": [
       "       pmid                                              title  \\\n",
       "0  29981025  Impact of Neoadjuvant Chemotherapy on Breast C...   \n",
       "1  29984001  Expert-Performed Endotracheal Intubation-Relat...   \n",
       "2  29988545  A case report: Addison disease caused by adren...   \n",
       "3  29998100  An Unusual Morphological Presentation of Cutan...   \n",
       "4  29999256  Informing Consent: Medical Malpractice and the...   \n",
       "\n",
       "                                            abstract  label text_label  \n",
       "0  BACKGROUND: Breast cancer subtype, as determin...      0    control  \n",
       "1  The aim of this study was to determine complic...      0    control  \n",
       "2  We report middle age man with skin hyperpigmen...      0    control  \n",
       "3  Cutaneous squamous cell carcinoma (SCC) exhibi...      0    control  \n",
       "4  Since the early 1990s, jurisdictions around th...      0    control  "
      ]
     },
     "execution_count": 3,
     "metadata": {},
     "output_type": "execute_result"
    }
   ],
   "source": [
    "df = utils.read_abstract_data(negatives_path=file2, positives_path=file1)\n",
    "#utils.preprocess_text(data) # can be skipped here?\n",
    "\n",
    "df.head()"
   ]
  },
  {
   "cell_type": "code",
   "execution_count": 45,
   "metadata": {},
   "outputs": [
    {
     "data": {
      "text/plain": [
       "text_label\n",
       "pesticide    4692\n",
       "control      4418\n",
       "Name: count, dtype: int64"
      ]
     },
     "execution_count": 45,
     "metadata": {},
     "output_type": "execute_result"
    }
   ],
   "source": [
    "df.text_label.value_counts()"
   ]
  },
  {
   "cell_type": "code",
   "execution_count": 4,
   "metadata": {},
   "outputs": [
    {
     "data": {
      "text/plain": [
       "2"
      ]
     },
     "execution_count": 4,
     "metadata": {},
     "output_type": "execute_result"
    }
   ],
   "source": [
    "# number of classes\n",
    "K = df[label_selection].max() + 1\n",
    "K"
   ]
  },
  {
   "cell_type": "code",
   "execution_count": 5,
   "metadata": {},
   "outputs": [
    {
     "data": {
      "text/html": [
       "<div>\n",
       "<style scoped>\n",
       "    .dataframe tbody tr th:only-of-type {\n",
       "        vertical-align: middle;\n",
       "    }\n",
       "\n",
       "    .dataframe tbody tr th {\n",
       "        vertical-align: top;\n",
       "    }\n",
       "\n",
       "    .dataframe thead th {\n",
       "        text-align: right;\n",
       "    }\n",
       "</style>\n",
       "<table border=\"1\" class=\"dataframe\">\n",
       "  <thead>\n",
       "    <tr style=\"text-align: right;\">\n",
       "      <th></th>\n",
       "      <th>abstract</th>\n",
       "      <th>label</th>\n",
       "      <th>text_label</th>\n",
       "    </tr>\n",
       "  </thead>\n",
       "  <tbody>\n",
       "    <tr>\n",
       "      <th>2001</th>\n",
       "      <td>BACKGROUND AND PURPOSE: Up-regulation of thior...</td>\n",
       "      <td>0</td>\n",
       "      <td>control</td>\n",
       "    </tr>\n",
       "    <tr>\n",
       "      <th>7710</th>\n",
       "      <td>Anopheles epiroticus is a malaria vector in Th...</td>\n",
       "      <td>1</td>\n",
       "      <td>pesticide</td>\n",
       "    </tr>\n",
       "    <tr>\n",
       "      <th>7108</th>\n",
       "      <td>OBJECTIVES: Agricultural use of neonicotinoid ...</td>\n",
       "      <td>1</td>\n",
       "      <td>pesticide</td>\n",
       "    </tr>\n",
       "    <tr>\n",
       "      <th>6407</th>\n",
       "      <td>One approach in toxicity testing using microal...</td>\n",
       "      <td>1</td>\n",
       "      <td>pesticide</td>\n",
       "    </tr>\n",
       "    <tr>\n",
       "      <th>6204</th>\n",
       "      <td>We found previously that organophosphorus pest...</td>\n",
       "      <td>1</td>\n",
       "      <td>pesticide</td>\n",
       "    </tr>\n",
       "  </tbody>\n",
       "</table>\n",
       "</div>"
      ],
      "text/plain": [
       "                                               abstract  label text_label\n",
       "2001  BACKGROUND AND PURPOSE: Up-regulation of thior...      0    control\n",
       "7710  Anopheles epiroticus is a malaria vector in Th...      1  pesticide\n",
       "7108  OBJECTIVES: Agricultural use of neonicotinoid ...      1  pesticide\n",
       "6407  One approach in toxicity testing using microal...      1  pesticide\n",
       "6204  We found previously that organophosphorus pest...      1  pesticide"
      ]
     },
     "execution_count": 5,
     "metadata": {},
     "output_type": "execute_result"
    }
   ],
   "source": [
    "df_train, df_test = train_test_split(df[[data_selection, 'label', 'text_label']], test_size=0.3)\n",
    "df_train.head()"
   ]
  },
  {
   "cell_type": "code",
   "execution_count": 6,
   "metadata": {},
   "outputs": [],
   "source": [
    "# Convert sentences to sequences\n",
    "MAX_VOCAB_SIZE = 2500\n",
    "tokenizer = Tokenizer(num_words=MAX_VOCAB_SIZE) # tokenizer from tensorflow.keras.preprocessing.text\n",
    "tokenizer.fit_on_texts(df_train[data_selection])\n",
    "sequences_train = tokenizer.texts_to_sequences(df_train[data_selection]) # returns a simple python list of lists (of numbers)\n",
    "sequences_test = tokenizer.texts_to_sequences(df_test[data_selection])"
   ]
  },
  {
   "cell_type": "code",
   "execution_count": 7,
   "metadata": {},
   "outputs": [
    {
     "data": {
      "text/plain": [
       "6377"
      ]
     },
     "execution_count": 7,
     "metadata": {},
     "output_type": "execute_result"
    }
   ],
   "source": [
    "#df_train.shape\n",
    "#[len(x) for x in sequences_train[:5]] \n",
    "len(sequences_train)"
   ]
  },
  {
   "cell_type": "code",
   "execution_count": 8,
   "metadata": {},
   "outputs": [
    {
     "name": "stdout",
     "output_type": "stream",
     "text": [
      "Found 51394 unique tokens.\n"
     ]
    }
   ],
   "source": [
    "# get word -> integer mapping\n",
    "word2idx = tokenizer.word_index\n",
    "V = len(word2idx)\n",
    "print('Found %s unique tokens.' % V)"
   ]
  },
  {
   "cell_type": "code",
   "execution_count": 9,
   "metadata": {},
   "outputs": [
    {
     "name": "stdout",
     "output_type": "stream",
     "text": [
      "Shape of data train tensor: (6377, 1884)\n"
     ]
    }
   ],
   "source": [
    "# pad sequences so that we get a N x T matrix\n",
    "data_train = pad_sequences(sequences_train)\n",
    "print('Shape of data train tensor:', data_train.shape)\n",
    "\n",
    "# get sequence length\n",
    "T = data_train.shape[1]"
   ]
  },
  {
   "cell_type": "code",
   "execution_count": 10,
   "metadata": {},
   "outputs": [
    {
     "data": {
      "text/plain": [
       "array([[0, 0, 0, 0, 0, 0, 0, 0, 0, 0, 0, 0, 0, 0, 0, 0, 0, 0, 0, 0],\n",
       "       [0, 0, 0, 0, 0, 0, 0, 0, 0, 0, 0, 0, 0, 0, 0, 0, 0, 0, 0, 0],\n",
       "       [0, 0, 0, 0, 0, 0, 0, 0, 0, 0, 0, 0, 0, 0, 0, 0, 0, 0, 0, 0],\n",
       "       [0, 0, 0, 0, 0, 0, 0, 0, 0, 0, 0, 0, 0, 0, 0, 0, 0, 0, 0, 0],\n",
       "       [0, 0, 0, 0, 0, 0, 0, 0, 0, 0, 0, 0, 0, 0, 0, 0, 0, 0, 0, 0]],\n",
       "      dtype=int32)"
      ]
     },
     "execution_count": 10,
     "metadata": {},
     "output_type": "execute_result"
    }
   ],
   "source": [
    "#data_train.shape\n",
    "data_train[:5, :20]"
   ]
  },
  {
   "cell_type": "code",
   "execution_count": 10,
   "metadata": {},
   "outputs": [
    {
     "name": "stdout",
     "output_type": "stream",
     "text": [
      "Shape of data test tensor: (2733, 1884)\n"
     ]
    }
   ],
   "source": [
    "# also pad the test sequences. Note that we use the same T as for the training data\n",
    "# (this is important!)\n",
    "data_test = pad_sequences(sequences_test, maxlen=T)\n",
    "\n",
    "print('Shape of data test tensor:', data_test.shape)"
   ]
  },
  {
   "cell_type": "code",
   "execution_count": null,
   "metadata": {},
   "outputs": [],
   "source": [
    "# Create the model\n",
    "\n",
    "# We get to choose embedding dimensionality\n",
    "D = 50\n",
    "\n",
    "# Note: we actually want to the size of the embedding to (V + 1) x D,\n",
    "# because the first index starts from 1 and not 0.\n",
    "# Thus, if the final index of the embedding matrix is V,\n",
    "# then it actually must have size V + 1.\n",
    "\n",
    "i = Input(shape=(T,))\n",
    "x = Embedding(V + 1, D)(i)\n",
    "x = Conv1D(32, 3, activation='relu')(x)\n",
    "# x = MaxPooling1D(3)(x)                    # feel free to test different architectures!\n",
    "# x = Conv1D(64, 3, activation='relu')(x)\n",
    "# x = MaxPooling1D(3)(x)\n",
    "# x = Conv1D(128, 3, activation='relu')(x)\n",
    "x = GlobalMaxPooling1D()(x)\n",
    "x = Dense(K)(x)\n",
    "\n",
    "model = Model(i, x)"
   ]
  },
  {
   "cell_type": "code",
   "execution_count": null,
   "metadata": {},
   "outputs": [],
   "source": [
    "optm = optimizers.Adam(learning_rate=0.001, beta_1=0.9, beta_2=0.999, amsgrad=False) # these are the default values\n",
    "\n",
    "# Compile and fit\n",
    "model.compile(\n",
    "  loss=SparseCategoricalCrossentropy(from_logits=True),\n",
    "  optimizer=optm,\n",
    "  metrics=['accuracy']\n",
    ")"
   ]
  },
  {
   "cell_type": "code",
   "execution_count": null,
   "metadata": {},
   "outputs": [],
   "source": [
    "print('Training model...')\n",
    "r = model.fit(\n",
    "  data_train,\n",
    "  df_train['label'],\n",
    "  epochs=50,\n",
    "  validation_data=(data_test, df_test['label'])\n",
    ")"
   ]
  },
  {
   "cell_type": "code",
   "execution_count": null,
   "metadata": {},
   "outputs": [],
   "source": [
    "# Plot loss per iteration\n",
    "plt.plot(r.history['loss'], label='train loss')\n",
    "plt.plot(r.history['val_loss'], label='val loss')\n",
    "plt.legend();"
   ]
  },
  {
   "cell_type": "code",
   "execution_count": null,
   "metadata": {},
   "outputs": [],
   "source": [
    "# Plot accuracy per iteration\n",
    "plt.plot(r.history['accuracy'], label='train acc')\n",
    "plt.plot(r.history['val_accuracy'], label='val acc')\n",
    "plt.legend();"
   ]
  },
  {
   "cell_type": "code",
   "execution_count": null,
   "metadata": {},
   "outputs": [],
   "source": [
    "# The outputs are not probabilities but logits;\n",
    "# therefore, this check for bigger than zero (=positive class)\n",
    "# mutltiply by one to get numbers instead of booleans\n",
    "#P_train = ((model.predict(data_train) > 0) * 1.0).flatten()\n",
    "P_train = (model.predict(data_train) > 0) * 1.0\n",
    "P_train = P_train[:, 1] # only positive class\n",
    "\n",
    "#P_test = ((model.predict(data_test > 0) * 1.0).flatten())\n",
    "P_test = (model.predict(data_test) > 0) * 1.0\n",
    "P_test = P_test[:, 1] # only positive\n"
   ]
  },
  {
   "cell_type": "code",
   "execution_count": null,
   "metadata": {},
   "outputs": [],
   "source": [
    "cm_train = confusion_matrix(df_train['label'], P_train, normalize='true')\n",
    "cm_train"
   ]
  },
  {
   "cell_type": "code",
   "execution_count": null,
   "metadata": {},
   "outputs": [],
   "source": [
    "utils.plot_confusion_matrix(cm_train, ['set1', 'set2'])"
   ]
  },
  {
   "cell_type": "code",
   "execution_count": null,
   "metadata": {},
   "outputs": [],
   "source": [
    "P_test"
   ]
  },
  {
   "cell_type": "code",
   "execution_count": null,
   "metadata": {},
   "outputs": [],
   "source": [
    "cm_test = confusion_matrix(df_test['label'], P_test, normalize='true')\n",
    "cm_test"
   ]
  },
  {
   "cell_type": "code",
   "execution_count": null,
   "metadata": {},
   "outputs": [],
   "source": [
    "utils.plot_confusion_matrix(cm_test, ['set1', 'set2'])"
   ]
  },
  {
   "cell_type": "code",
   "execution_count": 11,
   "metadata": {},
   "outputs": [],
   "source": [
    "def evaluate(model):\n",
    "    # The outputs are not probabilities but logits;\n",
    "    # therefore, this check for bigger than zero (=positive class)\n",
    "    # mutltiply by one to get numbers instead of booleans\n",
    "    #P_train = ((model.predict(data_train) > 0) * 1.0).flatten()\n",
    "    P_train = (model.predict(data_train) > 0) * 1.0\n",
    "    P_train = P_train[:, 1] # only positive class\n",
    "\n",
    "    #P_test = ((model.predict(data_test > 0) * 1.0).flatten())\n",
    "    P_test = (model.predict(data_test) > 0) * 1.0\n",
    "    P_test = P_test[:, 1] # only positive\n",
    "    cm_test = confusion_matrix(df_test['label'], P_test, normalize='true')\n",
    "    print(cm_test)\n",
    "    utils.plot_confusion_matrix(cm_test, ['control', 'pesticide'])"
   ]
  },
  {
   "cell_type": "code",
   "execution_count": null,
   "metadata": {},
   "outputs": [
    {
     "name": "stdout",
     "output_type": "stream",
     "text": [
      "Epoch 1/15\n",
      "\u001b[1m200/200\u001b[0m \u001b[32m━━━━━━━━━━━━━━━━━━━━\u001b[0m\u001b[37m\u001b[0m \u001b[1m5s\u001b[0m 24ms/step - accuracy: 0.6724 - loss: 0.6037 - val_accuracy: 0.9440 - val_loss: 0.1557\n",
      "Epoch 2/15\n",
      "\u001b[1m200/200\u001b[0m \u001b[32m━━━━━━━━━━━━━━━━━━━━\u001b[0m\u001b[37m\u001b[0m \u001b[1m5s\u001b[0m 24ms/step - accuracy: 0.9708 - loss: 0.0847 - val_accuracy: 0.9715 - val_loss: 0.0760\n",
      "Epoch 3/15\n",
      "\u001b[1m200/200\u001b[0m \u001b[32m━━━━━━━━━━━━━━━━━━━━\u001b[0m\u001b[37m\u001b[0m \u001b[1m5s\u001b[0m 24ms/step - accuracy: 0.9931 - loss: 0.0272 - val_accuracy: 0.9766 - val_loss: 0.0752\n",
      "Epoch 4/15\n",
      "\u001b[1m200/200\u001b[0m \u001b[32m━━━━━━━━━━━━━━━━━━━━\u001b[0m\u001b[37m\u001b[0m \u001b[1m5s\u001b[0m 24ms/step - accuracy: 0.9980 - loss: 0.0107 - val_accuracy: 0.9685 - val_loss: 0.0909\n",
      "Epoch 5/15\n",
      "\u001b[1m200/200\u001b[0m \u001b[32m━━━━━━━━━━━━━━━━━━━━\u001b[0m\u001b[37m\u001b[0m \u001b[1m5s\u001b[0m 24ms/step - accuracy: 0.9989 - loss: 0.0063 - val_accuracy: 0.9718 - val_loss: 0.0923\n",
      "Epoch 6/15\n",
      "\u001b[1m200/200\u001b[0m \u001b[32m━━━━━━━━━━━━━━━━━━━━\u001b[0m\u001b[37m\u001b[0m \u001b[1m5s\u001b[0m 24ms/step - accuracy: 0.9999 - loss: 0.0036 - val_accuracy: 0.9733 - val_loss: 0.0972\n",
      "Epoch 7/15\n",
      "\u001b[1m200/200\u001b[0m \u001b[32m━━━━━━━━━━━━━━━━━━━━\u001b[0m\u001b[37m\u001b[0m \u001b[1m5s\u001b[0m 24ms/step - accuracy: 0.9992 - loss: 0.0051 - val_accuracy: 0.9715 - val_loss: 0.0970\n",
      "Epoch 8/15\n",
      "\u001b[1m200/200\u001b[0m \u001b[32m━━━━━━━━━━━━━━━━━━━━\u001b[0m\u001b[37m\u001b[0m \u001b[1m5s\u001b[0m 24ms/step - accuracy: 0.9997 - loss: 0.0019 - val_accuracy: 0.9693 - val_loss: 0.1024\n",
      "Epoch 9/15\n",
      "\u001b[1m200/200\u001b[0m \u001b[32m━━━━━━━━━━━━━━━━━━━━\u001b[0m\u001b[37m\u001b[0m \u001b[1m5s\u001b[0m 24ms/step - accuracy: 0.9996 - loss: 0.0020 - val_accuracy: 0.9733 - val_loss: 0.1050\n",
      "Epoch 10/15\n",
      "\u001b[1m200/200\u001b[0m \u001b[32m━━━━━━━━━━━━━━━━━━━━\u001b[0m\u001b[37m\u001b[0m \u001b[1m5s\u001b[0m 24ms/step - accuracy: 0.9997 - loss: 0.0031 - val_accuracy: 0.9762 - val_loss: 0.0904\n",
      "Epoch 11/15\n",
      "\u001b[1m200/200\u001b[0m \u001b[32m━━━━━━━━━━━━━━━━━━━━\u001b[0m\u001b[37m\u001b[0m \u001b[1m5s\u001b[0m 24ms/step - accuracy: 0.9997 - loss: 0.0023 - val_accuracy: 0.9722 - val_loss: 0.1063\n",
      "Epoch 12/15\n",
      "\u001b[1m200/200\u001b[0m \u001b[32m━━━━━━━━━━━━━━━━━━━━\u001b[0m\u001b[37m\u001b[0m \u001b[1m5s\u001b[0m 24ms/step - accuracy: 0.9991 - loss: 0.0033 - val_accuracy: 0.9733 - val_loss: 0.0994\n",
      "Epoch 13/15\n",
      "\u001b[1m200/200\u001b[0m \u001b[32m━━━━━━━━━━━━━━━━━━━━\u001b[0m\u001b[37m\u001b[0m \u001b[1m5s\u001b[0m 24ms/step - accuracy: 0.9993 - loss: 0.0030 - val_accuracy: 0.9689 - val_loss: 0.1273\n",
      "Epoch 14/15\n",
      "\u001b[1m200/200\u001b[0m \u001b[32m━━━━━━━━━━━━━━━━━━━━\u001b[0m\u001b[37m\u001b[0m \u001b[1m5s\u001b[0m 24ms/step - accuracy: 0.9998 - loss: 0.0016 - val_accuracy: 0.9704 - val_loss: 0.1181\n",
      "Epoch 15/15\n",
      "\u001b[1m200/200\u001b[0m \u001b[32m━━━━━━━━━━━━━━━━━━━━\u001b[0m\u001b[37m\u001b[0m \u001b[1m5s\u001b[0m 24ms/step - accuracy: 0.9990 - loss: 0.0039 - val_accuracy: 0.9726 - val_loss: 0.1105\n"
     ]
    }
   ],
   "source": [
    "D = 50\n",
    "i = Input(shape=(T,))\n",
    "x = Embedding(V + 1, D)(i)\n",
    "x = Conv1D(32, 3, activation='relu')(x)\n",
    "# x = MaxPooling1D(3)(x)\n",
    "# x = Conv1D(16, 3, activation='relu')(x)\n",
    "# x = MaxPooling1D(3)(x)\n",
    "# x = Conv1D(128, 3, activation='relu')(x)\n",
    "x = GlobalMaxPooling1D()(x)\n",
    "x = Dense(K)(x)\n",
    "model = Model(i, x)\n",
    "\n",
    "optm = optimizers.Adam(learning_rate=0.001, beta_1=0.9, beta_2=0.999, amsgrad=False) # these are the default values\n",
    "model.compile(\n",
    "  loss=SparseCategoricalCrossentropy(from_logits=True),\n",
    "  optimizer=optm,\n",
    "  metrics=['accuracy']\n",
    ")\n",
    "\n",
    "r = model.fit(\n",
    "  data_train,\n",
    "  df_train['label'],\n",
    "  epochs=15,\n",
    "  validation_data=(data_test, df_test['label'])\n",
    ")"
   ]
  },
  {
   "cell_type": "code",
   "execution_count": 23,
   "metadata": {},
   "outputs": [
    {
     "data": {
      "image/png": "[encoded data removed]",
      "text/plain": [
       "<Figure size 640x480 with 1 Axes>"
      ]
     },
     "metadata": {},
     "output_type": "display_data"
    }
   ],
   "source": [
    "plt.plot(r.history['accuracy'], label='train acc')\n",
    "plt.plot(r.history['val_accuracy'], label='val acc')\n",
    "plt.legend();"
   ]
  },
  {
   "cell_type": "code",
   "execution_count": 24,
   "metadata": {},
   "outputs": [
    {
     "name": "stdout",
     "output_type": "stream",
     "text": [
      "\u001b[1m200/200\u001b[0m \u001b[32m━━━━━━━━━━━━━━━━━━━━\u001b[0m\u001b[37m\u001b[0m \u001b[1m1s\u001b[0m 7ms/step\n",
      "\u001b[1m86/86\u001b[0m \u001b[32m━━━━━━━━━━━━━━━━━━━━\u001b[0m\u001b[37m\u001b[0m \u001b[1m1s\u001b[0m 7ms/step\n",
      "[[0.97251908 0.02748092]\n",
      " [0.02037948 0.97962052]]\n"
     ]
    },
    {
     "data": {
      "image/png": "[encoded data removed]",
      "text/plain": [
       "<Figure size 400x300 with 2 Axes>"
      ]
     },
     "metadata": {},
     "output_type": "display_data"
    }
   ],
   "source": [
    "#Test utils.evaluate_model()\n",
    "evaluate(model)"
   ]
  },
  {
   "cell_type": "markdown",
   "metadata": {},
   "source": [
    "## Evaluate on completely unseen data"
   ]
  },
  {
   "cell_type": "code",
   "execution_count": 31,
   "metadata": {},
   "outputs": [
    {
     "name": "stdout",
     "output_type": "stream",
     "text": [
      "(151, 4)\n"
     ]
    },
    {
     "data": {
      "text/html": [
       "<div>\n",
       "<style scoped>\n",
       "    .dataframe tbody tr th:only-of-type {\n",
       "        vertical-align: middle;\n",
       "    }\n",
       "\n",
       "    .dataframe tbody tr th {\n",
       "        vertical-align: top;\n",
       "    }\n",
       "\n",
       "    .dataframe thead th {\n",
       "        text-align: right;\n",
       "    }\n",
       "</style>\n",
       "<table border=\"1\" class=\"dataframe\">\n",
       "  <thead>\n",
       "    <tr style=\"text-align: right;\">\n",
       "      <th></th>\n",
       "      <th>pmid</th>\n",
       "      <th>title</th>\n",
       "      <th>abstract</th>\n",
       "      <th>label</th>\n",
       "    </tr>\n",
       "  </thead>\n",
       "  <tbody>\n",
       "    <tr>\n",
       "      <th>0</th>\n",
       "      <td>10234476</td>\n",
       "      <td>Pesticide induced changes of nitric oxide synt...</td>\n",
       "      <td>Organic insecticides are well known neurotoxic...</td>\n",
       "      <td>1</td>\n",
       "    </tr>\n",
       "    <tr>\n",
       "      <th>1</th>\n",
       "      <td>10369463</td>\n",
       "      <td>Minor structural changes in nicotinoid insecti...</td>\n",
       "      <td>The major nitroimine insecticide imidacloprid ...</td>\n",
       "      <td>1</td>\n",
       "    </tr>\n",
       "    <tr>\n",
       "      <th>2</th>\n",
       "      <td>10583056</td>\n",
       "      <td>Evidence for double resistance to permethrin a...</td>\n",
       "      <td>A rising prevalence of head lice among school ...</td>\n",
       "      <td>1</td>\n",
       "    </tr>\n",
       "    <tr>\n",
       "      <th>3</th>\n",
       "      <td>15496540</td>\n",
       "      <td>Pesticides and lung cancer risk in the agricul...</td>\n",
       "      <td>The authors examined the relation between 50 w...</td>\n",
       "      <td>1</td>\n",
       "    </tr>\n",
       "    <tr>\n",
       "      <th>4</th>\n",
       "      <td>16452832</td>\n",
       "      <td>Pendimethalin exposure and cancer incidence am...</td>\n",
       "      <td>Pendimethalin, a widely used herbicide, has be...</td>\n",
       "      <td>1</td>\n",
       "    </tr>\n",
       "    <tr>\n",
       "      <th>5</th>\n",
       "      <td>16704049</td>\n",
       "      <td>Dose-additive inhibition of chinook salmon ace...</td>\n",
       "      <td>Organophosphate and carbamate insecticides are...</td>\n",
       "      <td>1</td>\n",
       "    </tr>\n",
       "    <tr>\n",
       "      <th>6</th>\n",
       "      <td>19248625</td>\n",
       "      <td>[The effect of pesticide acetamiprid on bioche...</td>\n",
       "      <td>The effects of ecological real concentration o...</td>\n",
       "      <td>1</td>\n",
       "    </tr>\n",
       "    <tr>\n",
       "      <th>7</th>\n",
       "      <td>19934164</td>\n",
       "      <td>Time-course, dose-response, and age comparativ...</td>\n",
       "      <td>N-Methyl carbamate insecticides are reversible...</td>\n",
       "      <td>1</td>\n",
       "    </tr>\n",
       "    <tr>\n",
       "      <th>8</th>\n",
       "      <td>22361216</td>\n",
       "      <td>Effect of chronic exposure to pendimethalin on...</td>\n",
       "      <td>In this study, the in vivo effects of chronic ...</td>\n",
       "      <td>1</td>\n",
       "    </tr>\n",
       "    <tr>\n",
       "      <th>9</th>\n",
       "      <td>22393406</td>\n",
       "      <td>Nicotine-like effects of the neonicotinoid ins...</td>\n",
       "      <td>Acetamiprid (ACE) and imidacloprid (IMI) belon...</td>\n",
       "      <td>1</td>\n",
       "    </tr>\n",
       "  </tbody>\n",
       "</table>\n",
       "</div>"
      ],
      "text/plain": [
       "       pmid                                              title  \\\n",
       "0  10234476  Pesticide induced changes of nitric oxide synt...   \n",
       "1  10369463  Minor structural changes in nicotinoid insecti...   \n",
       "2  10583056  Evidence for double resistance to permethrin a...   \n",
       "3  15496540  Pesticides and lung cancer risk in the agricul...   \n",
       "4  16452832  Pendimethalin exposure and cancer incidence am...   \n",
       "5  16704049  Dose-additive inhibition of chinook salmon ace...   \n",
       "6  19248625  [The effect of pesticide acetamiprid on bioche...   \n",
       "7  19934164  Time-course, dose-response, and age comparativ...   \n",
       "8  22361216  Effect of chronic exposure to pendimethalin on...   \n",
       "9  22393406  Nicotine-like effects of the neonicotinoid ins...   \n",
       "\n",
       "                                            abstract  label  \n",
       "0  Organic insecticides are well known neurotoxic...      1  \n",
       "1  The major nitroimine insecticide imidacloprid ...      1  \n",
       "2  A rising prevalence of head lice among school ...      1  \n",
       "3  The authors examined the relation between 50 w...      1  \n",
       "4  Pendimethalin, a widely used herbicide, has be...      1  \n",
       "5  Organophosphate and carbamate insecticides are...      1  \n",
       "6  The effects of ecological real concentration o...      1  \n",
       "7  N-Methyl carbamate insecticides are reversible...      1  \n",
       "8  In this study, the in vivo effects of chronic ...      1  \n",
       "9  Acetamiprid (ACE) and imidacloprid (IMI) belon...      1  "
      ]
     },
     "execution_count": 31,
     "metadata": {},
     "output_type": "execute_result"
    }
   ],
   "source": [
    "# check the new file\n",
    "curated_pesticide_abstracts = pd.read_csv('./data/curated_pesticides_abstracts.txt', sep='\\t')\n",
    "curated_pesticide_abstracts['label'] = 1\n",
    "#remove rows with NaN in abstract column\n",
    "curated_pesticide_abstracts = curated_pesticide_abstracts.dropna(subset=['abstract'])\n",
    "print(curated_pesticide_abstracts.shape)\n",
    "curated_pesticide_abstracts.head(10)\n"
   ]
  },
  {
   "cell_type": "code",
   "execution_count": null,
   "metadata": {},
   "outputs": [],
   "source": [
    "sequences_val_pos = tokenizer.texts_to_sequences(curated_pesticide_abstracts[data_selection])\n",
    "data_val_pos = pad_sequences(sequences_val_pos, maxlen=T)"
   ]
  },
  {
   "cell_type": "code",
   "execution_count": 34,
   "metadata": {},
   "outputs": [
    {
     "name": "stdout",
     "output_type": "stream",
     "text": [
      "Epoch 1/15\n",
      "\u001b[1m200/200\u001b[0m \u001b[32m━━━━━━━━━━━━━━━━━━━━\u001b[0m\u001b[37m\u001b[0m \u001b[1m5s\u001b[0m 21ms/step - accuracy: 0.7138 - loss: 0.5781 - val_accuracy: 0.9378 - val_loss: 0.1900\n",
      "Epoch 2/15\n",
      "\u001b[1m200/200\u001b[0m \u001b[32m━━━━━━━━━━━━━━━━━━━━\u001b[0m\u001b[37m\u001b[0m \u001b[1m4s\u001b[0m 20ms/step - accuracy: 0.9635 - loss: 0.1154 - val_accuracy: 0.9777 - val_loss: 0.0704\n",
      "Epoch 3/15\n",
      "\u001b[1m200/200\u001b[0m \u001b[32m━━━━━━━━━━━━━━━━━━━━\u001b[0m\u001b[37m\u001b[0m \u001b[1m4s\u001b[0m 20ms/step - accuracy: 0.9907 - loss: 0.0368 - val_accuracy: 0.9817 - val_loss: 0.0576\n",
      "Epoch 4/15\n",
      "\u001b[1m200/200\u001b[0m \u001b[32m━━━━━━━━━━━━━━━━━━━━\u001b[0m\u001b[37m\u001b[0m \u001b[1m4s\u001b[0m 21ms/step - accuracy: 0.9955 - loss: 0.0196 - val_accuracy: 0.9806 - val_loss: 0.0565\n",
      "Epoch 5/15\n",
      "\u001b[1m200/200\u001b[0m \u001b[32m━━━━━━━━━━━━━━━━━━━━\u001b[0m\u001b[37m\u001b[0m \u001b[1m4s\u001b[0m 21ms/step - accuracy: 0.9978 - loss: 0.0105 - val_accuracy: 0.9802 - val_loss: 0.0621\n",
      "Epoch 6/15\n",
      "\u001b[1m200/200\u001b[0m \u001b[32m━━━━━━━━━━━━━━━━━━━━\u001b[0m\u001b[37m\u001b[0m \u001b[1m4s\u001b[0m 21ms/step - accuracy: 0.9979 - loss: 0.0089 - val_accuracy: 0.9817 - val_loss: 0.0627\n",
      "Epoch 7/15\n",
      "\u001b[1m200/200\u001b[0m \u001b[32m━━━━━━━━━━━━━━━━━━━━\u001b[0m\u001b[37m\u001b[0m \u001b[1m4s\u001b[0m 21ms/step - accuracy: 0.9995 - loss: 0.0041 - val_accuracy: 0.9821 - val_loss: 0.0635\n",
      "Epoch 8/15\n",
      "\u001b[1m200/200\u001b[0m \u001b[32m━━━━━━━━━━━━━━━━━━━━\u001b[0m\u001b[37m\u001b[0m \u001b[1m4s\u001b[0m 20ms/step - accuracy: 0.9992 - loss: 0.0042 - val_accuracy: 0.9810 - val_loss: 0.0659\n",
      "Epoch 9/15\n",
      "\u001b[1m200/200\u001b[0m \u001b[32m━━━━━━━━━━━━━━━━━━━━\u001b[0m\u001b[37m\u001b[0m \u001b[1m4s\u001b[0m 20ms/step - accuracy: 0.9999 - loss: 0.0021 - val_accuracy: 0.9810 - val_loss: 0.0701\n",
      "Epoch 10/15\n",
      "\u001b[1m200/200\u001b[0m \u001b[32m━━━━━━━━━━━━━━━━━━━━\u001b[0m\u001b[37m\u001b[0m \u001b[1m4s\u001b[0m 20ms/step - accuracy: 0.9996 - loss: 0.0027 - val_accuracy: 0.9821 - val_loss: 0.0665\n",
      "Epoch 11/15\n",
      "\u001b[1m200/200\u001b[0m \u001b[32m━━━━━━━━━━━━━━━━━━━━\u001b[0m\u001b[37m\u001b[0m \u001b[1m4s\u001b[0m 21ms/step - accuracy: 0.9995 - loss: 0.0038 - val_accuracy: 0.9810 - val_loss: 0.0702\n",
      "Epoch 12/15\n",
      "\u001b[1m200/200\u001b[0m \u001b[32m━━━━━━━━━━━━━━━━━━━━\u001b[0m\u001b[37m\u001b[0m \u001b[1m4s\u001b[0m 21ms/step - accuracy: 0.9997 - loss: 0.0022 - val_accuracy: 0.9821 - val_loss: 0.0705\n",
      "Epoch 13/15\n",
      "\u001b[1m200/200\u001b[0m \u001b[32m━━━━━━━━━━━━━━━━━━━━\u001b[0m\u001b[37m\u001b[0m \u001b[1m4s\u001b[0m 20ms/step - accuracy: 0.9997 - loss: 0.0013 - val_accuracy: 0.9806 - val_loss: 0.0784\n",
      "Epoch 14/15\n",
      "\u001b[1m200/200\u001b[0m \u001b[32m━━━━━━━━━━━━━━━━━━━━\u001b[0m\u001b[37m\u001b[0m \u001b[1m4s\u001b[0m 21ms/step - accuracy: 0.9998 - loss: 0.0011 - val_accuracy: 0.9780 - val_loss: 0.0825\n",
      "Epoch 15/15\n",
      "\u001b[1m200/200\u001b[0m \u001b[32m━━━━━━━━━━━━━━━━━━━━\u001b[0m\u001b[37m\u001b[0m \u001b[1m4s\u001b[0m 21ms/step - accuracy: 0.9996 - loss: 0.0021 - val_accuracy: 0.9817 - val_loss: 0.0734\n"
     ]
    }
   ],
   "source": [
    "# re-create the model to be sure there is no mix-up\n",
    "D = 50\n",
    "i = Input(shape=(T,))\n",
    "x = Embedding(V + 1, D)(i)\n",
    "x = Conv1D(32, 3, activation='relu')(x)\n",
    "x = GlobalMaxPooling1D()(x)\n",
    "x = Dense(K)(x)\n",
    "model = Model(i, x)\n",
    "\n",
    "optm = optimizers.Adam(learning_rate=0.001, beta_1=0.9, beta_2=0.999, amsgrad=False) # these are the default values\n",
    "model.compile(\n",
    "  loss=SparseCategoricalCrossentropy(from_logits=True),\n",
    "  optimizer=optm,\n",
    "  metrics=['accuracy']\n",
    ")\n",
    "\n",
    "r = model.fit(\n",
    "  data_train,\n",
    "  df_train['label'],\n",
    "  epochs=15,\n",
    "  validation_data=(data_test, df_test['label'])\n",
    ")"
   ]
  },
  {
   "cell_type": "code",
   "execution_count": 35,
   "metadata": {},
   "outputs": [
    {
     "data": {
      "image/png": "[encoded data removed]",
      "text/plain": [
       "<Figure size 640x480 with 1 Axes>"
      ]
     },
     "metadata": {},
     "output_type": "display_data"
    }
   ],
   "source": [
    "plt.plot(r.history['accuracy'], label='train acc')\n",
    "plt.plot(r.history['val_accuracy'], label='val acc')\n",
    "plt.legend();"
   ]
  },
  {
   "cell_type": "code",
   "execution_count": null,
   "metadata": {},
   "outputs": [
    {
     "name": "stdout",
     "output_type": "stream",
     "text": [
      "\u001b[1m5/5\u001b[0m \u001b[32m━━━━━━━━━━━━━━━━━━━━\u001b[0m\u001b[37m\u001b[0m \u001b[1m0s\u001b[0m 10ms/step\n",
      "[[0.         0.        ]\n",
      " [0.05298013 0.94701987]]\n"
     ]
    },
    {
     "data": {
      "image/png": "[encoded data removed]",
      "text/plain": [
       "<Figure size 400x300 with 2 Axes>"
      ]
     },
     "metadata": {},
     "output_type": "display_data"
    }
   ],
   "source": [
    "P_val_pos = (model.predict(data_val_pos) > 0) * 1.0\n",
    "P_val_pos = P_val_pos[:, 1] # only positive\n",
    "cm_val_pos = confusion_matrix(curated_pesticide_abstracts['label'], P_val_pos, normalize='true')\n",
    "print(cm_val_pos)\n",
    "utils.plot_confusion_matrix(cm_val_pos, ['control', 'pesticide'])"
   ]
  },
  {
   "cell_type": "markdown",
   "metadata": {},
   "source": [
    "### An (almost) completely negative set"
   ]
  },
  {
   "cell_type": "code",
   "execution_count": 40,
   "metadata": {},
   "outputs": [
    {
     "name": "stdout",
     "output_type": "stream",
     "text": [
      "(2907, 3)\n",
      "(2375, 3)\n",
      "(4708, 3)\n"
     ]
    },
    {
     "data": {
      "text/html": [
       "<div>\n",
       "<style scoped>\n",
       "    .dataframe tbody tr th:only-of-type {\n",
       "        vertical-align: middle;\n",
       "    }\n",
       "\n",
       "    .dataframe tbody tr th {\n",
       "        vertical-align: top;\n",
       "    }\n",
       "\n",
       "    .dataframe thead th {\n",
       "        text-align: right;\n",
       "    }\n",
       "</style>\n",
       "<table border=\"1\" class=\"dataframe\">\n",
       "  <thead>\n",
       "    <tr style=\"text-align: right;\">\n",
       "      <th></th>\n",
       "      <th>pmid</th>\n",
       "      <th>title</th>\n",
       "      <th>abstract</th>\n",
       "      <th>label</th>\n",
       "    </tr>\n",
       "  </thead>\n",
       "  <tbody>\n",
       "    <tr>\n",
       "      <th>0</th>\n",
       "      <td>40205634</td>\n",
       "      <td>A Python package for fast GPU-based proton pen...</td>\n",
       "      <td>Open-source GPU-based Monte Carlo (MC) proton ...</td>\n",
       "      <td>0</td>\n",
       "    </tr>\n",
       "    <tr>\n",
       "      <th>1</th>\n",
       "      <td>40205627</td>\n",
       "      <td>Efficacy and Safety of Direct Oral Anti-Coagul...</td>\n",
       "      <td>Direct oral anticoagulants (DOAC), including d...</td>\n",
       "      <td>0</td>\n",
       "    </tr>\n",
       "    <tr>\n",
       "      <th>2</th>\n",
       "      <td>40205626</td>\n",
       "      <td>Design and validation of a novel dosimetry pha...</td>\n",
       "      <td>We present a novel phantom design for conducti...</td>\n",
       "      <td>0</td>\n",
       "    </tr>\n",
       "    <tr>\n",
       "      <th>3</th>\n",
       "      <td>40205625</td>\n",
       "      <td>Associations of neighbourhood walkability with...</td>\n",
       "      <td>Neighbourhood walkability is known to be posit...</td>\n",
       "      <td>0</td>\n",
       "    </tr>\n",
       "    <tr>\n",
       "      <th>4</th>\n",
       "      <td>40205624</td>\n",
       "      <td>Psychometric evaluation of the problem areas i...</td>\n",
       "      <td>to assesses the psychometric properties of the...</td>\n",
       "      <td>0</td>\n",
       "    </tr>\n",
       "    <tr>\n",
       "      <th>...</th>\n",
       "      <td>...</td>\n",
       "      <td>...</td>\n",
       "      <td>...</td>\n",
       "      <td>...</td>\n",
       "    </tr>\n",
       "    <tr>\n",
       "      <th>4703</th>\n",
       "      <td>39198200</td>\n",
       "      <td>Enhanced functionality and migration of human ...</td>\n",
       "      <td>The maintenance of peri-implant health relies ...</td>\n",
       "      <td>0</td>\n",
       "    </tr>\n",
       "    <tr>\n",
       "      <th>4704</th>\n",
       "      <td>39198199</td>\n",
       "      <td>Effect of build orientation on the wear resist...</td>\n",
       "      <td>This in vitro study investigated the effect of...</td>\n",
       "      <td>0</td>\n",
       "    </tr>\n",
       "    <tr>\n",
       "      <th>4705</th>\n",
       "      <td>39034113</td>\n",
       "      <td>Effect of wall thickness on shape accuracy of ...</td>\n",
       "      <td>This study aimed to analyze how the wall thick...</td>\n",
       "      <td>0</td>\n",
       "    </tr>\n",
       "    <tr>\n",
       "      <th>4706</th>\n",
       "      <td>38925985</td>\n",
       "      <td>Dental human enamel wear caused by ceramic ant...</td>\n",
       "      <td>Fixed restorations and dental enamel have diff...</td>\n",
       "      <td>0</td>\n",
       "    </tr>\n",
       "    <tr>\n",
       "      <th>4707</th>\n",
       "      <td>38853001</td>\n",
       "      <td>Optimizing implant osseointegration, soft tiss...</td>\n",
       "      <td>Titanium implants have revolutionized restorat...</td>\n",
       "      <td>0</td>\n",
       "    </tr>\n",
       "  </tbody>\n",
       "</table>\n",
       "<p>4708 rows × 4 columns</p>\n",
       "</div>"
      ],
      "text/plain": [
       "          pmid                                              title  \\\n",
       "0     40205634  A Python package for fast GPU-based proton pen...   \n",
       "1     40205627  Efficacy and Safety of Direct Oral Anti-Coagul...   \n",
       "2     40205626  Design and validation of a novel dosimetry pha...   \n",
       "3     40205625  Associations of neighbourhood walkability with...   \n",
       "4     40205624  Psychometric evaluation of the problem areas i...   \n",
       "...        ...                                                ...   \n",
       "4703  39198200  Enhanced functionality and migration of human ...   \n",
       "4704  39198199  Effect of build orientation on the wear resist...   \n",
       "4705  39034113  Effect of wall thickness on shape accuracy of ...   \n",
       "4706  38925985  Dental human enamel wear caused by ceramic ant...   \n",
       "4707  38853001  Optimizing implant osseointegration, soft tiss...   \n",
       "\n",
       "                                               abstract  label  \n",
       "0     Open-source GPU-based Monte Carlo (MC) proton ...      0  \n",
       "1     Direct oral anticoagulants (DOAC), including d...      0  \n",
       "2     We present a novel phantom design for conducti...      0  \n",
       "3     Neighbourhood walkability is known to be posit...      0  \n",
       "4     to assesses the psychometric properties of the...      0  \n",
       "...                                                 ...    ...  \n",
       "4703  The maintenance of peri-implant health relies ...      0  \n",
       "4704  This in vitro study investigated the effect of...      0  \n",
       "4705  This study aimed to analyze how the wall thick...      0  \n",
       "4706  Fixed restorations and dental enamel have diff...      0  \n",
       "4707  Titanium implants have revolutionized restorat...      0  \n",
       "\n",
       "[4708 rows x 4 columns]"
      ]
     },
     "execution_count": 40,
     "metadata": {},
     "output_type": "execute_result"
    }
   ],
   "source": [
    "set1 = pd.read_csv('./data/abstracts_2025_04_09.csv', sep='\\t')\n",
    "print(set1.shape)\n",
    "\n",
    "set2 = pd.read_csv('./data/abstracts_2025_04_15.csv', sep='\\t')\n",
    "print(set2.shape)\n",
    "\n",
    "# concat set 1 and set 2\n",
    "baseline_abstracts = pd.concat([set1, set2], axis=0)\n",
    "baseline_abstracts = baseline_abstracts.drop_duplicates(subset=['pmid'], keep='first')\n",
    "baseline_abstracts.dropna(subset=['abstract'], inplace=True)\n",
    "# reset index\n",
    "baseline_abstracts.reset_index(drop=True, inplace=True)\n",
    "\n",
    "print(baseline_abstracts.shape)\n",
    "\n",
    "baseline_abstracts['label'] = 0\n",
    "\n",
    "baseline_abstracts"
   ]
  },
  {
   "cell_type": "code",
   "execution_count": 42,
   "metadata": {},
   "outputs": [],
   "source": [
    "sequences_val_negative = tokenizer.texts_to_sequences(baseline_abstracts[data_selection])\n",
    "data_val_neg = pad_sequences(sequences_val_negative, maxlen=T)"
   ]
  },
  {
   "cell_type": "code",
   "execution_count": 44,
   "metadata": {},
   "outputs": [
    {
     "name": "stdout",
     "output_type": "stream",
     "text": [
      "\u001b[1m148/148\u001b[0m \u001b[32m━━━━━━━━━━━━━━━━━━━━\u001b[0m\u001b[37m\u001b[0m \u001b[1m1s\u001b[0m 5ms/step\n",
      "[[0.71983857 0.28016143]\n",
      " [0.         0.        ]]\n"
     ]
    },
    {
     "data": {
      "image/png": "[encoded data removed]",
      "text/plain": [
       "<Figure size 400x300 with 2 Axes>"
      ]
     },
     "metadata": {},
     "output_type": "display_data"
    }
   ],
   "source": [
    "P_val_neg = (model.predict(data_val_neg) > 0) * 1.0\n",
    "P_val_neg = P_val_neg[:, 1] # only positive\n",
    "cm_val_neg = confusion_matrix(baseline_abstracts['label'], P_val_neg, normalize='true')\n",
    "print(cm_val_neg)\n",
    "utils.plot_confusion_matrix(cm_val_neg, ['control', 'pesticide'])"
   ]
  }
 ],
 "metadata": {
  "kernelspec": {
   "display_name": "nlp",
   "language": "python",
   "name": "nlp"
  },
  "language_info": {
   "codemirror_mode": {
    "name": "ipython",
    "version": 3
   },
   "file_extension": ".py",
   "mimetype": "text/x-python",
   "name": "python",
   "nbconvert_exporter": "python",
   "pygments_lexer": "ipython3",
   "version": "3.12.2"
  }
 },
 "nbformat": 4,
 "nbformat_minor": 2
}
