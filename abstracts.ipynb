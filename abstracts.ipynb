{
 "cells": [
  {
   "cell_type": "markdown",
   "id": "2dd05b56-1d4a-448e-87e6-bbd85cc3210e",
   "metadata": {},
   "source": [
    "# PubMed Abstract analysis"
   ]
  },
  {
   "cell_type": "markdown",
   "id": "dd4a6a02-e524-4cdf-9ba7-abef1066a2ba",
   "metadata": {},
   "source": [
    "## Data source\n",
    "Data was downloaded from\n",
    "https://ironman.tenwisedev.nl/public/abstract_set1_michiel.txt\n",
    "https://ironman.tenwisedev.nl/public/abstract_set2_michiel.txt\n",
    "\n",
    "on feb 6, 2025\n",
    "It was undisclosed which category the abstracts belonged to."
   ]
  },
  {
   "cell_type": "markdown",
   "id": "109608b9-cd76-40ae-a1b0-3db254834997",
   "metadata": {},
   "source": [
    "### All imports of the notebook"
   ]
  },
  {
   "cell_type": "code",
   "execution_count": 1,
   "id": "ec659536-2d1a-4f8f-a8bd-f7b151a3c912",
   "metadata": {},
   "outputs": [],
   "source": [
    "import numpy as np\n",
    "import pandas as pd\n",
    "import matplotlib.pyplot as plt\n",
    "import string\n",
    "\n",
    "from sklearn.model_selection import train_test_split\n",
    "from sklearn.feature_extraction.text import CountVectorizer\n",
    "from sklearn import metrics\n",
    "from sklearn.naive_bayes import MultinomialNB # Naive Bayes\n",
    "\n",
    "import nltk\n",
    "from nltk.stem import WordNetLemmatizer, PorterStemmer\n",
    "from nltk.corpus import wordnet\n",
    "from nltk import word_tokenize\n"
   ]
  },
  {
   "cell_type": "markdown",
   "id": "4aa96449-d928-4700-97d2-7db584329285",
   "metadata": {},
   "source": [
    "### Utility functions"
   ]
  },
  {
   "cell_type": "code",
   "execution_count": 2,
   "id": "759f6afc-65aa-4cdc-b69f-eb9ec5f873f5",
   "metadata": {},
   "outputs": [],
   "source": [
    "def evaluate_model(model, x_train, y_train, x_test, y_test):\n",
    "    print(\"train score:\", model.score(x_train, y_train))\n",
    "    print(\"test score:\", model.score(x_test, y_test))\n",
    "    y_pred = model.predict(x_test)\n",
    "    cnf_matrix = metrics.confusion_matrix(y_test, y_pred)\n",
    "    print(cnf_matrix)"
   ]
  },
  {
   "cell_type": "code",
   "execution_count": 3,
   "id": "910bf418-f805-49d7-90fb-a782a7555bd0",
   "metadata": {},
   "outputs": [],
   "source": [
    "class StemTokenizer:\n",
    "    def __init__(self):\n",
    "        self.porter = PorterStemmer()\n",
    "    def __call__(self, doc):\n",
    "        tokens = word_tokenize(doc)\n",
    "        return [self.porter.stem(t) for t in tokens]"
   ]
  },
  {
   "cell_type": "markdown",
   "id": "626647f9-88a1-48e7-aefc-7872affd6f77",
   "metadata": {},
   "source": [
    "### Read and process the data"
   ]
  },
  {
   "cell_type": "markdown",
   "id": "26750a3a-ddda-4e6f-8a4b-2473acbbc3f6",
   "metadata": {},
   "source": [
    "The files both have these columns:\n",
    "`pmid title abstract`"
   ]
  },
  {
   "cell_type": "code",
   "execution_count": 4,
   "id": "2e49c9a7-2c8f-431d-8841-c63dbfeab97c",
   "metadata": {},
   "outputs": [
    {
     "data": {
      "text/plain": [
       "(4944, 3)"
      ]
     },
     "execution_count": 4,
     "metadata": {},
     "output_type": "execute_result"
    }
   ],
   "source": [
    "set1 = pd.read_csv('./data/abstract_set1.txt', sep='\\t')\n",
    "set1.shape"
   ]
  },
  {
   "cell_type": "code",
   "execution_count": 5,
   "id": "72a90604-a3b7-4c85-b10c-837caf36c6b9",
   "metadata": {},
   "outputs": [
    {
     "data": {
      "text/plain": [
       "(4950, 3)"
      ]
     },
     "execution_count": 5,
     "metadata": {},
     "output_type": "execute_result"
    }
   ],
   "source": [
    "set2 = pd.read_csv('./data/abstract_set2.txt', sep='\\t')\n",
    "set2.shape"
   ]
  },
  {
   "cell_type": "code",
   "execution_count": 6,
   "id": "35efa362-e8a9-43b9-b60d-c77e75b38360",
   "metadata": {},
   "outputs": [
    {
     "data": {
      "text/html": [
       "<div>\n",
       "<style scoped>\n",
       "    .dataframe tbody tr th:only-of-type {\n",
       "        vertical-align: middle;\n",
       "    }\n",
       "\n",
       "    .dataframe tbody tr th {\n",
       "        vertical-align: top;\n",
       "    }\n",
       "\n",
       "    .dataframe thead th {\n",
       "        text-align: right;\n",
       "    }\n",
       "</style>\n",
       "<table border=\"1\" class=\"dataframe\">\n",
       "  <thead>\n",
       "    <tr style=\"text-align: right;\">\n",
       "      <th></th>\n",
       "      <th>pmid</th>\n",
       "      <th>title</th>\n",
       "      <th>abstract</th>\n",
       "      <th>label</th>\n",
       "    </tr>\n",
       "  </thead>\n",
       "  <tbody>\n",
       "    <tr>\n",
       "      <th>0</th>\n",
       "      <td>29990300</td>\n",
       "      <td>Oxidative stress in triazine pesticide toxicit...</td>\n",
       "      <td>This review article provides a summary of the ...</td>\n",
       "      <td>1</td>\n",
       "    </tr>\n",
       "    <tr>\n",
       "      <th>1</th>\n",
       "      <td>29990732</td>\n",
       "      <td>Toxicity induced by glyphosate and glyphosate-...</td>\n",
       "      <td>Glyphosate is the active component of many com...</td>\n",
       "      <td>1</td>\n",
       "    </tr>\n",
       "    <tr>\n",
       "      <th>2</th>\n",
       "      <td>29999060</td>\n",
       "      <td>Direct kinetics study of CH2OO + methyl vinyl ...</td>\n",
       "      <td>Methyl vinyl ketone (MVK) and methacrolein (MA...</td>\n",
       "      <td>1</td>\n",
       "    </tr>\n",
       "    <tr>\n",
       "      <th>3</th>\n",
       "      <td>30003825</td>\n",
       "      <td>Dihydromyricetin improves vascular hyporespons...</td>\n",
       "      <td>CONTEXT: Dihydromyricetin (DMY) has oxidation ...</td>\n",
       "      <td>1</td>\n",
       "    </tr>\n",
       "    <tr>\n",
       "      <th>4</th>\n",
       "      <td>30015122</td>\n",
       "      <td>Glyphosate and atrazine in rainfall and soils ...</td>\n",
       "      <td>The presence in the atmosphere of glyphosate (...</td>\n",
       "      <td>1</td>\n",
       "    </tr>\n",
       "  </tbody>\n",
       "</table>\n",
       "</div>"
      ],
      "text/plain": [
       "       pmid                                              title  \\\n",
       "0  29990300  Oxidative stress in triazine pesticide toxicit...   \n",
       "1  29990732  Toxicity induced by glyphosate and glyphosate-...   \n",
       "2  29999060  Direct kinetics study of CH2OO + methyl vinyl ...   \n",
       "3  30003825  Dihydromyricetin improves vascular hyporespons...   \n",
       "4  30015122  Glyphosate and atrazine in rainfall and soils ...   \n",
       "\n",
       "                                            abstract  label  \n",
       "0  This review article provides a summary of the ...      1  \n",
       "1  Glyphosate is the active component of many com...      1  \n",
       "2  Methyl vinyl ketone (MVK) and methacrolein (MA...      1  \n",
       "3  CONTEXT: Dihydromyricetin (DMY) has oxidation ...      1  \n",
       "4  The presence in the atmosphere of glyphosate (...      1  "
      ]
     },
     "execution_count": 6,
     "metadata": {},
     "output_type": "execute_result"
    }
   ],
   "source": [
    "set1['label'] = 1\n",
    "set1.head()"
   ]
  },
  {
   "cell_type": "code",
   "execution_count": 7,
   "id": "1405dd22-c485-4288-ad65-12c1c2d04963",
   "metadata": {},
   "outputs": [
    {
     "data": {
      "text/html": [
       "<div>\n",
       "<style scoped>\n",
       "    .dataframe tbody tr th:only-of-type {\n",
       "        vertical-align: middle;\n",
       "    }\n",
       "\n",
       "    .dataframe tbody tr th {\n",
       "        vertical-align: top;\n",
       "    }\n",
       "\n",
       "    .dataframe thead th {\n",
       "        text-align: right;\n",
       "    }\n",
       "</style>\n",
       "<table border=\"1\" class=\"dataframe\">\n",
       "  <thead>\n",
       "    <tr style=\"text-align: right;\">\n",
       "      <th></th>\n",
       "      <th>pmid</th>\n",
       "      <th>title</th>\n",
       "      <th>abstract</th>\n",
       "      <th>label</th>\n",
       "    </tr>\n",
       "  </thead>\n",
       "  <tbody>\n",
       "    <tr>\n",
       "      <th>0</th>\n",
       "      <td>29981025</td>\n",
       "      <td>Impact of Neoadjuvant Chemotherapy on Breast C...</td>\n",
       "      <td>BACKGROUND: Breast cancer subtype, as determin...</td>\n",
       "      <td>0</td>\n",
       "    </tr>\n",
       "    <tr>\n",
       "      <th>1</th>\n",
       "      <td>29984001</td>\n",
       "      <td>Expert-Performed Endotracheal Intubation-Relat...</td>\n",
       "      <td>The aim of this study was to determine complic...</td>\n",
       "      <td>0</td>\n",
       "    </tr>\n",
       "    <tr>\n",
       "      <th>2</th>\n",
       "      <td>29988545</td>\n",
       "      <td>A case report: Addison disease caused by adren...</td>\n",
       "      <td>We report middle age man with skin hyperpigmen...</td>\n",
       "      <td>0</td>\n",
       "    </tr>\n",
       "    <tr>\n",
       "      <th>3</th>\n",
       "      <td>29998100</td>\n",
       "      <td>An Unusual Morphological Presentation of Cutan...</td>\n",
       "      <td>Cutaneous squamous cell carcinoma (SCC) exhibi...</td>\n",
       "      <td>0</td>\n",
       "    </tr>\n",
       "    <tr>\n",
       "      <th>4</th>\n",
       "      <td>29999256</td>\n",
       "      <td>Informing Consent: Medical Malpractice and the...</td>\n",
       "      <td>Since the early 1990s, jurisdictions around th...</td>\n",
       "      <td>0</td>\n",
       "    </tr>\n",
       "  </tbody>\n",
       "</table>\n",
       "</div>"
      ],
      "text/plain": [
       "       pmid                                              title  \\\n",
       "0  29981025  Impact of Neoadjuvant Chemotherapy on Breast C...   \n",
       "1  29984001  Expert-Performed Endotracheal Intubation-Relat...   \n",
       "2  29988545  A case report: Addison disease caused by adren...   \n",
       "3  29998100  An Unusual Morphological Presentation of Cutan...   \n",
       "4  29999256  Informing Consent: Medical Malpractice and the...   \n",
       "\n",
       "                                            abstract  label  \n",
       "0  BACKGROUND: Breast cancer subtype, as determin...      0  \n",
       "1  The aim of this study was to determine complic...      0  \n",
       "2  We report middle age man with skin hyperpigmen...      0  \n",
       "3  Cutaneous squamous cell carcinoma (SCC) exhibi...      0  \n",
       "4  Since the early 1990s, jurisdictions around th...      0  "
      ]
     },
     "execution_count": 7,
     "metadata": {},
     "output_type": "execute_result"
    }
   ],
   "source": [
    "set2['label'] = 0\n",
    "set2.head()"
   ]
  },
  {
   "cell_type": "code",
   "execution_count": 8,
   "id": "757abd56-a14d-4b7f-b17b-8d8405c7ad69",
   "metadata": {},
   "outputs": [
    {
     "name": "stdout",
     "output_type": "stream",
     "text": [
      "(9894, 4)\n",
      "(9110, 4)\n"
     ]
    },
    {
     "data": {
      "text/html": [
       "<div>\n",
       "<style scoped>\n",
       "    .dataframe tbody tr th:only-of-type {\n",
       "        vertical-align: middle;\n",
       "    }\n",
       "\n",
       "    .dataframe tbody tr th {\n",
       "        vertical-align: top;\n",
       "    }\n",
       "\n",
       "    .dataframe thead th {\n",
       "        text-align: right;\n",
       "    }\n",
       "</style>\n",
       "<table border=\"1\" class=\"dataframe\">\n",
       "  <thead>\n",
       "    <tr style=\"text-align: right;\">\n",
       "      <th></th>\n",
       "      <th>pmid</th>\n",
       "      <th>title</th>\n",
       "      <th>abstract</th>\n",
       "      <th>label</th>\n",
       "    </tr>\n",
       "  </thead>\n",
       "  <tbody>\n",
       "    <tr>\n",
       "      <th>0</th>\n",
       "      <td>29990300</td>\n",
       "      <td>Oxidative stress in triazine pesticide toxicit...</td>\n",
       "      <td>This review article provides a summary of the ...</td>\n",
       "      <td>1</td>\n",
       "    </tr>\n",
       "    <tr>\n",
       "      <th>1</th>\n",
       "      <td>29990732</td>\n",
       "      <td>Toxicity induced by glyphosate and glyphosate-...</td>\n",
       "      <td>Glyphosate is the active component of many com...</td>\n",
       "      <td>1</td>\n",
       "    </tr>\n",
       "    <tr>\n",
       "      <th>2</th>\n",
       "      <td>29999060</td>\n",
       "      <td>Direct kinetics study of CH2OO + methyl vinyl ...</td>\n",
       "      <td>Methyl vinyl ketone (MVK) and methacrolein (MA...</td>\n",
       "      <td>1</td>\n",
       "    </tr>\n",
       "    <tr>\n",
       "      <th>3</th>\n",
       "      <td>30003825</td>\n",
       "      <td>Dihydromyricetin improves vascular hyporespons...</td>\n",
       "      <td>CONTEXT: Dihydromyricetin (DMY) has oxidation ...</td>\n",
       "      <td>1</td>\n",
       "    </tr>\n",
       "    <tr>\n",
       "      <th>4</th>\n",
       "      <td>30015122</td>\n",
       "      <td>Glyphosate and atrazine in rainfall and soils ...</td>\n",
       "      <td>The presence in the atmosphere of glyphosate (...</td>\n",
       "      <td>1</td>\n",
       "    </tr>\n",
       "  </tbody>\n",
       "</table>\n",
       "</div>"
      ],
      "text/plain": [
       "       pmid                                              title  \\\n",
       "0  29990300  Oxidative stress in triazine pesticide toxicit...   \n",
       "1  29990732  Toxicity induced by glyphosate and glyphosate-...   \n",
       "2  29999060  Direct kinetics study of CH2OO + methyl vinyl ...   \n",
       "3  30003825  Dihydromyricetin improves vascular hyporespons...   \n",
       "4  30015122  Glyphosate and atrazine in rainfall and soils ...   \n",
       "\n",
       "                                            abstract  label  \n",
       "0  This review article provides a summary of the ...      1  \n",
       "1  Glyphosate is the active component of many com...      1  \n",
       "2  Methyl vinyl ketone (MVK) and methacrolein (MA...      1  \n",
       "3  CONTEXT: Dihydromyricetin (DMY) has oxidation ...      1  \n",
       "4  The presence in the atmosphere of glyphosate (...      1  "
      ]
     },
     "execution_count": 8,
     "metadata": {},
     "output_type": "execute_result"
    }
   ],
   "source": [
    "data = pd.concat([set1, set2])\n",
    "print(data.shape)\n",
    "# drop rows without abstract\n",
    "data = data.dropna()\n",
    "print(data.shape)\n",
    "data.head()"
   ]
  },
  {
   "cell_type": "code",
   "execution_count": 10,
   "id": "3f949fa1-9fc4-4e81-9314-89ec57c072ee",
   "metadata": {},
   "outputs": [
    {
     "data": {
      "text/html": [
       "<div>\n",
       "<style scoped>\n",
       "    .dataframe tbody tr th:only-of-type {\n",
       "        vertical-align: middle;\n",
       "    }\n",
       "\n",
       "    .dataframe tbody tr th {\n",
       "        vertical-align: top;\n",
       "    }\n",
       "\n",
       "    .dataframe thead th {\n",
       "        text-align: right;\n",
       "    }\n",
       "</style>\n",
       "<table border=\"1\" class=\"dataframe\">\n",
       "  <thead>\n",
       "    <tr style=\"text-align: right;\">\n",
       "      <th></th>\n",
       "      <th>pmid</th>\n",
       "      <th>title</th>\n",
       "      <th>abstract</th>\n",
       "      <th>label</th>\n",
       "      <th>all_text</th>\n",
       "    </tr>\n",
       "  </thead>\n",
       "  <tbody>\n",
       "    <tr>\n",
       "      <th>0</th>\n",
       "      <td>29990300</td>\n",
       "      <td>oxidative stress in triazine pesticide toxicit...</td>\n",
       "      <td>this review article provides a summary of the ...</td>\n",
       "      <td>1</td>\n",
       "      <td>oxidative stress in triazine pesticide toxicit...</td>\n",
       "    </tr>\n",
       "    <tr>\n",
       "      <th>1</th>\n",
       "      <td>29990732</td>\n",
       "      <td>toxicity induced by glyphosate and glyphosate-...</td>\n",
       "      <td>glyphosate is the active component of many com...</td>\n",
       "      <td>1</td>\n",
       "      <td>toxicity induced by glyphosate and glyphosate-...</td>\n",
       "    </tr>\n",
       "    <tr>\n",
       "      <th>2</th>\n",
       "      <td>29999060</td>\n",
       "      <td>direct kinetics study of ch2oo + methyl vinyl ...</td>\n",
       "      <td>methyl vinyl ketone (mvk) and methacrolein (ma...</td>\n",
       "      <td>1</td>\n",
       "      <td>direct kinetics study of ch2oo + methyl vinyl ...</td>\n",
       "    </tr>\n",
       "    <tr>\n",
       "      <th>3</th>\n",
       "      <td>30003825</td>\n",
       "      <td>dihydromyricetin improves vascular hyporespons...</td>\n",
       "      <td>context: dihydromyricetin (dmy) has oxidation ...</td>\n",
       "      <td>1</td>\n",
       "      <td>dihydromyricetin improves vascular hyporespons...</td>\n",
       "    </tr>\n",
       "    <tr>\n",
       "      <th>4</th>\n",
       "      <td>30015122</td>\n",
       "      <td>glyphosate and atrazine in rainfall and soils ...</td>\n",
       "      <td>the presence in the atmosphere of glyphosate (...</td>\n",
       "      <td>1</td>\n",
       "      <td>glyphosate and atrazine in rainfall and soils ...</td>\n",
       "    </tr>\n",
       "  </tbody>\n",
       "</table>\n",
       "</div>"
      ],
      "text/plain": [
       "       pmid                                              title  \\\n",
       "0  29990300  oxidative stress in triazine pesticide toxicit...   \n",
       "1  29990732  toxicity induced by glyphosate and glyphosate-...   \n",
       "2  29999060  direct kinetics study of ch2oo + methyl vinyl ...   \n",
       "3  30003825  dihydromyricetin improves vascular hyporespons...   \n",
       "4  30015122  glyphosate and atrazine in rainfall and soils ...   \n",
       "\n",
       "                                            abstract  label  \\\n",
       "0  this review article provides a summary of the ...      1   \n",
       "1  glyphosate is the active component of many com...      1   \n",
       "2  methyl vinyl ketone (mvk) and methacrolein (ma...      1   \n",
       "3  context: dihydromyricetin (dmy) has oxidation ...      1   \n",
       "4  the presence in the atmosphere of glyphosate (...      1   \n",
       "\n",
       "                                            all_text  \n",
       "0  oxidative stress in triazine pesticide toxicit...  \n",
       "1  toxicity induced by glyphosate and glyphosate-...  \n",
       "2  direct kinetics study of ch2oo + methyl vinyl ...  \n",
       "3  dihydromyricetin improves vascular hyporespons...  \n",
       "4  glyphosate and atrazine in rainfall and soils ...  "
      ]
     },
     "execution_count": 10,
     "metadata": {},
     "output_type": "execute_result"
    }
   ],
   "source": [
    "#remove punctuation\n",
    "# punct = '!\"#$%&\\'()*+,-./:;<=>?@[\\\\]^_`{}~'   # `|` is not present here\n",
    "# transtab = str.maketrans(dict.fromkeys(punct, ''))\n",
    "#df['text'] = '|'.join(df['text'].tolist()).translate(transtab).split('|')\n",
    "\n",
    "# data['abstract'] = data['abstract'].str.translate(transtab)\n",
    "# data['title'] = data['title'].str.translate(transtab)\n",
    "\n",
    "## lowercasing\n",
    "data['title'] = data['title'].str.lower()\n",
    "data['abstract'] = data['abstract'].str.lower()\n",
    "\n",
    "# combine title and abstract\n",
    "data['all_text'] = data['title'] + \" \" + data['abstract']\n",
    "data.head()"
   ]
  },
  {
   "cell_type": "code",
   "execution_count": 11,
   "id": "57f411fc-f50f-4cd7-bfe2-ab20e5d68fbc",
   "metadata": {},
   "outputs": [
    {
     "data": {
      "text/plain": [
       "<Axes: >"
      ]
     },
     "execution_count": 11,
     "metadata": {},
     "output_type": "execute_result"
    },
    {
     "data": {
      "image/png": "[encoded data removed]",
      "text/plain": [
       "<Figure size 640x480 with 1 Axes>"
      ]
     },
     "metadata": {},
     "output_type": "display_data"
    }
   ],
   "source": [
    "data['label'].hist()"
   ]
  },
  {
   "cell_type": "markdown",
   "id": "3c9e12d6-b6c0-4e1a-8b59-0b0973593bc0",
   "metadata": {},
   "source": [
    "### Create train and test data -- don't touch this!"
   ]
  },
  {
   "cell_type": "code",
   "execution_count": 12,
   "id": "20f68f67-be38-4c62-8f5b-95c41db13745",
   "metadata": {},
   "outputs": [],
   "source": [
    "x_train, x_test, y_train, y_test = train_test_split(\n",
    "    data['title'], data['label'], random_state=123)\n",
    "\n",
    "#y_test.head()"
   ]
  },
  {
   "cell_type": "markdown",
   "id": "8d9efba8-c638-4745-9ace-30f8578954e3",
   "metadata": {},
   "source": [
    "## Bag-of-Words classification using Multinomial Naive Bayes\n",
    "### Tokenize"
   ]
  },
  {
   "cell_type": "code",
   "execution_count": 13,
   "id": "0207ba6e-d793-4d31-b14d-13dd0c516968",
   "metadata": {},
   "outputs": [
    {
     "data": {
      "text/plain": [
       "(6832, 15194)"
      ]
     },
     "execution_count": 13,
     "metadata": {},
     "output_type": "execute_result"
    }
   ],
   "source": [
    "vectorizer = CountVectorizer(stop_words='english') #, tokenizer=StemTokenizer()# does not add to performance\n",
    "x_train_cv = vectorizer.fit_transform(x_train)\n",
    "x_test_cv = vectorizer.transform(x_test)\n",
    "# Note the use of different functions for train and test data !\n",
    "\n",
    "x_train_cv.shape # is a sparse matrix!"
   ]
  },
  {
   "cell_type": "code",
   "execution_count": 14,
   "id": "d1392e36-51f0-4750-a1de-b940a2c9f8f6",
   "metadata": {},
   "outputs": [
    {
     "data": {
      "text/plain": [
       "0.0006906865584498257"
      ]
     },
     "execution_count": 14,
     "metadata": {},
     "output_type": "execute_result"
    }
   ],
   "source": [
    "# what percentage of values are non-zero?\n",
    "(x_train_cv != 0).sum() / np.prod(x_train_cv.shape)"
   ]
  },
  {
   "cell_type": "markdown",
   "id": "28187253-ba3c-43cc-9866-81f23e449afc",
   "metadata": {},
   "source": [
    "### apply model Naive Bayes"
   ]
  },
  {
   "cell_type": "code",
   "execution_count": 15,
   "id": "0bf8abd6-b5c3-42b3-bb0d-c3a037af7e77",
   "metadata": {},
   "outputs": [
    {
     "name": "stdout",
     "output_type": "stream",
     "text": [
      "train score: 0.9540398126463701\n",
      "test score: 0.9016681299385426\n",
      "[[1004  103]\n",
      " [ 121 1050]]\n"
     ]
    }
   ],
   "source": [
    "model = MultinomialNB() \n",
    "model.fit(x_train_cv, y_train)\n",
    "\n",
    "evaluate_model(model, x_train_cv, y_train, x_test_cv, y_test)\n"
   ]
  },
  {
   "cell_type": "markdown",
   "id": "518f30a6-0d77-4dab-ad6f-3ec7651604da",
   "metadata": {},
   "source": [
    "Notes:\n",
    "* this model performs better when punctuation characters are not removed.\n",
    "* classifying with `title` only is worse than with the `abstract`\n",
    "* classifying with `all_text` is similar to only the `abstract`"
   ]
  },
  {
   "cell_type": "markdown",
   "id": "e4d51a41-8a5b-42a5-93a3-09fa2bdce8b9",
   "metadata": {},
   "source": [
    "## Markov model text classification"
   ]
  },
  {
   "cell_type": "markdown",
   "id": "c6c21d74-50eb-4b58-b9c7-986c43fbc4d3",
   "metadata": {},
   "source": [
    "Steps:\n",
    "1. Create mapping from unique word to unique integer index\n",
    "2. Loop data, tokenize all text\n",
    "3. create a special index for unknown words\n",
    "4. convert each sample of text to integer representation\n",
    "5. train a Markov model for each class\n",
    "6. Don't forget to use smoothing and whether you need A and pi or log(A) and log(pi)\n",
    "7. For Bayes'  rule: compute the priors: p(class=k)\n",
    "8. Write a function to compute the posterior for each class, given an input\n",
    "9. Take the argmax of the posteriors to get the predicted class\n",
    "10. Make predictions for train/test\n",
    "11. check class impalance\n",
    "12. if imbalanced, check confusion matrix and F1 score\n",
    "13. "
   ]
  },
  {
   "cell_type": "markdown",
   "id": "d66dcbc7",
   "metadata": {},
   "source": [
    "## First with example set"
   ]
  },
  {
   "cell_type": "code",
   "execution_count": 34,
   "id": "378a7d55",
   "metadata": {},
   "outputs": [
    {
     "name": "stdout",
     "output_type": "stream",
     "text": [
      "--2025-02-12 16:04:37--  https://raw.githubusercontent.com/lazyprogrammer/machine_learning_examples/master/hmm_class/edgar_allan_poe.txt\n",
      "Resolving raw.githubusercontent.com (raw.githubusercontent.com)... 185.199.110.133, 185.199.108.133, 185.199.109.133, ...\n",
      "Connecting to raw.githubusercontent.com (raw.githubusercontent.com)|185.199.110.133|:443... connected.\n",
      "HTTP request sent, awaiting response... 200 OK\n",
      "Length: 26622 (26K) [text/plain]\n",
      "Saving to: ‘edgar_allan_poe.txt’\n",
      "\n",
      "edgar_allan_poe.txt 100%[===================>]  26.00K  --.-KB/s    in 0.001s  \n",
      "\n",
      "2025-02-12 16:04:37 (45.0 MB/s) - ‘edgar_allan_poe.txt’ saved [26622/26622]\n",
      "\n",
      "--2025-02-12 16:04:37--  https://raw.githubusercontent.com/lazyprogrammer/machine_learning_examples/master/hmm_class/robert_frost.txt\n",
      "Resolving raw.githubusercontent.com (raw.githubusercontent.com)... 185.199.110.133, 185.199.108.133, 185.199.109.133, ...\n",
      "Connecting to raw.githubusercontent.com (raw.githubusercontent.com)|185.199.110.133|:443... connected.\n",
      "HTTP request sent, awaiting response... 200 OK\n",
      "Length: 56286 (55K) [text/plain]\n",
      "Saving to: ‘robert_frost.txt’\n",
      "\n",
      "robert_frost.txt    100%[===================>]  54.97K  --.-KB/s    in 0.004s  \n",
      "\n",
      "2025-02-12 16:04:38 (14.5 MB/s) - ‘robert_frost.txt’ saved [56286/56286]\n",
      "\n"
     ]
    }
   ],
   "source": [
    "# !wget -nc https://raw.githubusercontent.com/lazyprogrammer/machine_learning_examples/master/hmm_class/edgar_allan_poe.txt\n",
    "# !wget -nc https://raw.githubusercoantent.com/lazyprogrammer/machine_learning_examples/master/hmm_class/robert_frost.txt"
   ]
  },
  {
   "cell_type": "code",
   "execution_count": 33,
   "id": "d8a76288",
   "metadata": {},
   "outputs": [],
   "source": [
    "input_files = [\n",
    "  'data/edgar_allan_poe.txt',\n",
    "  'data/robert_frost.txt',\n",
    "]"
   ]
  },
  {
   "cell_type": "code",
   "execution_count": 34,
   "id": "303f9031",
   "metadata": {},
   "outputs": [
    {
     "name": "stdout",
     "output_type": "stream",
     "text": [
      "LO! Death hath rear'd himself a throne\r\n",
      "In a strange city, all alone,\r\n",
      "Far down within the dim west\r\n",
      "Where the good, and the bad, and the worst, and the best,\r\n",
      "Have gone to their eternal rest.\r\n",
      " \r\n",
      "There shrines, and palaces, and towers\r\n",
      "Are not like any thing of ours\r\n",
      "Oh no! O no! ours never loom\r\n",
      "To heaven with that ungodly gloom!\r\n"
     ]
    }
   ],
   "source": [
    "!head data/edgar_allan_poe.txt"
   ]
  },
  {
   "cell_type": "code",
   "execution_count": 35,
   "id": "f57b433a",
   "metadata": {},
   "outputs": [
    {
     "name": "stdout",
     "output_type": "stream",
     "text": [
      "Two roads diverged in a yellow wood,\r\n",
      "And sorry I could not travel both\r\n",
      "And be one traveler, long I stood\r\n",
      "And looked down one as far as I could\r\n",
      "To where it bent in the undergrowth; \r\n",
      "\r\n",
      "Then took the other, as just as fair,\r\n",
      "And having perhaps the better claim\r\n",
      "Because it was grassy and wanted wear,\r\n",
      "Though as for that the passing there\r\n"
     ]
    }
   ],
   "source": [
    "!head data/robert_frost.txt"
   ]
  },
  {
   "cell_type": "code",
   "execution_count": 36,
   "id": "bbc3584a",
   "metadata": {},
   "outputs": [
    {
     "name": "stdout",
     "output_type": "stream",
     "text": [
      "data/edgar_allan_poe.txt corresponds to label 0\n",
      "data/robert_frost.txt corresponds to label 1\n"
     ]
    }
   ],
   "source": [
    "# collect data into lists\n",
    "input_texts = []\n",
    "labels = []\n",
    "\n",
    "for label, f in enumerate(input_files):\n",
    "  print(f\"{f} corresponds to label {label}\")\n",
    "\n",
    "  for line in open(f):\n",
    "    line = line.rstrip().lower()\n",
    "    if line:\n",
    "      # remove punctuation\n",
    "      line = line.translate(str.maketrans('', '', string.punctuation))\n",
    "\n",
    "      input_texts.append(line)\n",
    "      labels.append(label)"
   ]
  },
  {
   "cell_type": "code",
   "execution_count": 37,
   "id": "b54c8be9",
   "metadata": {},
   "outputs": [
    {
     "data": {
      "text/plain": [
       "(1615, 539)"
      ]
     },
     "execution_count": 37,
     "metadata": {},
     "output_type": "execute_result"
    }
   ],
   "source": [
    "x_train, x_test, y_train, y_test = train_test_split(input_texts, labels)\n",
    "(len(y_train), len(y_test))"
   ]
  },
  {
   "cell_type": "code",
   "execution_count": 17,
   "id": "db70029d",
   "metadata": {},
   "outputs": [
    {
     "data": {
      "text/plain": [
       "652     The effects of chlordane and rotenone on the a...\n",
       "4431    Clinical features and power spectral entropy o...\n",
       "2851    Phonemic verbal fluency decline after subthala...\n",
       "4792    Effect of beta-cypermethrin on the reproductiv...\n",
       "1317    Switching between simple cognitive tasks: the ...\n",
       "Name: title, dtype: object"
      ]
     },
     "execution_count": 17,
     "metadata": {},
     "output_type": "execute_result"
    }
   ],
   "source": [
    "x_train[:5]"
   ]
  },
  {
   "cell_type": "markdown",
   "id": "9576b2da-924c-4b91-bb07-095688944533",
   "metadata": {},
   "source": [
    "### Preprocess data -- PROCEED HERE WITH ABSTRACT DATA"
   ]
  },
  {
   "cell_type": "code",
   "execution_count": 16,
   "id": "aad5571b-6ad2-4482-a5d8-87a107339688",
   "metadata": {},
   "outputs": [],
   "source": [
    "idx = 1\n",
    "word2idx = {'<unk>': 0}\n",
    "# populate word2idx\n",
    "for text in x_train:\n",
    "    tokens = text.split()\n",
    "    for token in tokens:\n",
    "      if token not in word2idx:\n",
    "        word2idx[token] = idx\n",
    "        idx += 1"
   ]
  },
  {
   "cell_type": "code",
   "execution_count": 17,
   "id": "a6a95d0a-21d6-40af-91d8-8008b1c3df13",
   "metadata": {},
   "outputs": [
    {
     "data": {
      "text/plain": [
       "21433"
      ]
     },
     "execution_count": 17,
     "metadata": {},
     "output_type": "execute_result"
    }
   ],
   "source": [
    "#word2idx\n",
    "len(word2idx)"
   ]
  },
  {
   "cell_type": "code",
   "execution_count": 20,
   "id": "86908317-6f29-4971-a877-52c5e18fe21b",
   "metadata": {},
   "outputs": [],
   "source": [
    "# convert data into integer format\n",
    "train_text_int = []\n",
    "test_text_int = []\n",
    "\n",
    "for text in x_train:\n",
    "    tokens = text.split()\n",
    "    line_as_int = [word2idx[token] for token in tokens]\n",
    "    train_text_int.append(line_as_int)\n",
    "\n",
    "for text in x_test:\n",
    "    tokens = text.split()\n",
    "    line_as_int = [word2idx.get(token, 0) for token in tokens] # default value of zero corresponds to the '<unk>' token\n",
    "    test_text_int.append(line_as_int)"
   ]
  },
  {
   "cell_type": "code",
   "execution_count": 21,
   "id": "f7c4a172-5a03-45a5-9f4d-007d85e73aed",
   "metadata": {},
   "outputs": [
    {
     "name": "stdout",
     "output_type": "stream",
     "text": [
      "[[44, 3, 976, 977, 978, 7, 466, 979, 980, 19, 8, 981], [982, 983, 5, 984, 985, 121, 19, 986, 22, 987, 988, 3, 989, 990], [991, 992, 993, 994, 995, 996, 997, 5, 998, 144, 8, 999, 464, 3, 953, 1000, 1001], [1002, 1003, 1004, 737, 19, 387, 349, 894, 123, 1005, 1006, 1007, 1008, 1009], [1010, 5, 1011, 1012, 1013, 5, 1014, 1015, 3, 1016, 19, 109, 1017, 1018, 1019, 7, 100, 1020, 896]]\n"
     ]
    }
   ],
   "source": [
    "print(train_text_int[100:105])"
   ]
  },
  {
   "cell_type": "code",
   "execution_count": 22,
   "id": "2c263f3a-583d-4505-9eb8-c84898f75c41",
   "metadata": {},
   "outputs": [
    {
     "name": "stdout",
     "output_type": "stream",
     "text": [
      "25375\n"
     ]
    }
   ],
   "source": [
    "print(len(word2idx)) # 129470\n",
    "## initialize A and pi matrices - for both classes\n",
    "V = len(word2idx) # V = Vocabulary size\n",
    "\n",
    "## THIS IS JUST TOO MUCH GIVEN THE CURRENT DATASET!\n",
    "A0 = np.ones((V, V)) # initialize with ones because of add-one smoothing\n",
    "pi0 = np.ones(V)\n",
    "\n",
    "A1 = np.ones((V, V))\n",
    "pi1 = np.ones(V)"
   ]
  },
  {
   "cell_type": "code",
   "execution_count": 23,
   "id": "015a12fc",
   "metadata": {},
   "outputs": [],
   "source": [
    "# compute counts for A and pi\n",
    "def compute_counts(text_as_int, A, pi):\n",
    "    for tokens in text_as_int: # looping each line of the text represented as ints\n",
    "        last_idx = None        # to keep track whether A or pi are populated\n",
    "        for idx in tokens:\n",
    "            if last_idx is None:\n",
    "                # it's the first word in a sentence\n",
    "                pi[idx] += 1\n",
    "            else:\n",
    "                # the last word exists, so count a transition\n",
    "                A[last_idx, idx] += 1\n",
    "\n",
    "            # update last idx\n",
    "            last_idx = idx\n",
    "\n",
    "#populate for labels 0 and 1\n",
    "compute_counts([t for t, y in zip(train_text_int, y_train) if y == 0], A0, pi0) \n",
    "compute_counts([t for t, y in zip(train_text_int, y_train) if y == 1], A1, pi1)"
   ]
  },
  {
   "cell_type": "code",
   "execution_count": 24,
   "id": "259ec69c",
   "metadata": {},
   "outputs": [],
   "source": [
    "# normalize A and pi so they are valid probability matrices\n",
    "# convince yourself that this is equivalent to the formulas shown before\n",
    "A0 /= A0.sum(axis=1, keepdims=True) # rows must sum to one; keepdims=True ensures that the sumn is still 2-dimensional\n",
    "pi0 /= pi0.sum()\n",
    "\n",
    "A1 /= A1.sum(axis=1, keepdims=True)\n",
    "pi1 /= pi1.sum()"
   ]
  },
  {
   "cell_type": "code",
   "execution_count": 25,
   "id": "a5319e22",
   "metadata": {},
   "outputs": [],
   "source": [
    "# log A and pi since we don't need the actual  -> axis = 1\n",
    "logA0 = np.log(A0)\n",
    "logpi0 = np.log(pi0)\n",
    "\n",
    "logA1 = np.log(A1)\n",
    "logpi1 = np.log(pi1)"
   ]
  },
  {
   "cell_type": "code",
   "execution_count": 26,
   "id": "6b345fa9",
   "metadata": {},
   "outputs": [
    {
     "name": "stdout",
     "output_type": "stream",
     "text": [
      "3311 3521\n"
     ]
    },
    {
     "data": {
      "text/plain": [
       "(0.48463114754098363, 0.5153688524590164)"
      ]
     },
     "execution_count": 26,
     "metadata": {},
     "output_type": "execute_result"
    }
   ],
   "source": [
    "# compute priors\n",
    "count0 = sum(y == 0 for y in y_train)\n",
    "count1 = sum(y == 1 for y in y_train)\n",
    "print(count0, count1)\n",
    "total = len(y_train)\n",
    "p0 = count0 / total\n",
    "p1 = count1 / total\n",
    "logp0 = np.log(p0)\n",
    "logp1 = np.log(p1)\n",
    "p0, p1"
   ]
  },
  {
   "cell_type": "markdown",
   "id": "b584547f-e16a-4d12-a9ae-8aecc5be51b9",
   "metadata": {},
   "source": [
    "When p0 and p1 are reosonably close, it does not makes sence to use the maximum likelyhood method; \n",
    "instead look at the posterior which correponds to the map(?) method.\n",
    "Since the classes are (slightly) imbalanced, a metric other than accuracy is approprioate: f1-score\n"
   ]
  },
  {
   "cell_type": "code",
   "execution_count": 27,
   "id": "676718bf",
   "metadata": {},
   "outputs": [],
   "source": [
    "# build a classifier\n",
    "class Classifier:\n",
    "    def __init__(self, logAs, logpis, logpriors):\n",
    "        self.logAs = logAs\n",
    "        self.logpis = logpis\n",
    "        self.logpriors = logpriors\n",
    "        self.K = len(logpriors) # number of classes\n",
    "\n",
    "    def _compute_log_likelihood(self, input_, class_):\n",
    "        '''uses an input text (as ints) and a proposed class'''\n",
    "        logA = self.logAs[class_]\n",
    "        logpi = self.logpis[class_]\n",
    "\n",
    "        last_idx = None\n",
    "        logprob = 0\n",
    "        for idx in input_:\n",
    "            if last_idx is None:\n",
    "                # it's the first token\n",
    "                logprob += logpi[idx]\n",
    "            else:\n",
    "                logprob += logA[last_idx, idx]\n",
    "            # update last_idx\n",
    "            last_idx = idx\n",
    "        return logprob\n",
    "  \n",
    "    def predict(self, inputs):\n",
    "        predictions = np.zeros(len(inputs))\n",
    "        for i, input_ in enumerate(inputs):\n",
    "            posteriors = [self._compute_log_likelihood(input_, c) + self.logpriors[c] \\\n",
    "                 for c in range(self.K)]\n",
    "            pred = np.argmax(posteriors)\n",
    "            predictions[i] = pred\n",
    "        return predictions"
   ]
  },
  {
   "cell_type": "code",
   "execution_count": 28,
   "id": "3de9bf2c",
   "metadata": {},
   "outputs": [],
   "source": [
    "# each array must be in order since classes are assumed to index these lists\n",
    "clf = Classifier([logA0, logA1], [logpi0, logpi1], [logp0, logp1])"
   ]
  },
  {
   "cell_type": "code",
   "execution_count": 29,
   "id": "f632e123",
   "metadata": {},
   "outputs": [
    {
     "name": "stdout",
     "output_type": "stream",
     "text": [
      "Train acc: 0.9961943793911007\n"
     ]
    }
   ],
   "source": [
    "Ptrain = clf.predict(train_text_int)\n",
    "print(f\"Train acc: {np.mean(Ptrain == y_train)}\")"
   ]
  },
  {
   "cell_type": "code",
   "execution_count": 30,
   "id": "19221961",
   "metadata": {},
   "outputs": [
    {
     "name": "stdout",
     "output_type": "stream",
     "text": [
      "Test acc: 0.8143107989464442\n"
     ]
    }
   ],
   "source": [
    "Ptest = clf.predict(test_text_int)\n",
    "print(f\"Test acc: {np.mean(Ptest == y_test)}\")"
   ]
  },
  {
   "cell_type": "code",
   "execution_count": 31,
   "id": "d718d4be",
   "metadata": {},
   "outputs": [],
   "source": [
    "from sklearn.metrics import confusion_matrix, f1_score\n",
    "\n",
    "# read about F-score: https://en.wikipedia.org/wiki/F-score"
   ]
  },
  {
   "cell_type": "code",
   "execution_count": 32,
   "id": "8d604fa4",
   "metadata": {},
   "outputs": [
    {
     "data": {
      "text/plain": [
       "array([[3297,   14],\n",
       "       [  12, 3509]])"
      ]
     },
     "execution_count": 32,
     "metadata": {},
     "output_type": "execute_result"
    }
   ],
   "source": [
    "cm = confusion_matrix(y_train, Ptrain)\n",
    "cm"
   ]
  },
  {
   "cell_type": "code",
   "execution_count": 33,
   "id": "fbea6a5d",
   "metadata": {},
   "outputs": [
    {
     "data": {
      "text/plain": [
       "array([[ 825,  282],\n",
       "       [ 141, 1030]])"
      ]
     },
     "execution_count": 33,
     "metadata": {},
     "output_type": "execute_result"
    }
   ],
   "source": [
    "cm_test = confusion_matrix(y_test, Ptest)\n",
    "cm_test"
   ]
  },
  {
   "cell_type": "code",
   "execution_count": 34,
   "id": "46097f3b",
   "metadata": {},
   "outputs": [
    {
     "data": {
      "text/plain": [
       "0.9963089153889836"
      ]
     },
     "execution_count": 34,
     "metadata": {},
     "output_type": "execute_result"
    }
   ],
   "source": [
    "f1_score(y_train, Ptrain)"
   ]
  },
  {
   "cell_type": "code",
   "execution_count": 35,
   "id": "c2f37e33",
   "metadata": {},
   "outputs": [
    {
     "data": {
      "text/plain": [
       "0.8296415626258559"
      ]
     },
     "execution_count": 35,
     "metadata": {},
     "output_type": "execute_result"
    }
   ],
   "source": [
    "f1_score(y_test, Ptest)"
   ]
  },
  {
   "cell_type": "code",
   "execution_count": null,
   "id": "888db1f4-aa8a-43d4-8f46-f8d38f19c302",
   "metadata": {},
   "outputs": [],
   "source": []
  }
 ],
 "metadata": {
  "kernelspec": {
   "display_name": "nlp",
   "language": "python",
   "name": "nlp"
  },
  "language_info": {
   "codemirror_mode": {
    "name": "ipython",
    "version": 3
   },
   "file_extension": ".py",
   "mimetype": "text/x-python",
   "name": "python",
   "nbconvert_exporter": "python",
   "pygments_lexer": "ipython3",
   "version": "3.12.8"
  }
 },
 "nbformat": 4,
 "nbformat_minor": 5
}
