{
 "cells": [
  {
   "cell_type": "markdown",
   "metadata": {},
   "source": [
    "## Attempt at building a word2vec/cbow model to find related pesticides"
   ]
  },
  {
   "cell_type": "code",
   "execution_count": null,
   "metadata": {},
   "outputs": [
    {
     "name": "stderr",
     "output_type": "stream",
     "text": [
      "[nltk_data] Downloading package stopwords to\n",
      "[nltk_data]     /homes/michiel/nltk_data...\n",
      "[nltk_data]   Unzipping corpora/stopwords.zip.\n"
     ]
    },
    {
     "data": {
      "text/plain": [
       "True"
      ]
     },
     "execution_count": 7,
     "metadata": {},
     "output_type": "execute_result"
    }
   ],
   "source": [
    "# Needs to be run only once, or when an update is required\n",
    "#import nltk\n",
    "#nltk.download('stopwords')"
   ]
  },
  {
   "cell_type": "code",
   "execution_count": 9,
   "metadata": {},
   "outputs": [],
   "source": [
    "import gensim\n",
    "from gensim.models import Word2Vec, KeyedVectors\n",
    "import pandas as pd \n",
    "import utils # all datareading and preprocessing functionality"
   ]
  },
  {
   "cell_type": "code",
   "execution_count": 13,
   "metadata": {},
   "outputs": [
    {
     "data": {
      "text/html": [
       "<div>\n",
       "<style scoped>\n",
       "    .dataframe tbody tr th:only-of-type {\n",
       "        vertical-align: middle;\n",
       "    }\n",
       "\n",
       "    .dataframe tbody tr th {\n",
       "        vertical-align: top;\n",
       "    }\n",
       "\n",
       "    .dataframe thead th {\n",
       "        text-align: right;\n",
       "    }\n",
       "</style>\n",
       "<table border=\"1\" class=\"dataframe\">\n",
       "  <thead>\n",
       "    <tr style=\"text-align: right;\">\n",
       "      <th></th>\n",
       "      <th>pmid</th>\n",
       "      <th>title</th>\n",
       "      <th>abstract</th>\n",
       "    </tr>\n",
       "  </thead>\n",
       "  <tbody>\n",
       "    <tr>\n",
       "      <th>0</th>\n",
       "      <td>29990300</td>\n",
       "      <td>Oxidative stress in triazine pesticide toxicit...</td>\n",
       "      <td>This review article provides a summary of the ...</td>\n",
       "    </tr>\n",
       "    <tr>\n",
       "      <th>1</th>\n",
       "      <td>29990732</td>\n",
       "      <td>Toxicity induced by glyphosate and glyphosate-...</td>\n",
       "      <td>Glyphosate is the active component of many com...</td>\n",
       "    </tr>\n",
       "    <tr>\n",
       "      <th>2</th>\n",
       "      <td>29999060</td>\n",
       "      <td>Direct kinetics study of CH2OO + methyl vinyl ...</td>\n",
       "      <td>Methyl vinyl ketone (MVK) and methacrolein (MA...</td>\n",
       "    </tr>\n",
       "    <tr>\n",
       "      <th>3</th>\n",
       "      <td>30003825</td>\n",
       "      <td>Dihydromyricetin improves vascular hyporespons...</td>\n",
       "      <td>CONTEXT: Dihydromyricetin (DMY) has oxidation ...</td>\n",
       "    </tr>\n",
       "    <tr>\n",
       "      <th>4</th>\n",
       "      <td>30015122</td>\n",
       "      <td>Glyphosate and atrazine in rainfall and soils ...</td>\n",
       "      <td>The presence in the atmosphere of glyphosate (...</td>\n",
       "    </tr>\n",
       "  </tbody>\n",
       "</table>\n",
       "</div>"
      ],
      "text/plain": [
       "       pmid                                              title  \\\n",
       "0  29990300  Oxidative stress in triazine pesticide toxicit...   \n",
       "1  29990732  Toxicity induced by glyphosate and glyphosate-...   \n",
       "2  29999060  Direct kinetics study of CH2OO + methyl vinyl ...   \n",
       "3  30003825  Dihydromyricetin improves vascular hyporespons...   \n",
       "4  30015122  Glyphosate and atrazine in rainfall and soils ...   \n",
       "\n",
       "                                            abstract  \n",
       "0  This review article provides a summary of the ...  \n",
       "1  Glyphosate is the active component of many com...  \n",
       "2  Methyl vinyl ketone (MVK) and methacrolein (MA...  \n",
       "3  CONTEXT: Dihydromyricetin (DMY) has oxidation ...  \n",
       "4  The presence in the atmosphere of glyphosate (...  "
      ]
     },
     "execution_count": 13,
     "metadata": {},
     "output_type": "execute_result"
    }
   ],
   "source": [
    "file1 = './data/abstract_set1.txt' # pesticides\n",
    "#file2 = './data/abstract_set2.txt' # cancer-ish no need for this one here\n",
    "data_selection = 'abstract_clean'\n",
    "label_selection = 'label'\n",
    "\n",
    "data = pd.read_csv(file1, sep=\"\\t\")\n",
    "data = data.dropna()\n",
    "data.head()"
   ]
  },
  {
   "cell_type": "code",
   "execution_count": 14,
   "metadata": {},
   "outputs": [],
   "source": [
    "# tokenize\n",
    "abstract_tokens = data.abstract.apply(gensim.utils.simple_preprocess)"
   ]
  },
  {
   "cell_type": "markdown",
   "metadata": {},
   "source": [
    "create a word embedding model using Word2Vec - CBOW variant:"
   ]
  },
  {
   "cell_type": "code",
   "execution_count": 15,
   "metadata": {},
   "outputs": [],
   "source": [
    "# Model parameters\n",
    "model=gensim.models.Word2Vec(window=5, min_count=2, workers=4, sg=0)\n",
    "\n",
    "# Train the model\n",
    "model.build_vocab(abstract_tokens, progress_per=1000)\n",
    "model.train(abstract_tokens, total_examples=model.corpus_count, epochs=model.epochs)\n",
    "\n",
    "# Save the trained model\n",
    "model.save(\"./pesticides_abstracts_word2vec.model\")"
   ]
  },
  {
   "cell_type": "markdown",
   "metadata": {},
   "source": [
    "The hyperparameters used in gensim.models.Word2Vec are as follows:  \n",
    "\n",
    "- **`size`**: The number of dimensions of the embeddings (the default is 100).  \n",
    "- **`window`**: The maximum distance between a target word and words around the target word (the default is 5).  \n",
    "- **`min_count`**: The minimum count of words to consider when training the model (the default for is 5).  \n",
    "- **`workers`**: The number of partitions during training (the default is 3).  \n",
    "- **`sg`**: The training algorithm, either 0 for CBOW or 1 for skip gram (the default is 0).  "
   ]
  },
  {
   "cell_type": "markdown",
   "metadata": {},
   "source": [
    "Take a look at the vector of a particular word from the corpus. Note it will have length 100."
   ]
  },
  {
   "cell_type": "code",
   "execution_count": 18,
   "metadata": {},
   "outputs": [
    {
     "data": {
      "text/plain": [
       "array([-0.15374185,  0.69091773,  0.01035906,  0.19827147, -0.10486519,\n",
       "       -0.20027548,  1.6745435 ,  0.3232113 , -0.2786336 ,  0.60990953,\n",
       "        0.3436268 ,  0.00609223,  0.24498984,  0.07191842,  0.8171237 ,\n",
       "       -0.8163991 ,  0.5055392 , -0.36991423, -0.41761562, -0.8833689 ,\n",
       "       -0.46111727,  0.06610417,  0.31896648, -0.40499607,  0.03776569,\n",
       "       -0.02193522, -0.59146523,  0.1883266 , -1.9399718 ,  1.1174822 ,\n",
       "        0.8269693 , -0.28225216,  0.7519978 , -0.27543712, -0.7055754 ,\n",
       "        0.42404673, -0.06364256,  0.290182  ,  0.27470818, -1.5237079 ,\n",
       "        0.11347376, -0.8448222 , -0.06127544, -0.05488081,  0.9511501 ,\n",
       "        0.63782096,  0.36445934,  0.11438367, -0.38866833,  0.33374286,\n",
       "       -0.54320526,  0.0319364 , -0.21989514, -0.04308268, -0.6551177 ,\n",
       "        0.24538743,  0.03790284, -0.58751667, -1.0411121 , -0.77488065,\n",
       "       -0.02837608, -0.2825058 , -0.31125218,  0.10905086, -0.2194577 ,\n",
       "        0.53885686,  0.38439408,  0.5557378 , -0.28017503,  0.8159021 ,\n",
       "       -0.5573933 , -0.39053667,  0.5316082 ,  0.05827669,  0.23004217,\n",
       "        0.26527253,  0.45600817,  0.1758795 ,  0.03099503,  0.05999137,\n",
       "        0.21260722, -0.733854  , -0.6070147 ,  0.5869698 , -0.3977525 ,\n",
       "        0.393294  ,  0.8336078 , -0.21880613, -0.5663963 , -0.23758873,\n",
       "        0.84823686,  0.4819187 , -0.46499586, -0.20165078,  1.2323856 ,\n",
       "        0.30784357,  0.9879782 , -0.38076514, -0.58520114, -1.0718466 ],\n",
       "      dtype=float32)"
      ]
     },
     "execution_count": 18,
     "metadata": {},
     "output_type": "execute_result"
    }
   ],
   "source": [
    "model.wv[\"dieldrin\"]"
   ]
  },
  {
   "cell_type": "code",
   "execution_count": 19,
   "metadata": {},
   "outputs": [
    {
     "data": {
      "text/plain": [
       "array([ 0.11003078,  0.03516333,  0.96000797,  0.01613707, -0.4626589 ,\n",
       "       -2.12389   ,  1.3617249 ,  1.2632192 , -0.15923855,  0.8129955 ,\n",
       "        1.1931697 , -0.81588453, -0.78949344, -0.68160886,  1.1676435 ,\n",
       "       -0.5642724 ,  0.67206424, -0.39393362, -0.62242013, -2.352616  ,\n",
       "       -0.97730845, -0.51802963,  0.5102751 ,  0.43697238,  0.27315298,\n",
       "        0.14897981, -0.8055614 ,  0.5237034 , -1.0138222 ,  0.3279743 ,\n",
       "        1.2143714 ,  0.3772431 ,  2.7095087 , -0.44817778, -0.35317734,\n",
       "        0.33508065,  0.3017933 , -0.4416767 ,  0.37668222, -1.1039255 ,\n",
       "       -1.0386629 , -0.3238383 , -0.93726414, -0.2584309 , -0.2269716 ,\n",
       "        0.4405077 ,  0.04887197,  0.18141317, -0.6993494 ,  0.9136117 ,\n",
       "       -1.1842176 ,  0.75051165,  0.05582989,  1.1534021 ,  1.3792963 ,\n",
       "       -0.5663063 ,  0.47661996, -0.18372248, -0.16165948,  0.24915798,\n",
       "       -0.02361266, -0.37095416,  0.24674506, -0.9766766 , -0.64819986,\n",
       "       -0.4897831 ,  1.4866235 ,  0.80109316, -0.291049  , -0.05542032,\n",
       "        0.71315944, -0.61895   , -0.99200743,  0.42259035, -0.6255147 ,\n",
       "        0.5778081 ,  0.34606928,  0.9321221 ,  0.09811436, -1.3360589 ,\n",
       "        0.31652486,  0.2380171 , -0.39316317,  0.8419625 , -0.04671934,\n",
       "        0.1108736 ,  1.1846912 ,  0.24658203, -0.45017707, -0.08495694,\n",
       "        1.4972318 ,  0.487218  ,  0.07738473,  0.08326286,  0.54438865,\n",
       "       -0.02898495,  0.02883492, -0.7625239 , -0.3018231 , -0.6605275 ],\n",
       "      dtype=float32)"
      ]
     },
     "execution_count": 19,
     "metadata": {},
     "output_type": "execute_result"
    }
   ],
   "source": [
    "model.wv[\"glyphosate\"]"
   ]
  },
  {
   "cell_type": "markdown",
   "metadata": {},
   "source": [
    "Find the top N words that are semantically the closest to the word dieldrin based on the cosine similarity between the vectors of the words in our corpus."
   ]
  },
  {
   "cell_type": "code",
   "execution_count": 22,
   "metadata": {},
   "outputs": [
    {
     "data": {
      "text/plain": [
       "[('hch', 0.9769817590713501),\n",
       " ('dde', 0.9768609404563904),\n",
       " ('aldrin', 0.9686754941940308),\n",
       " ('chlordane', 0.9483442306518555),\n",
       " ('ddd', 0.9469141364097595),\n",
       " ('hcb', 0.9453114867210388),\n",
       " ('heptachlor', 0.940208375453949),\n",
       " ('lindane', 0.930935263633728),\n",
       " ('ddt', 0.926992654800415),\n",
       " ('bhc', 0.9215170741081238),\n",
       " ('endosulfan', 0.9207156300544739),\n",
       " ('endrin', 0.9201696515083313),\n",
       " ('methoxychlor', 0.917574405670166),\n",
       " ('pcb', 0.9032790064811707),\n",
       " ('diazinon', 0.9026460647583008),\n",
       " ('dichlorvos', 0.9017914533615112),\n",
       " ('desmethyl', 0.8985465168952942),\n",
       " ('dimethoate', 0.8984988927841187),\n",
       " ('pirimicarb', 0.8945596814155579),\n",
       " ('thiacloprid', 0.8920301795005798)]"
      ]
     },
     "execution_count": 22,
     "metadata": {},
     "output_type": "execute_result"
    }
   ],
   "source": [
    "model.wv.most_similar(\"dieldrin\", topn=20)"
   ]
  },
  {
   "cell_type": "code",
   "execution_count": 23,
   "metadata": {},
   "outputs": [
    {
     "data": {
      "text/plain": [
       "[('herbicide', 0.907519519329071),\n",
       " ('atrazine', 0.8002203106880188),\n",
       " ('glufosinate', 0.7993463277816772),\n",
       " ('formulation', 0.7891854643821716),\n",
       " ('chlorpyrifos', 0.7737353444099426),\n",
       " ('imidacloprid', 0.7612190246582031),\n",
       " ('fungicide', 0.7609195113182068),\n",
       " ('herbicides', 0.7604256272315979),\n",
       " ('roundup', 0.7577640414237976),\n",
       " ('op', 0.7574062943458557),\n",
       " ('neonicotinoid', 0.7539829611778259),\n",
       " ('organophosphate', 0.7515392303466797),\n",
       " ('carbaryl', 0.7496296167373657),\n",
       " ('mixture', 0.7478381991386414),\n",
       " ('metolachlor', 0.7460909485816956),\n",
       " ('malathion', 0.7430873513221741),\n",
       " ('neonicotinoids', 0.7421098351478577),\n",
       " ('mixtures', 0.7397744059562683),\n",
       " ('ampa', 0.7382535338401794),\n",
       " ('carbendazim', 0.7320340275764465)]"
      ]
     },
     "execution_count": 23,
     "metadata": {},
     "output_type": "execute_result"
    }
   ],
   "source": [
    "model.wv.most_similar(\"glyphosate\", topn=20)"
   ]
  },
  {
   "cell_type": "code",
   "execution_count": 25,
   "metadata": {},
   "outputs": [
    {
     "data": {
      "text/plain": [
       "0.64391196"
      ]
     },
     "execution_count": 25,
     "metadata": {},
     "output_type": "execute_result"
    }
   ],
   "source": [
    "model.wv.similarity(w1=\"dieldrin\", w2=\"persistent\")\n"
   ]
  }
 ],
 "metadata": {
  "kernelspec": {
   "display_name": "nlp",
   "language": "python",
   "name": "python3"
  },
  "language_info": {
   "codemirror_mode": {
    "name": "ipython",
    "version": 3
   },
   "file_extension": ".py",
   "mimetype": "text/x-python",
   "name": "python",
   "nbconvert_exporter": "python",
   "pygments_lexer": "ipython3",
   "version": "3.10.16"
  }
 },
 "nbformat": 4,
 "nbformat_minor": 2
}
