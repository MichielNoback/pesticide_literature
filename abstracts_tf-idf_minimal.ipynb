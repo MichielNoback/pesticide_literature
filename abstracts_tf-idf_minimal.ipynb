{
 "cells": [
  {
   "cell_type": "code",
   "execution_count": 1,
   "metadata": {},
   "outputs": [],
   "source": [
    "import pandas as pd\n",
    "import numpy as np\n",
    "import matplotlib.pyplot as plt\n",
    "\n",
    "from sklearn.model_selection import train_test_split\n",
    "from sklearn.feature_extraction.text import  TfidfVectorizer\n",
    "from sklearn.metrics.pairwise import cosine_similarity, euclidean_distances\n",
    "\n",
    "# scientific units\n",
    "#from quantities import units\n",
    "import utils # all datareading and preprocessing functionality"
   ]
  },
  {
   "cell_type": "markdown",
   "metadata": {},
   "source": [
    "# Minimal TF-IDF bait\n",
    "Goal: to get a minimal TF-IDF vector that can be used to assess similarity (neighborhood)"
   ]
  },
  {
   "cell_type": "code",
   "execution_count": 2,
   "metadata": {},
   "outputs": [],
   "source": [
    "file1 = './data/abstract_set1.txt' # pesticides\n",
    "file2 = './data/abstract_set2.txt' # cancer-ish\n",
    "data_selection = 'abstract_clean'\n",
    "label_selection = 'text_label'\n",
    "\n",
    "# the custom class Tokenizer can also lemmatize, and remove short words, digits and stopwords\n",
    "stopwords = utils.get_stopwords(custom = {'wa', 'use', 'using', 'one', 'two', 'three', 'study'}) \n",
    "\n",
    "tokenizer = utils.Tokenizer(stop_words=stopwords, min_length=3)"
   ]
  },
  {
   "cell_type": "code",
   "execution_count": 3,
   "metadata": {},
   "outputs": [
    {
     "name": "stdout",
     "output_type": "stream",
     "text": [
      "pmid         int64\n",
      "title       object\n",
      "abstract    object\n",
      "dtype: object\n",
      "(4949, 3)\n"
     ]
    }
   ],
   "source": [
    "tst = pd.read_csv(file2, sep='\\t')\n",
    "print(tst.dtypes)\n",
    "print(tst.shape)"
   ]
  },
  {
   "cell_type": "code",
   "execution_count": 4,
   "metadata": {},
   "outputs": [
    {
     "data": {
      "text/html": [
       "<div>\n",
       "<style scoped>\n",
       "    .dataframe tbody tr th:only-of-type {\n",
       "        vertical-align: middle;\n",
       "    }\n",
       "\n",
       "    .dataframe tbody tr th {\n",
       "        vertical-align: top;\n",
       "    }\n",
       "\n",
       "    .dataframe thead th {\n",
       "        text-align: right;\n",
       "    }\n",
       "</style>\n",
       "<table border=\"1\" class=\"dataframe\">\n",
       "  <thead>\n",
       "    <tr style=\"text-align: right;\">\n",
       "      <th></th>\n",
       "      <th>pmid</th>\n",
       "      <th>title</th>\n",
       "      <th>abstract</th>\n",
       "      <th>label</th>\n",
       "      <th>text_label</th>\n",
       "      <th>title_clean</th>\n",
       "      <th>abstract_clean</th>\n",
       "    </tr>\n",
       "  </thead>\n",
       "  <tbody>\n",
       "    <tr>\n",
       "      <th>9105</th>\n",
       "      <td>39399211</td>\n",
       "      <td>Cytotoxicity induced by three commercial neoni...</td>\n",
       "      <td>Background: Neonicotinoid insecticides are use...</td>\n",
       "      <td>1</td>\n",
       "      <td>pesticide</td>\n",
       "      <td>cytotoxicity induced by three commercial neoni...</td>\n",
       "      <td>background: neonicotinoid insecticides are use...</td>\n",
       "    </tr>\n",
       "    <tr>\n",
       "      <th>9106</th>\n",
       "      <td>39406000</td>\n",
       "      <td>Mutations in target gene confers resistance to...</td>\n",
       "      <td>Echinochloa phyllopogon is a noxious weed that...</td>\n",
       "      <td>1</td>\n",
       "      <td>pesticide</td>\n",
       "      <td>mutations in target gene confers resistance to...</td>\n",
       "      <td>echinochloa phyllopogon is a noxious weed that...</td>\n",
       "    </tr>\n",
       "    <tr>\n",
       "      <th>9107</th>\n",
       "      <td>39411656</td>\n",
       "      <td>Genome-wide association study reveals the gene...</td>\n",
       "      <td>Crop resistance to herbicides is crucial for a...</td>\n",
       "      <td>1</td>\n",
       "      <td>pesticide</td>\n",
       "      <td>genome-wide association study reveals the gene...</td>\n",
       "      <td>crop resistance to herbicides is crucial for a...</td>\n",
       "    </tr>\n",
       "    <tr>\n",
       "      <th>9108</th>\n",
       "      <td>39411737</td>\n",
       "      <td>Serum 25 hydroxycholecalciferol in periodontit...</td>\n",
       "      <td>Background: Very few studies have examined the...</td>\n",
       "      <td>1</td>\n",
       "      <td>pesticide</td>\n",
       "      <td>serum 25 hydroxycholecalciferol in periodontit...</td>\n",
       "      <td>background: very few studies have examined the...</td>\n",
       "    </tr>\n",
       "    <tr>\n",
       "      <th>9109</th>\n",
       "      <td>39427538</td>\n",
       "      <td>Soybean isoflavones protect dopaminergic neuro...</td>\n",
       "      <td>Atrazine (ATR) is a broad-spectrum herbicide w...</td>\n",
       "      <td>1</td>\n",
       "      <td>pesticide</td>\n",
       "      <td>soybean isoflavones protect dopaminergic neuro...</td>\n",
       "      <td>atrazine (atr) is a broad-spectrum herbicide w...</td>\n",
       "    </tr>\n",
       "  </tbody>\n",
       "</table>\n",
       "</div>"
      ],
      "text/plain": [
       "          pmid                                              title  \\\n",
       "9105  39399211  Cytotoxicity induced by three commercial neoni...   \n",
       "9106  39406000  Mutations in target gene confers resistance to...   \n",
       "9107  39411656  Genome-wide association study reveals the gene...   \n",
       "9108  39411737  Serum 25 hydroxycholecalciferol in periodontit...   \n",
       "9109  39427538  Soybean isoflavones protect dopaminergic neuro...   \n",
       "\n",
       "                                               abstract  label text_label  \\\n",
       "9105  Background: Neonicotinoid insecticides are use...      1  pesticide   \n",
       "9106  Echinochloa phyllopogon is a noxious weed that...      1  pesticide   \n",
       "9107  Crop resistance to herbicides is crucial for a...      1  pesticide   \n",
       "9108  Background: Very few studies have examined the...      1  pesticide   \n",
       "9109  Atrazine (ATR) is a broad-spectrum herbicide w...      1  pesticide   \n",
       "\n",
       "                                            title_clean  \\\n",
       "9105  cytotoxicity induced by three commercial neoni...   \n",
       "9106  mutations in target gene confers resistance to...   \n",
       "9107  genome-wide association study reveals the gene...   \n",
       "9108  serum 25 hydroxycholecalciferol in periodontit...   \n",
       "9109  soybean isoflavones protect dopaminergic neuro...   \n",
       "\n",
       "                                         abstract_clean  \n",
       "9105  background: neonicotinoid insecticides are use...  \n",
       "9106  echinochloa phyllopogon is a noxious weed that...  \n",
       "9107  crop resistance to herbicides is crucial for a...  \n",
       "9108  background: very few studies have examined the...  \n",
       "9109  atrazine (atr) is a broad-spectrum herbicide w...  "
      ]
     },
     "execution_count": 4,
     "metadata": {},
     "output_type": "execute_result"
    }
   ],
   "source": [
    "data = utils.read_abstract_data(negatives_path=file2, \n",
    "                                positives_path=file1,  \n",
    "                                text_labels = [\"control\", \"pesticide\"])\n",
    "#data = utils.read_abstract_data(file1, file2)\n",
    "\n",
    "utils.preprocess_text(data)\n",
    "data.tail()"
   ]
  },
  {
   "cell_type": "code",
   "execution_count": 5,
   "metadata": {},
   "outputs": [
    {
     "data": {
      "text/plain": [
       "(9110, 7)"
      ]
     },
     "execution_count": 5,
     "metadata": {},
     "output_type": "execute_result"
    }
   ],
   "source": [
    "data.shape"
   ]
  },
  {
   "cell_type": "code",
   "execution_count": 6,
   "metadata": {},
   "outputs": [
    {
     "data": {
      "text/html": [
       "<div>\n",
       "<style scoped>\n",
       "    .dataframe tbody tr th:only-of-type {\n",
       "        vertical-align: middle;\n",
       "    }\n",
       "\n",
       "    .dataframe tbody tr th {\n",
       "        vertical-align: top;\n",
       "    }\n",
       "\n",
       "    .dataframe thead th {\n",
       "        text-align: right;\n",
       "    }\n",
       "</style>\n",
       "<table border=\"1\" class=\"dataframe\">\n",
       "  <thead>\n",
       "    <tr style=\"text-align: right;\">\n",
       "      <th></th>\n",
       "      <th>pmid</th>\n",
       "      <th>title</th>\n",
       "      <th>abstract</th>\n",
       "      <th>label</th>\n",
       "      <th>text_label</th>\n",
       "      <th>title_clean</th>\n",
       "      <th>abstract_clean</th>\n",
       "    </tr>\n",
       "  </thead>\n",
       "  <tbody>\n",
       "    <tr>\n",
       "      <th>0</th>\n",
       "      <td>29981025</td>\n",
       "      <td>Impact of Neoadjuvant Chemotherapy on Breast C...</td>\n",
       "      <td>BACKGROUND: Breast cancer subtype, as determin...</td>\n",
       "      <td>0</td>\n",
       "      <td>control</td>\n",
       "      <td>impact of neoadjuvant chemotherapy on breast c...</td>\n",
       "      <td>background: breast cancer subtype, as determin...</td>\n",
       "    </tr>\n",
       "  </tbody>\n",
       "</table>\n",
       "</div>"
      ],
      "text/plain": [
       "       pmid                                              title  \\\n",
       "0  29981025  Impact of Neoadjuvant Chemotherapy on Breast C...   \n",
       "\n",
       "                                            abstract  label text_label  \\\n",
       "0  BACKGROUND: Breast cancer subtype, as determin...      0    control   \n",
       "\n",
       "                                         title_clean  \\\n",
       "0  impact of neoadjuvant chemotherapy on breast c...   \n",
       "\n",
       "                                      abstract_clean  \n",
       "0  background: breast cancer subtype, as determin...  "
      ]
     },
     "execution_count": 6,
     "metadata": {},
     "output_type": "execute_result"
    }
   ],
   "source": [
    "data[data['pmid'] == 29981025] # set 2\n",
    "#data.iloc[0, :]"
   ]
  },
  {
   "cell_type": "code",
   "execution_count": 7,
   "metadata": {},
   "outputs": [
    {
     "data": {
      "text/html": [
       "<div>\n",
       "<style scoped>\n",
       "    .dataframe tbody tr th:only-of-type {\n",
       "        vertical-align: middle;\n",
       "    }\n",
       "\n",
       "    .dataframe tbody tr th {\n",
       "        vertical-align: top;\n",
       "    }\n",
       "\n",
       "    .dataframe thead th {\n",
       "        text-align: right;\n",
       "    }\n",
       "</style>\n",
       "<table border=\"1\" class=\"dataframe\">\n",
       "  <thead>\n",
       "    <tr style=\"text-align: right;\">\n",
       "      <th></th>\n",
       "      <th>pmid</th>\n",
       "      <th>title</th>\n",
       "      <th>abstract</th>\n",
       "      <th>label</th>\n",
       "      <th>text_label</th>\n",
       "      <th>title_clean</th>\n",
       "      <th>abstract_clean</th>\n",
       "    </tr>\n",
       "  </thead>\n",
       "  <tbody>\n",
       "    <tr>\n",
       "      <th>4418</th>\n",
       "      <td>29990300</td>\n",
       "      <td>Oxidative stress in triazine pesticide toxicit...</td>\n",
       "      <td>This review article provides a summary of the ...</td>\n",
       "      <td>1</td>\n",
       "      <td>pesticide</td>\n",
       "      <td>oxidative stress in triazine pesticide toxicit...</td>\n",
       "      <td>this review article provides a summary of the ...</td>\n",
       "    </tr>\n",
       "  </tbody>\n",
       "</table>\n",
       "</div>"
      ],
      "text/plain": [
       "          pmid                                              title  \\\n",
       "4418  29990300  Oxidative stress in triazine pesticide toxicit...   \n",
       "\n",
       "                                               abstract  label text_label  \\\n",
       "4418  This review article provides a summary of the ...      1  pesticide   \n",
       "\n",
       "                                            title_clean  \\\n",
       "4418  oxidative stress in triazine pesticide toxicit...   \n",
       "\n",
       "                                         abstract_clean  \n",
       "4418  this review article provides a summary of the ...  "
      ]
     },
     "execution_count": 7,
     "metadata": {},
     "output_type": "execute_result"
    }
   ],
   "source": [
    "data[data['pmid'] == 29990300] # set 1"
   ]
  },
  {
   "cell_type": "code",
   "execution_count": 8,
   "metadata": {},
   "outputs": [
    {
     "data": {
      "image/png": "[encoded data removed]",
      "text/plain": [
       "<Figure size 640x480 with 1 Axes>"
      ]
     },
     "metadata": {},
     "output_type": "display_data"
    }
   ],
   "source": [
    "data[label_selection].hist();"
   ]
  },
  {
   "cell_type": "code",
   "execution_count": 9,
   "metadata": {},
   "outputs": [
    {
     "name": "stderr",
     "output_type": "stream",
     "text": [
      "/Users/michielnoback/opt/miniconda3/envs/nlp/lib/python3.12/site-packages/sklearn/feature_extraction/text.py:517: UserWarning: The parameter 'token_pattern' will not be used since 'tokenizer' is not None'\n",
      "  warnings.warn(\n"
     ]
    },
    {
     "data": {
      "text/plain": [
       "<9110x5000 sparse matrix of type '<class 'numpy.float64'>'\n",
       "\twith 606723 stored elements in Compressed Sparse Row format>"
      ]
     },
     "execution_count": 9,
     "metadata": {},
     "output_type": "execute_result"
    }
   ],
   "source": [
    "\n",
    "vectorizer = TfidfVectorizer(tokenizer=tokenizer, max_features=5000)\n",
    "\n",
    "# create a data matrix from the overviews\n",
    "X = vectorizer.fit_transform(data[data_selection])\n",
    "X"
   ]
  },
  {
   "cell_type": "code",
   "execution_count": 10,
   "metadata": {},
   "outputs": [],
   "source": [
    "# generate a mapping from paper pubmed id -> index (in df)\n",
    "paper2idx = pd.Series(data.index, index=data['pmid'])\n",
    "#paper2idx.head()"
   ]
  },
  {
   "cell_type": "code",
   "execution_count": 11,
   "metadata": {},
   "outputs": [
    {
     "data": {
      "text/plain": [
       "4419"
      ]
     },
     "execution_count": 11,
     "metadata": {},
     "output_type": "execute_result"
    }
   ],
   "source": [
    "query_pmid = 29990732 #29981025 #29990732\n",
    "query_index = paper2idx[query_pmid]\n",
    "query_index"
   ]
  },
  {
   "cell_type": "code",
   "execution_count": 12,
   "metadata": {},
   "outputs": [
    {
     "name": "stdout",
     "output_type": "stream",
     "text": [
      "<class 'pandas.core.series.Series'>\n",
      "pmid                                                       29990732\n",
      "title             Toxicity induced by glyphosate and glyphosate-...\n",
      "abstract          Glyphosate is the active component of many com...\n",
      "label                                                             1\n",
      "text_label                                                pesticide\n",
      "title_clean       toxicity induced by glyphosate and glyphosate-...\n",
      "abstract_clean    glyphosate is the active component of many com...\n",
      "Name: 4419, dtype: object\n"
     ]
    }
   ],
   "source": [
    "query = data.loc[query_index]\n",
    "print(type(query))\n",
    "print(query)"
   ]
  },
  {
   "cell_type": "code",
   "execution_count": 13,
   "metadata": {},
   "outputs": [
    {
     "data": {
      "text/plain": [
       "<1x5000 sparse matrix of type '<class 'numpy.float64'>'\n",
       "\twith 55 stored elements in Compressed Sparse Row format>"
      ]
     },
     "execution_count": 13,
     "metadata": {},
     "output_type": "execute_result"
    }
   ],
   "source": [
    "# x_train.loc[query_index]\n",
    "# this checks out -- the same record\n",
    "query_vec = X[query_index]\n",
    "#print(query_vec)\n",
    "# print the query vector\n",
    "query_vec.toarray()\n",
    "query_vec"
   ]
  },
  {
   "cell_type": "code",
   "execution_count": 14,
   "metadata": {},
   "outputs": [
    {
     "data": {
      "text/plain": [
       "(1, 9110)"
      ]
     },
     "execution_count": 14,
     "metadata": {},
     "output_type": "execute_result"
    }
   ],
   "source": [
    "# compute similarity between query and every vector in X\n",
    "scores = cosine_similarity(query_vec, X)\n",
    "scores.shape # for every abstract a score is calculated"
   ]
  },
  {
   "cell_type": "code",
   "execution_count": 15,
   "metadata": {},
   "outputs": [
    {
     "data": {
      "text/plain": [
       "array([0.00427185, 0.0057081 , 0.01720042, ..., 0.18599608, 0.01520453,\n",
       "       0.0634719 ])"
      ]
     },
     "execution_count": 15,
     "metadata": {},
     "output_type": "execute_result"
    }
   ],
   "source": [
    "# currently the array is 1 x N, make it just a 1-D array\n",
    "scores = scores.flatten()\n",
    "scores"
   ]
  },
  {
   "cell_type": "code",
   "execution_count": 16,
   "metadata": {},
   "outputs": [
    {
     "data": {
      "image/png": "[encoded data removed]",
      "text/plain": [
       "<Figure size 640x480 with 1 Axes>"
      ]
     },
     "metadata": {},
     "output_type": "display_data"
    }
   ],
   "source": [
    "plt.plot(scores);"
   ]
  },
  {
   "cell_type": "code",
   "execution_count": 17,
   "metadata": {},
   "outputs": [
    {
     "data": {
      "text/plain": [
       "<module 'utils' from '/Users/michielnoback/git_projects/pesticides/utils.py'>"
      ]
     },
     "execution_count": 17,
     "metadata": {},
     "output_type": "execute_result"
    }
   ],
   "source": [
    "# # compare with euclidean\n",
    "# scores = euclidean_distances(query_vec, X)\n",
    "# scores = scores.flatten()\n",
    "# print(scores)\n",
    "# plt.plot(scores);\n",
    "\n",
    "# ## TODO investigate further"
   ]
  },
  {
   "cell_type": "code",
   "execution_count": 19,
   "metadata": {},
   "outputs": [
    {
     "name": "stdout",
     "output_type": "stream",
     "text": [
      "PubMed ID: 29981025\n",
      "\n",
      "Title: \n",
      "Impact of Neoadjuvant Chemotherapy on Breast Cancer Subtype: Does Subtype Change\n",
      "and, if so, How? : IHC Profile and Neoadjuvant Chemotherapy.\n",
      "\n",
      "Abstract:\n",
      "BACKGROUND: Breast cancer subtype, as determined by the expression of estrogen\n",
      "receptor (ER) and progesterone receptor (PR), together defined as hormone\n",
      "receptor (HR) status, and the HER2/neu receptor (HER2), is important in\n",
      "predicting prognosis and guiding therapy. Knowledge regarding how tumors evolve\n",
      "during treatment and whether subtype is influenced by neoadjuvant chemotherapy\n",
      "(nCT) is limited. The purpose of this study was to compare the HR and HER2\n",
      "status between core needle biopsy and residual tumor after surgery of breast\n",
      "cancer patients treated with nCT and to evaluate the impact of status change on\n",
      "therapeutic management. METHODS: After institutional review board approval, we\n",
      "performed a retrospective review of all patients with a diagnosis of breast\n",
      "cancer who received nCT and had their initial biopsy and post-nCT surgical\n",
      "specimens evaluated for tumor subtype between January 2009 and December 2014 at\n",
      "our institution. Immunohistochemistry (IHC) of ER, PR, HER2, and fluorescence in\n",
      "situ hybridization for HER2 expression, when indicated, was performed using\n",
      "identical technique and measured by a single pathologist who specializes in\n",
      "breast pathology. Pre- and post-nCT subtype was cross-tabulated to assess\n",
      "change. Standard diagnostic metrics were computed. RESULTS: Fifty-two patients\n",
      "with 54 cancers were identified to have their initial biopsy and post-nCT\n",
      "surgical specimens evaluated for tumor subtype in identical fashion. There was a\n",
      "complete pathologic response after nCT in 23 cancers (42.6%). Residual disease\n",
      "was noted in 31 cancers (57.4%). Five of these (16.1%) had a change in tumor\n",
      "subtype, of which four changes were based on IHC. HR status changed from\n",
      "positive to negative in two cases and from negative to positive in one case.\n",
      "HER2 status changed from positive to negative in one case and from negative to\n",
      "positive in one case. Subtype change led to treatment change in all five cases,\n",
      "with either the addition or discontinuation of adjuvant therapies. CONCLUSIONS:\n",
      "Patients with breast cancer may experience alterations in their tumor subtype\n",
      "after nCT. At our institution, this led to a change in adjuvant treatment in\n",
      "100% of such patients. This implies that retesting receptor status of residual\n",
      "tumors after nCT should be routinely performed to tailor adjuvant therapy after\n",
      "nCT.\n"
     ]
    }
   ],
   "source": [
    "utils.print_paper(pmid, data) # input paper"
   ]
  },
  {
   "cell_type": "code",
   "execution_count": 20,
   "metadata": {},
   "outputs": [
    {
     "name": "stdout",
     "output_type": "stream",
     "text": [
      "PubMed ID: 29981025\n",
      "\n",
      "Title: \n",
      "Impact of Neoadjuvant Chemotherapy on Breast Cancer Subtype: Does Subtype Change\n",
      "and, if so, How? : IHC Profile and Neoadjuvant Chemotherapy.\n",
      "\n",
      "Abstract:\n",
      "BACKGROUND: Breast cancer subtype, as determined by the expression of estrogen\n",
      "receptor (ER) and progesterone receptor (PR), together defined as hormone\n",
      "receptor (HR) status, and the HER2/neu receptor (HER2), is important in\n",
      "predicting prognosis and guiding therapy. Knowledge regarding how tumors evolve\n",
      "during treatment and whether subtype is influenced by neoadjuvant chemotherapy\n",
      "(nCT) is limited. The purpose of this study was to compare the HR and HER2\n",
      "status between core needle biopsy and residual tumor after surgery of breast\n",
      "cancer patients treated with nCT and to evaluate the impact of status change on\n",
      "therapeutic management. METHODS: After institutional review board approval, we\n",
      "performed a retrospective review of all patients with a diagnosis of breast\n",
      "cancer who received nCT and had their initial biopsy and post-nCT surgical\n",
      "specimens evaluated for tumor subtype between January 2009 and December 2014 at\n",
      "our institution. Immunohistochemistry (IHC) of ER, PR, HER2, and fluorescence in\n",
      "situ hybridization for HER2 expression, when indicated, was performed using\n",
      "identical technique and measured by a single pathologist who specializes in\n",
      "breast pathology. Pre- and post-nCT subtype was cross-tabulated to assess\n",
      "change. Standard diagnostic metrics were computed. RESULTS: Fifty-two patients\n",
      "with 54 cancers were identified to have their initial biopsy and post-nCT\n",
      "surgical specimens evaluated for tumor subtype in identical fashion. There was a\n",
      "complete pathologic response after nCT in 23 cancers (42.6%). Residual disease\n",
      "was noted in 31 cancers (57.4%). Five of these (16.1%) had a change in tumor\n",
      "subtype, of which four changes were based on IHC. HR status changed from\n",
      "positive to negative in two cases and from negative to positive in one case.\n",
      "HER2 status changed from positive to negative in one case and from negative to\n",
      "positive in one case. Subtype change led to treatment change in all five cases,\n",
      "with either the addition or discontinuation of adjuvant therapies. CONCLUSIONS:\n",
      "Patients with breast cancer may experience alterations in their tumor subtype\n",
      "after nCT. At our institution, this led to a change in adjuvant treatment in\n",
      "100% of such patients. This implies that retesting receptor status of residual\n",
      "tumors after nCT should be routinely performed to tailor adjuvant therapy after\n",
      "nCT.\n"
     ]
    }
   ],
   "source": [
    "utils.print_paper(recommendations.iloc[0, 0], data)"
   ]
  },
  {
   "cell_type": "code",
   "execution_count": 21,
   "metadata": {},
   "outputs": [
    {
     "name": "stdout",
     "output_type": "stream",
     "text": [
      "PubMed ID: 25998416\n",
      "\n",
      "Title: \n",
      "From bench to bedside: What do we know about hormone receptor-positive and human\n",
      "epidermal growth factor receptor 2-positive breast cancer?\n",
      "\n",
      "Abstract:\n",
      "Breast cancer is a heterogeneous disease. Thanks to extensive efforts from\n",
      "research scientists and clinicians, treatment for breast cancer has advanced\n",
      "into the era of targeted medicine. With the use of several well-established\n",
      "biomarkers, such as hormone receptors (HRs) (i.e., estrogen receptor [ER] and\n",
      "progesterone receptor [PgR]) and human epidermal growth factor receptor-2\n",
      "(HER2), breast cancer patients can be categorized into multiple subgroups with\n",
      "specific targeted treatment strategies. Although therapeutic strategies for HR-\n",
      "positive (HR+) HER2-negative (HER2-) breast cancer and HR-negative (HR-)\n",
      "HER2-positive (HER2+) breast cancer are well-defined, HR+ HER2+ breast cancer is\n",
      "still an overlooked subgroup without tailored therapeutic options. In this\n",
      "review, we have summarized the molecular characteristics, etiology, preclinical\n",
      "tools and therapeutic options for HR+ HER2+ breast cancer. We hope to raise the\n",
      "attention of both the research and the medical community on HR+ HER2+ breast\n",
      "cancer, and to advance patient care for this subtype of disease.\n"
     ]
    }
   ],
   "source": [
    "utils.print_paper(recommendations.iloc[1, 0], data)"
   ]
  },
  {
   "cell_type": "code",
   "execution_count": 22,
   "metadata": {},
   "outputs": [
    {
     "name": "stdout",
     "output_type": "stream",
     "text": [
      "PubMed ID: 22213087\n",
      "\n",
      "Title: \n",
      "Association of estrogen receptor, progesterone receptor, and human epidermal\n",
      "growth factor receptor 2 status with total choline concentration and tumor\n",
      "volume in breast cancer patients: an MRI and in vivo proton MRS study.\n",
      "\n",
      "Abstract:\n",
      "The association of estrogen receptor, progesterone receptor, and human epidermal\n",
      "growth factor receptor 2 (HER2) status of breast cancer patients with total\n",
      "choline (tCho) concentration and tumor volume was investigated using in vivo\n",
      "proton magnetic resonance spectroscopy and MRI at 1.5 T. Values for tCho\n",
      "concentration were determined in 120 locally advanced breast cancer patients\n",
      "(stages IIB, IIIA, IIIB, and IIIC), 31 early breast cancer patients (stage IIA),\n",
      "38 patients with benign lesions, and 37 controls. Significantly higher tCho\n",
      "concentration and lower tumor volume were observed in early breast cancer\n",
      "patients compared to locally advanced breast cancer patients (P<0.05). tCho\n",
      "concentration and tumor volume did not correlate with age and menstruation. tCho\n",
      "cutoff values were obtained for the differentiation of malignant from benign\n",
      "breast tissues (2.54 mmol/kg); malignant versus normal (1.45 mmol/kg) and benign\n",
      "versus normal tissues (0.82 mmol/kg). Estrogen receptor negative patients showed\n",
      "significantly larger tumor volumes, indicating higher angiogenesis with\n",
      "aggressive tumor behavior. Nontriple negative and triple positive patients had a\n",
      "significantly higher tCho concentration compared to triple negative patients\n",
      "(P<0.05), indicating complex molecular mechanism of cell proliferation and the\n",
      "molecular heterogeneity of breast lesions. The results indicate the potential\n",
      "use of integration of breast 1H magnetic resonance spectroscopy in diagnostic\n",
      "workup.\n"
     ]
    }
   ],
   "source": [
    "utils.print_paper(recommendations.iloc[2, 0], data)"
   ]
  },
  {
   "cell_type": "code",
   "execution_count": 24,
   "metadata": {},
   "outputs": [
    {
     "name": "stdout",
     "output_type": "stream",
     "text": [
      "Recommendations for 29981025:\n",
      "          pmid                                              title     score\n",
      "0     29981025  Impact of Neoadjuvant Chemotherapy on Breast C...  1.000000\n",
      "2634  25998416  From bench to bedside: What do we know about h...  0.359732\n",
      "2110  22213087  Association of estrogen receptor, progesterone...  0.344183\n",
      "2659  26195705  Use of Biomarkers to Guide Decisions on System...  0.322701\n",
      "1188  12808061  Prognostic significance of glutathione S-trans...  0.313261\n",
      "236    1622647  Interrelations between cellular DNA content, S...  0.312091\n",
      "2913  28177907  Genetic variation of clock genes and cancer ri...  0.309666\n",
      "3362  32381888  [Phyllodes Tumor of the Breast Occurring near ...  0.308085\n",
      "207    1357834  The value of immunohistochemical detection of ...  0.301828\n"
     ]
    }
   ],
   "source": [
    "pmid = 29981025 #29990732 #29981025\n",
    "print(f\"Recommendations for {pmid}:\")\n",
    "recommendations = utils.recommend(pmid, data, paper2idx, X, top_n_papers=8)\n",
    "print(recommendations)"
   ]
  },
  {
   "cell_type": "code",
   "execution_count": 25,
   "metadata": {},
   "outputs": [
    {
     "name": "stdout",
     "output_type": "stream",
     "text": [
      "PubMed ID: 29981025\n",
      "\n",
      "Title: \n",
      "Impact of Neoadjuvant Chemotherapy on Breast Cancer Subtype: Does Subtype Change\n",
      "and, if so, How? : IHC Profile and Neoadjuvant Chemotherapy.\n",
      "\n",
      "Abstract:\n",
      "BACKGROUND: Breast cancer subtype, as determined by the expression of estrogen\n",
      "receptor (ER) and progesterone receptor (PR), together defined as hormone\n",
      "receptor (HR) status, and the HER2/neu receptor (HER2), is important in\n",
      "predicting prognosis and guiding therapy. Knowledge regarding how tumors evolve\n",
      "during treatment and whether subtype is influenced by neoadjuvant chemotherapy\n",
      "(nCT) is limited. The purpose of this study was to compare the HR and HER2\n",
      "status between core needle biopsy and residual tumor after surgery of breast\n",
      "cancer patients treated with nCT and to evaluate the impact of status change on\n",
      "therapeutic management. METHODS: After institutional review board approval, we\n",
      "performed a retrospective review of all patients with a diagnosis of breast\n",
      "cancer who received nCT and had their initial biopsy and post-nCT surgical\n",
      "specimens evaluated for tumor subtype between January 2009 and December 2014 at\n",
      "our institution. Immunohistochemistry (IHC) of ER, PR, HER2, and fluorescence in\n",
      "situ hybridization for HER2 expression, when indicated, was performed using\n",
      "identical technique and measured by a single pathologist who specializes in\n",
      "breast pathology. Pre- and post-nCT subtype was cross-tabulated to assess\n",
      "change. Standard diagnostic metrics were computed. RESULTS: Fifty-two patients\n",
      "with 54 cancers were identified to have their initial biopsy and post-nCT\n",
      "surgical specimens evaluated for tumor subtype in identical fashion. There was a\n",
      "complete pathologic response after nCT in 23 cancers (42.6%). Residual disease\n",
      "was noted in 31 cancers (57.4%). Five of these (16.1%) had a change in tumor\n",
      "subtype, of which four changes were based on IHC. HR status changed from\n",
      "positive to negative in two cases and from negative to positive in one case.\n",
      "HER2 status changed from positive to negative in one case and from negative to\n",
      "positive in one case. Subtype change led to treatment change in all five cases,\n",
      "with either the addition or discontinuation of adjuvant therapies. CONCLUSIONS:\n",
      "Patients with breast cancer may experience alterations in their tumor subtype\n",
      "after nCT. At our institution, this led to a change in adjuvant treatment in\n",
      "100% of such patients. This implies that retesting receptor status of residual\n",
      "tumors after nCT should be routinely performed to tailor adjuvant therapy after\n",
      "nCT.\n"
     ]
    }
   ],
   "source": [
    "utils.print_paper(pmid, data) # input paper"
   ]
  },
  {
   "cell_type": "code",
   "execution_count": 26,
   "metadata": {},
   "outputs": [
    {
     "name": "stdout",
     "output_type": "stream",
     "text": [
      "PubMed ID: 29981025\n",
      "\n",
      "Title: \n",
      "Impact of Neoadjuvant Chemotherapy on Breast Cancer Subtype: Does Subtype Change\n",
      "and, if so, How? : IHC Profile and Neoadjuvant Chemotherapy.\n",
      "\n",
      "Abstract:\n",
      "BACKGROUND: Breast cancer subtype, as determined by the expression of estrogen\n",
      "receptor (ER) and progesterone receptor (PR), together defined as hormone\n",
      "receptor (HR) status, and the HER2/neu receptor (HER2), is important in\n",
      "predicting prognosis and guiding therapy. Knowledge regarding how tumors evolve\n",
      "during treatment and whether subtype is influenced by neoadjuvant chemotherapy\n",
      "(nCT) is limited. The purpose of this study was to compare the HR and HER2\n",
      "status between core needle biopsy and residual tumor after surgery of breast\n",
      "cancer patients treated with nCT and to evaluate the impact of status change on\n",
      "therapeutic management. METHODS: After institutional review board approval, we\n",
      "performed a retrospective review of all patients with a diagnosis of breast\n",
      "cancer who received nCT and had their initial biopsy and post-nCT surgical\n",
      "specimens evaluated for tumor subtype between January 2009 and December 2014 at\n",
      "our institution. Immunohistochemistry (IHC) of ER, PR, HER2, and fluorescence in\n",
      "situ hybridization for HER2 expression, when indicated, was performed using\n",
      "identical technique and measured by a single pathologist who specializes in\n",
      "breast pathology. Pre- and post-nCT subtype was cross-tabulated to assess\n",
      "change. Standard diagnostic metrics were computed. RESULTS: Fifty-two patients\n",
      "with 54 cancers were identified to have their initial biopsy and post-nCT\n",
      "surgical specimens evaluated for tumor subtype in identical fashion. There was a\n",
      "complete pathologic response after nCT in 23 cancers (42.6%). Residual disease\n",
      "was noted in 31 cancers (57.4%). Five of these (16.1%) had a change in tumor\n",
      "subtype, of which four changes were based on IHC. HR status changed from\n",
      "positive to negative in two cases and from negative to positive in one case.\n",
      "HER2 status changed from positive to negative in one case and from negative to\n",
      "positive in one case. Subtype change led to treatment change in all five cases,\n",
      "with either the addition or discontinuation of adjuvant therapies. CONCLUSIONS:\n",
      "Patients with breast cancer may experience alterations in their tumor subtype\n",
      "after nCT. At our institution, this led to a change in adjuvant treatment in\n",
      "100% of such patients. This implies that retesting receptor status of residual\n",
      "tumors after nCT should be routinely performed to tailor adjuvant therapy after\n",
      "nCT.\n"
     ]
    }
   ],
   "source": [
    "utils.print_paper(recommendations.iloc[0, 0], data)"
   ]
  },
  {
   "cell_type": "code",
   "execution_count": 27,
   "metadata": {},
   "outputs": [
    {
     "name": "stdout",
     "output_type": "stream",
     "text": [
      "PubMed ID: 25998416\n",
      "\n",
      "Title: \n",
      "From bench to bedside: What do we know about hormone receptor-positive and human\n",
      "epidermal growth factor receptor 2-positive breast cancer?\n",
      "\n",
      "Abstract:\n",
      "Breast cancer is a heterogeneous disease. Thanks to extensive efforts from\n",
      "research scientists and clinicians, treatment for breast cancer has advanced\n",
      "into the era of targeted medicine. With the use of several well-established\n",
      "biomarkers, such as hormone receptors (HRs) (i.e., estrogen receptor [ER] and\n",
      "progesterone receptor [PgR]) and human epidermal growth factor receptor-2\n",
      "(HER2), breast cancer patients can be categorized into multiple subgroups with\n",
      "specific targeted treatment strategies. Although therapeutic strategies for HR-\n",
      "positive (HR+) HER2-negative (HER2-) breast cancer and HR-negative (HR-)\n",
      "HER2-positive (HER2+) breast cancer are well-defined, HR+ HER2+ breast cancer is\n",
      "still an overlooked subgroup without tailored therapeutic options. In this\n",
      "review, we have summarized the molecular characteristics, etiology, preclinical\n",
      "tools and therapeutic options for HR+ HER2+ breast cancer. We hope to raise the\n",
      "attention of both the research and the medical community on HR+ HER2+ breast\n",
      "cancer, and to advance patient care for this subtype of disease.\n"
     ]
    }
   ],
   "source": [
    "utils.print_paper(recommendations.iloc[1, 0], data)"
   ]
  },
  {
   "cell_type": "code",
   "execution_count": 28,
   "metadata": {},
   "outputs": [
    {
     "name": "stdout",
     "output_type": "stream",
     "text": [
      "PubMed ID: 22213087\n",
      "\n",
      "Title: \n",
      "Association of estrogen receptor, progesterone receptor, and human epidermal\n",
      "growth factor receptor 2 status with total choline concentration and tumor\n",
      "volume in breast cancer patients: an MRI and in vivo proton MRS study.\n",
      "\n",
      "Abstract:\n",
      "The association of estrogen receptor, progesterone receptor, and human epidermal\n",
      "growth factor receptor 2 (HER2) status of breast cancer patients with total\n",
      "choline (tCho) concentration and tumor volume was investigated using in vivo\n",
      "proton magnetic resonance spectroscopy and MRI at 1.5 T. Values for tCho\n",
      "concentration were determined in 120 locally advanced breast cancer patients\n",
      "(stages IIB, IIIA, IIIB, and IIIC), 31 early breast cancer patients (stage IIA),\n",
      "38 patients with benign lesions, and 37 controls. Significantly higher tCho\n",
      "concentration and lower tumor volume were observed in early breast cancer\n",
      "patients compared to locally advanced breast cancer patients (P<0.05). tCho\n",
      "concentration and tumor volume did not correlate with age and menstruation. tCho\n",
      "cutoff values were obtained for the differentiation of malignant from benign\n",
      "breast tissues (2.54 mmol/kg); malignant versus normal (1.45 mmol/kg) and benign\n",
      "versus normal tissues (0.82 mmol/kg). Estrogen receptor negative patients showed\n",
      "significantly larger tumor volumes, indicating higher angiogenesis with\n",
      "aggressive tumor behavior. Nontriple negative and triple positive patients had a\n",
      "significantly higher tCho concentration compared to triple negative patients\n",
      "(P<0.05), indicating complex molecular mechanism of cell proliferation and the\n",
      "molecular heterogeneity of breast lesions. The results indicate the potential\n",
      "use of integration of breast 1H magnetic resonance spectroscopy in diagnostic\n",
      "workup.\n"
     ]
    }
   ],
   "source": [
    "utils.print_paper(recommendations.iloc[2, 0], data)"
   ]
  },
  {
   "cell_type": "markdown",
   "metadata": {},
   "source": [
    "## Test different vocabulary sizes\n"
   ]
  },
  {
   "cell_type": "code",
   "execution_count": 32,
   "metadata": {},
   "outputs": [
    {
     "data": {
      "text/plain": [
       "<module 'utils' from '/Users/michielnoback/git_projects/pesticides/utils.py'>"
      ]
     },
     "execution_count": 32,
     "metadata": {},
     "output_type": "execute_result"
    }
   ],
   "source": [
    "import importlib\n",
    "importlib.reload(utils)"
   ]
  },
  {
   "cell_type": "code",
   "execution_count": 33,
   "metadata": {},
   "outputs": [
    {
     "name": "stdout",
     "output_type": "stream",
     "text": [
      "analysing with max_features=100\n"
     ]
    },
    {
     "name": "stderr",
     "output_type": "stream",
     "text": [
      "/Users/michielnoback/opt/miniconda3/envs/nlp/lib/python3.12/site-packages/sklearn/feature_extraction/text.py:517: UserWarning: The parameter 'token_pattern' will not be used since 'tokenizer' is not None'\n",
      "  warnings.warn(\n"
     ]
    },
    {
     "name": "stdout",
     "output_type": "stream",
     "text": [
      "analysing with max_features=250\n"
     ]
    },
    {
     "name": "stderr",
     "output_type": "stream",
     "text": [
      "/Users/michielnoback/opt/miniconda3/envs/nlp/lib/python3.12/site-packages/sklearn/feature_extraction/text.py:517: UserWarning: The parameter 'token_pattern' will not be used since 'tokenizer' is not None'\n",
      "  warnings.warn(\n"
     ]
    },
    {
     "name": "stdout",
     "output_type": "stream",
     "text": [
      "analysing with max_features=500\n"
     ]
    },
    {
     "name": "stderr",
     "output_type": "stream",
     "text": [
      "/Users/michielnoback/opt/miniconda3/envs/nlp/lib/python3.12/site-packages/sklearn/feature_extraction/text.py:517: UserWarning: The parameter 'token_pattern' will not be used since 'tokenizer' is not None'\n",
      "  warnings.warn(\n"
     ]
    },
    {
     "name": "stdout",
     "output_type": "stream",
     "text": [
      "analysing with max_features=1000\n"
     ]
    },
    {
     "name": "stderr",
     "output_type": "stream",
     "text": [
      "/Users/michielnoback/opt/miniconda3/envs/nlp/lib/python3.12/site-packages/sklearn/feature_extraction/text.py:517: UserWarning: The parameter 'token_pattern' will not be used since 'tokenizer' is not None'\n",
      "  warnings.warn(\n"
     ]
    },
    {
     "name": "stdout",
     "output_type": "stream",
     "text": [
      "analysing with max_features=2000\n"
     ]
    },
    {
     "name": "stderr",
     "output_type": "stream",
     "text": [
      "/Users/michielnoback/opt/miniconda3/envs/nlp/lib/python3.12/site-packages/sklearn/feature_extraction/text.py:517: UserWarning: The parameter 'token_pattern' will not be used since 'tokenizer' is not None'\n",
      "  warnings.warn(\n"
     ]
    },
    {
     "name": "stdout",
     "output_type": "stream",
     "text": [
      "analysing with max_features=3000\n"
     ]
    },
    {
     "name": "stderr",
     "output_type": "stream",
     "text": [
      "/Users/michielnoback/opt/miniconda3/envs/nlp/lib/python3.12/site-packages/sklearn/feature_extraction/text.py:517: UserWarning: The parameter 'token_pattern' will not be used since 'tokenizer' is not None'\n",
      "  warnings.warn(\n"
     ]
    },
    {
     "data": {
      "text/html": [
       "<div>\n",
       "<style scoped>\n",
       "    .dataframe tbody tr th:only-of-type {\n",
       "        vertical-align: middle;\n",
       "    }\n",
       "\n",
       "    .dataframe tbody tr th {\n",
       "        vertical-align: top;\n",
       "    }\n",
       "\n",
       "    .dataframe thead th {\n",
       "        text-align: right;\n",
       "    }\n",
       "</style>\n",
       "<table border=\"1\" class=\"dataframe\">\n",
       "  <thead>\n",
       "    <tr style=\"text-align: right;\">\n",
       "      <th></th>\n",
       "      <th>pmid</th>\n",
       "      <th>title</th>\n",
       "      <th>score</th>\n",
       "      <th>max_features</th>\n",
       "    </tr>\n",
       "  </thead>\n",
       "  <tbody>\n",
       "    <tr>\n",
       "      <th>1266</th>\n",
       "      <td>15288761</td>\n",
       "      <td>Glutamate-induced deregulation of calcium home...</td>\n",
       "      <td>0.800399</td>\n",
       "      <td>100</td>\n",
       "    </tr>\n",
       "    <tr>\n",
       "      <th>4724</th>\n",
       "      <td>1315139</td>\n",
       "      <td>Mechanisms of aldehyde-induced bronchial react...</td>\n",
       "      <td>0.784157</td>\n",
       "      <td>100</td>\n",
       "    </tr>\n",
       "    <tr>\n",
       "      <th>4946</th>\n",
       "      <td>3119177</td>\n",
       "      <td>Early manifestations of vitamin D effects in r...</td>\n",
       "      <td>0.774878</td>\n",
       "      <td>100</td>\n",
       "    </tr>\n",
       "    <tr>\n",
       "      <th>4665</th>\n",
       "      <td>645879</td>\n",
       "      <td>Mechanical responses of isolated dog cerebral ...</td>\n",
       "      <td>0.735442</td>\n",
       "      <td>100</td>\n",
       "    </tr>\n",
       "    <tr>\n",
       "      <th>8434</th>\n",
       "      <td>35426944</td>\n",
       "      <td>Benchmark Dose Modeling Approaches for Volatil...</td>\n",
       "      <td>0.708516</td>\n",
       "      <td>100</td>\n",
       "    </tr>\n",
       "    <tr>\n",
       "      <th>...</th>\n",
       "      <td>...</td>\n",
       "      <td>...</td>\n",
       "      <td>...</td>\n",
       "      <td>...</td>\n",
       "    </tr>\n",
       "    <tr>\n",
       "      <th>8670</th>\n",
       "      <td>36794697</td>\n",
       "      <td>Chemical management of aquatic macrophytes und...</td>\n",
       "      <td>0.351582</td>\n",
       "      <td>3000</td>\n",
       "    </tr>\n",
       "    <tr>\n",
       "      <th>8488</th>\n",
       "      <td>35705587</td>\n",
       "      <td>Risk assessment of glyphosate and malathion po...</td>\n",
       "      <td>0.346600</td>\n",
       "      <td>3000</td>\n",
       "    </tr>\n",
       "    <tr>\n",
       "      <th>8738</th>\n",
       "      <td>37214918</td>\n",
       "      <td>The herbicide glyphosate inhibits hippocampal ...</td>\n",
       "      <td>0.345952</td>\n",
       "      <td>3000</td>\n",
       "    </tr>\n",
       "    <tr>\n",
       "      <th>7977</th>\n",
       "      <td>32556045</td>\n",
       "      <td>Ecological risk assessment of glyphosate in su...</td>\n",
       "      <td>0.343908</td>\n",
       "      <td>3000</td>\n",
       "    </tr>\n",
       "    <tr>\n",
       "      <th>6730</th>\n",
       "      <td>22200534</td>\n",
       "      <td>A glyphosate-based herbicide induces necrosis ...</td>\n",
       "      <td>0.340675</td>\n",
       "      <td>3000</td>\n",
       "    </tr>\n",
       "  </tbody>\n",
       "</table>\n",
       "<p>120 rows × 4 columns</p>\n",
       "</div>"
      ],
      "text/plain": [
       "          pmid                                              title     score  \\\n",
       "1266  15288761  Glutamate-induced deregulation of calcium home...  0.800399   \n",
       "4724   1315139  Mechanisms of aldehyde-induced bronchial react...  0.784157   \n",
       "4946   3119177  Early manifestations of vitamin D effects in r...  0.774878   \n",
       "4665    645879  Mechanical responses of isolated dog cerebral ...  0.735442   \n",
       "8434  35426944  Benchmark Dose Modeling Approaches for Volatil...  0.708516   \n",
       "...        ...                                                ...       ...   \n",
       "8670  36794697  Chemical management of aquatic macrophytes und...  0.351582   \n",
       "8488  35705587  Risk assessment of glyphosate and malathion po...  0.346600   \n",
       "8738  37214918  The herbicide glyphosate inhibits hippocampal ...  0.345952   \n",
       "7977  32556045  Ecological risk assessment of glyphosate in su...  0.343908   \n",
       "6730  22200534  A glyphosate-based herbicide induces necrosis ...  0.340675   \n",
       "\n",
       "      max_features  \n",
       "1266           100  \n",
       "4724           100  \n",
       "4946           100  \n",
       "4665           100  \n",
       "8434           100  \n",
       "...            ...  \n",
       "8670          3000  \n",
       "8488          3000  \n",
       "8738          3000  \n",
       "7977          3000  \n",
       "6730          3000  \n",
       "\n",
       "[120 rows x 4 columns]"
      ]
     },
     "execution_count": 33,
     "metadata": {},
     "output_type": "execute_result"
    }
   ],
   "source": [
    "# paper2idx # already present\n",
    "recommendations = None\n",
    "for mf in [100, 250, 500, 1000, 2000, 3000]:\n",
    "    print(f'analysing with max_features={mf}')\n",
    "    vectorizer = TfidfVectorizer(tokenizer=tokenizer, max_features=mf)\n",
    "    X = vectorizer.fit_transform(data[data_selection])\n",
    "    pmid = 29990732 #29990732 #29981025\n",
    "    #print(f\"Recommendations for {pmid}:\")\n",
    "    new_recommendations = utils.recommend(pmid, data, paper2idx, X, top_n_papers=20)\n",
    "    new_recommendations['max_features'] = mf\n",
    "    if recommendations is None:\n",
    "        recommendations = new_recommendations\n",
    "    else:\n",
    "        recommendations = pd.concat([recommendations, new_recommendations])\n",
    "recommendations"
   ]
  },
  {
   "cell_type": "code",
   "execution_count": 34,
   "metadata": {},
   "outputs": [],
   "source": [
    "recommendations.to_csv('tf_idf_vocabulary_size_test.csv')"
   ]
  },
  {
   "cell_type": "code",
   "execution_count": 35,
   "metadata": {},
   "outputs": [
    {
     "data": {
      "text/html": [
       "<div>\n",
       "<style scoped>\n",
       "    .dataframe tbody tr th:only-of-type {\n",
       "        vertical-align: middle;\n",
       "    }\n",
       "\n",
       "    .dataframe tbody tr th {\n",
       "        vertical-align: top;\n",
       "    }\n",
       "\n",
       "    .dataframe thead th {\n",
       "        text-align: right;\n",
       "    }\n",
       "</style>\n",
       "<table border=\"1\" class=\"dataframe\">\n",
       "  <thead>\n",
       "    <tr style=\"text-align: right;\">\n",
       "      <th></th>\n",
       "      <th>pmid</th>\n",
       "      <th>title</th>\n",
       "      <th>score</th>\n",
       "      <th>max_features</th>\n",
       "    </tr>\n",
       "  </thead>\n",
       "  <tbody>\n",
       "    <tr>\n",
       "      <th>1266</th>\n",
       "      <td>15288761</td>\n",
       "      <td>Glutamate-induced deregulation of calcium home...</td>\n",
       "      <td>0.800399</td>\n",
       "      <td>100</td>\n",
       "    </tr>\n",
       "    <tr>\n",
       "      <th>4724</th>\n",
       "      <td>1315139</td>\n",
       "      <td>Mechanisms of aldehyde-induced bronchial react...</td>\n",
       "      <td>0.784157</td>\n",
       "      <td>100</td>\n",
       "    </tr>\n",
       "    <tr>\n",
       "      <th>4946</th>\n",
       "      <td>3119177</td>\n",
       "      <td>Early manifestations of vitamin D effects in r...</td>\n",
       "      <td>0.774878</td>\n",
       "      <td>100</td>\n",
       "    </tr>\n",
       "    <tr>\n",
       "      <th>4665</th>\n",
       "      <td>645879</td>\n",
       "      <td>Mechanical responses of isolated dog cerebral ...</td>\n",
       "      <td>0.735442</td>\n",
       "      <td>100</td>\n",
       "    </tr>\n",
       "    <tr>\n",
       "      <th>8434</th>\n",
       "      <td>35426944</td>\n",
       "      <td>Benchmark Dose Modeling Approaches for Volatil...</td>\n",
       "      <td>0.708516</td>\n",
       "      <td>100</td>\n",
       "    </tr>\n",
       "    <tr>\n",
       "      <th>...</th>\n",
       "      <td>...</td>\n",
       "      <td>...</td>\n",
       "      <td>...</td>\n",
       "      <td>...</td>\n",
       "    </tr>\n",
       "    <tr>\n",
       "      <th>8670</th>\n",
       "      <td>36794697</td>\n",
       "      <td>Chemical management of aquatic macrophytes und...</td>\n",
       "      <td>0.351582</td>\n",
       "      <td>3000</td>\n",
       "    </tr>\n",
       "    <tr>\n",
       "      <th>8488</th>\n",
       "      <td>35705587</td>\n",
       "      <td>Risk assessment of glyphosate and malathion po...</td>\n",
       "      <td>0.346600</td>\n",
       "      <td>3000</td>\n",
       "    </tr>\n",
       "    <tr>\n",
       "      <th>8738</th>\n",
       "      <td>37214918</td>\n",
       "      <td>The herbicide glyphosate inhibits hippocampal ...</td>\n",
       "      <td>0.345952</td>\n",
       "      <td>3000</td>\n",
       "    </tr>\n",
       "    <tr>\n",
       "      <th>7977</th>\n",
       "      <td>32556045</td>\n",
       "      <td>Ecological risk assessment of glyphosate in su...</td>\n",
       "      <td>0.343908</td>\n",
       "      <td>3000</td>\n",
       "    </tr>\n",
       "    <tr>\n",
       "      <th>6730</th>\n",
       "      <td>22200534</td>\n",
       "      <td>A glyphosate-based herbicide induces necrosis ...</td>\n",
       "      <td>0.340675</td>\n",
       "      <td>3000</td>\n",
       "    </tr>\n",
       "  </tbody>\n",
       "</table>\n",
       "<p>120 rows × 4 columns</p>\n",
       "</div>"
      ],
      "text/plain": [
       "          pmid                                              title     score  \\\n",
       "1266  15288761  Glutamate-induced deregulation of calcium home...  0.800399   \n",
       "4724   1315139  Mechanisms of aldehyde-induced bronchial react...  0.784157   \n",
       "4946   3119177  Early manifestations of vitamin D effects in r...  0.774878   \n",
       "4665    645879  Mechanical responses of isolated dog cerebral ...  0.735442   \n",
       "8434  35426944  Benchmark Dose Modeling Approaches for Volatil...  0.708516   \n",
       "...        ...                                                ...       ...   \n",
       "8670  36794697  Chemical management of aquatic macrophytes und...  0.351582   \n",
       "8488  35705587  Risk assessment of glyphosate and malathion po...  0.346600   \n",
       "8738  37214918  The herbicide glyphosate inhibits hippocampal ...  0.345952   \n",
       "7977  32556045  Ecological risk assessment of glyphosate in su...  0.343908   \n",
       "6730  22200534  A glyphosate-based herbicide induces necrosis ...  0.340675   \n",
       "\n",
       "      max_features  \n",
       "1266           100  \n",
       "4724           100  \n",
       "4946           100  \n",
       "4665           100  \n",
       "8434           100  \n",
       "...            ...  \n",
       "8670          3000  \n",
       "8488          3000  \n",
       "8738          3000  \n",
       "7977          3000  \n",
       "6730          3000  \n",
       "\n",
       "[120 rows x 4 columns]"
      ]
     },
     "execution_count": 35,
     "metadata": {},
     "output_type": "execute_result"
    }
   ],
   "source": [
    "recommendations\n"
   ]
  }
 ],
 "metadata": {
  "kernelspec": {
   "display_name": "nlp",
   "language": "python",
   "name": "nlp"
  },
  "language_info": {
   "codemirror_mode": {
    "name": "ipython",
    "version": 3
   },
   "file_extension": ".py",
   "mimetype": "text/x-python",
   "name": "python",
   "nbconvert_exporter": "python",
   "pygments_lexer": "ipython3",
   "version": "3.12.8"
  }
 },
 "nbformat": 4,
 "nbformat_minor": 4
}
