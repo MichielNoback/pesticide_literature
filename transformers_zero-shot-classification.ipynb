{
 "cells": [
  {
   "cell_type": "code",
   "execution_count": 1,
   "id": "1590f43e",
   "metadata": {},
   "outputs": [],
   "source": [
    "from transformers import pipeline\n",
    "\n",
    "import numpy as np\n",
    "import pandas as pd\n",
    "import seaborn as sn\n",
    "import matplotlib.pyplot as plt\n",
    "import textwrap\n",
    "\n",
    "from sklearn.metrics import roc_auc_score, f1_score, confusion_matrix"
   ]
  },
  {
   "cell_type": "code",
   "execution_count": 2,
   "id": "a6ff6b69",
   "metadata": {},
   "outputs": [
    {
     "name": "stderr",
     "output_type": "stream",
     "text": [
      "No model was supplied, defaulted to facebook/bart-large-mnli (https://huggingface.co/facebook/bart-large-mnli)\n"
     ]
    },
    {
     "data": {
      "application/vnd.jupyter.widget-view+json": {
       "model_id": "433e442f0708442c9bd5b39ac7f47906",
       "version_major": 2,
       "version_minor": 0
      },
      "text/plain": [
       "Downloading:   0%|          | 0.00/1.13k [00:00<?, ?B/s]"
      ]
     },
     "metadata": {},
     "output_type": "display_data"
    },
    {
     "data": {
      "application/vnd.jupyter.widget-view+json": {
       "model_id": "2d48bb8bab7043b1a673ea65e863c808",
       "version_major": 2,
       "version_minor": 0
      },
      "text/plain": [
       "Downloading:   0%|          | 0.00/1.52G [00:00<?, ?B/s]"
      ]
     },
     "metadata": {},
     "output_type": "display_data"
    },
    {
     "data": {
      "application/vnd.jupyter.widget-view+json": {
       "model_id": "8203fb56e9b342ab9be93ddd3a0b4eff",
       "version_major": 2,
       "version_minor": 0
      },
      "text/plain": [
       "Downloading:   0%|          | 0.00/26.0 [00:00<?, ?B/s]"
      ]
     },
     "metadata": {},
     "output_type": "display_data"
    },
    {
     "data": {
      "application/vnd.jupyter.widget-view+json": {
       "model_id": "6f53ae000a164c898c4bf37239c8964f",
       "version_major": 2,
       "version_minor": 0
      },
      "text/plain": [
       "Downloading:   0%|          | 0.00/878k [00:00<?, ?B/s]"
      ]
     },
     "metadata": {},
     "output_type": "display_data"
    },
    {
     "data": {
      "application/vnd.jupyter.widget-view+json": {
       "model_id": "0159e5b1cbf54a2db19b658b7041cf37",
       "version_major": 2,
       "version_minor": 0
      },
      "text/plain": [
       "Downloading:   0%|          | 0.00/446k [00:00<?, ?B/s]"
      ]
     },
     "metadata": {},
     "output_type": "display_data"
    },
    {
     "data": {
      "application/vnd.jupyter.widget-view+json": {
       "model_id": "a448efd0002742e4beafbaa75c16b72e",
       "version_major": 2,
       "version_minor": 0
      },
      "text/plain": [
       "Downloading:   0%|          | 0.00/1.29M [00:00<?, ?B/s]"
      ]
     },
     "metadata": {},
     "output_type": "display_data"
    },
    {
     "name": "stderr",
     "output_type": "stream",
     "text": [
      "Special tokens have been added in the vocabulary, make sure the associated word embeddings are fine-tuned or trained.\n"
     ]
    }
   ],
   "source": [
    "classifier = pipeline(\"zero-shot-classification\") # , device=0 # no GPU available"
   ]
  },
  {
   "cell_type": "code",
   "execution_count": 4,
   "id": "384078db",
   "metadata": {},
   "outputs": [
    {
     "data": {
      "text/plain": [
       "BartConfig {\n",
       "  \"_name_or_path\": \"facebook/bart-large-mnli\",\n",
       "  \"_num_labels\": 3,\n",
       "  \"activation_dropout\": 0.0,\n",
       "  \"activation_function\": \"gelu\",\n",
       "  \"add_final_layer_norm\": false,\n",
       "  \"architectures\": [\n",
       "    \"BartForSequenceClassification\"\n",
       "  ],\n",
       "  \"attention_dropout\": 0.0,\n",
       "  \"bos_token_id\": 0,\n",
       "  \"classif_dropout\": 0.0,\n",
       "  \"classifier_dropout\": 0.0,\n",
       "  \"d_model\": 1024,\n",
       "  \"decoder_attention_heads\": 16,\n",
       "  \"decoder_ffn_dim\": 4096,\n",
       "  \"decoder_layerdrop\": 0.0,\n",
       "  \"decoder_layers\": 12,\n",
       "  \"decoder_start_token_id\": 2,\n",
       "  \"dropout\": 0.1,\n",
       "  \"encoder_attention_heads\": 16,\n",
       "  \"encoder_ffn_dim\": 4096,\n",
       "  \"encoder_layerdrop\": 0.0,\n",
       "  \"encoder_layers\": 12,\n",
       "  \"eos_token_id\": 2,\n",
       "  \"forced_eos_token_id\": 2,\n",
       "  \"gradient_checkpointing\": false,\n",
       "  \"id2label\": {\n",
       "    \"0\": \"contradiction\",\n",
       "    \"1\": \"neutral\",\n",
       "    \"2\": \"entailment\"\n",
       "  },\n",
       "  \"init_std\": 0.02,\n",
       "  \"is_encoder_decoder\": true,\n",
       "  \"label2id\": {\n",
       "    \"contradiction\": 0,\n",
       "    \"entailment\": 2,\n",
       "    \"neutral\": 1\n",
       "  },\n",
       "  \"max_position_embeddings\": 1024,\n",
       "  \"model_type\": \"bart\",\n",
       "  \"normalize_before\": false,\n",
       "  \"num_hidden_layers\": 12,\n",
       "  \"output_past\": false,\n",
       "  \"pad_token_id\": 1,\n",
       "  \"scale_embedding\": false,\n",
       "  \"transformers_version\": \"4.17.0\",\n",
       "  \"use_cache\": true,\n",
       "  \"vocab_size\": 50265\n",
       "}"
      ]
     },
     "execution_count": 4,
     "metadata": {},
     "output_type": "execute_result"
    }
   ],
   "source": [
    "# the model properties\n",
    "classifier.model.config"
   ]
  },
  {
   "cell_type": "code",
   "execution_count": 5,
   "id": "668930ee",
   "metadata": {},
   "outputs": [
    {
     "data": {
      "text/plain": [
       "{'sequence': 'This is a great movie',\n",
       " 'labels': ['positive', 'negative'],\n",
       " 'scores': [0.9969461560249329, 0.003053834196180105]}"
      ]
     },
     "execution_count": 5,
     "metadata": {},
     "output_type": "execute_result"
    }
   ],
   "source": [
    "classifier(\"This is a great movie\", candidate_labels=[\"positive\", \"negative\"])"
   ]
  },
  {
   "cell_type": "code",
   "execution_count": 6,
   "id": "ef6bc015",
   "metadata": {},
   "outputs": [
    {
     "data": {
      "text/plain": [
       "{'sequence': 'Due to the presence of isoforms of its components, there are 12 versions of AMPK in mammals, each of which can have different tissue localizations, and different functions under different conditions. AMPK is regulated allosterically and by post-translational modification, which work together.',\n",
       " 'labels': ['biology', 'math', 'geology'],\n",
       " 'scores': [0.8908604383468628, 0.06606560200452805, 0.04307394102215767]}"
      ]
     },
     "execution_count": 6,
     "metadata": {},
     "output_type": "execute_result"
    }
   ],
   "source": [
    "# https://en.wikipedia.org/wiki/AMP-activated_protein_kinase\n",
    "text = \"Due to the presence of isoforms of its components, there are 12 \" + \\\n",
    "  \"versions of AMPK in mammals, each of which can have different tissue \" + \\\n",
    "  \"localizations, and different functions under different conditions. \" + \\\n",
    "  \"AMPK is regulated allosterically and by post-translational \" + \\\n",
    "  \"modification, which work together.\"\n",
    "classifier(text, candidate_labels=[\"biology\", \"math\", \"geology\"])"
   ]
  },
  {
   "cell_type": "code",
   "execution_count": 7,
   "id": "f0c850ed",
   "metadata": {},
   "outputs": [
    {
     "data": {
      "text/html": [
       "<div>\n",
       "<style scoped>\n",
       "    .dataframe tbody tr th:only-of-type {\n",
       "        vertical-align: middle;\n",
       "    }\n",
       "\n",
       "    .dataframe tbody tr th {\n",
       "        vertical-align: top;\n",
       "    }\n",
       "\n",
       "    .dataframe thead th {\n",
       "        text-align: right;\n",
       "    }\n",
       "</style>\n",
       "<table border=\"1\" class=\"dataframe\">\n",
       "  <thead>\n",
       "    <tr style=\"text-align: right;\">\n",
       "      <th></th>\n",
       "      <th>pmid</th>\n",
       "      <th>title</th>\n",
       "      <th>abstract</th>\n",
       "    </tr>\n",
       "  </thead>\n",
       "  <tbody>\n",
       "    <tr>\n",
       "      <th>0</th>\n",
       "      <td>29990300</td>\n",
       "      <td>Oxidative stress in triazine pesticide toxicit...</td>\n",
       "      <td>This review article provides a summary of the ...</td>\n",
       "    </tr>\n",
       "    <tr>\n",
       "      <th>1</th>\n",
       "      <td>29990732</td>\n",
       "      <td>Toxicity induced by glyphosate and glyphosate-...</td>\n",
       "      <td>Glyphosate is the active component of many com...</td>\n",
       "    </tr>\n",
       "    <tr>\n",
       "      <th>2</th>\n",
       "      <td>29999060</td>\n",
       "      <td>Direct kinetics study of CH2OO + methyl vinyl ...</td>\n",
       "      <td>Methyl vinyl ketone (MVK) and methacrolein (MA...</td>\n",
       "    </tr>\n",
       "    <tr>\n",
       "      <th>3</th>\n",
       "      <td>30003825</td>\n",
       "      <td>Dihydromyricetin improves vascular hyporespons...</td>\n",
       "      <td>CONTEXT: Dihydromyricetin (DMY) has oxidation ...</td>\n",
       "    </tr>\n",
       "    <tr>\n",
       "      <th>4</th>\n",
       "      <td>30015122</td>\n",
       "      <td>Glyphosate and atrazine in rainfall and soils ...</td>\n",
       "      <td>The presence in the atmosphere of glyphosate (...</td>\n",
       "    </tr>\n",
       "  </tbody>\n",
       "</table>\n",
       "</div>"
      ],
      "text/plain": [
       "       pmid                                              title  \\\n",
       "0  29990300  Oxidative stress in triazine pesticide toxicit...   \n",
       "1  29990732  Toxicity induced by glyphosate and glyphosate-...   \n",
       "2  29999060  Direct kinetics study of CH2OO + methyl vinyl ...   \n",
       "3  30003825  Dihydromyricetin improves vascular hyporespons...   \n",
       "4  30015122  Glyphosate and atrazine in rainfall and soils ...   \n",
       "\n",
       "                                            abstract  \n",
       "0  This review article provides a summary of the ...  \n",
       "1  Glyphosate is the active component of many com...  \n",
       "2  Methyl vinyl ketone (MVK) and methacrolein (MA...  \n",
       "3  CONTEXT: Dihydromyricetin (DMY) has oxidation ...  \n",
       "4  The presence in the atmosphere of glyphosate (...  "
      ]
     },
     "execution_count": 7,
     "metadata": {},
     "output_type": "execute_result"
    }
   ],
   "source": [
    "file1 = './data/abstract_set1.txt'\n",
    "abstracts = pd.read_csv(file1, sep=\"\\t\")\n",
    "abstracts.head()"
   ]
  },
  {
   "cell_type": "code",
   "execution_count": null,
   "id": "05c39eee",
   "metadata": {},
   "outputs": [
    {
     "name": "stdout",
     "output_type": "stream",
     "text": [
      "This review article provides a summary of the studies relying on oxidative stress biomarkers (lipid peroxidation and antioxidant enzymes in particular) to investigate the effects of atrazine and terbuthylazine exposure in experimental animals and humans published since 2010. In general, experimental animals showed that atrazine and terbuthylazine exposure mostly affected their antioxidant defences and, to a lesser extent, lipid peroxidation, but the effects varied by the species, sex, age, herbicide concentration, and duration of exposure. Most of the studies involved aquatic organisms as useful and sensitive bio-indicators of environmental pollution and important part of the food chain. In laboratory mice and rats changes in oxidative stress markers were visible only with exposure to high doses of atrazine. Recently, our group reported that low-dose terbuthylazine could also induce oxidative stress in Wistar rats. It is evident that any experimental assessment of pesticide toxic effects should take into account a combination of several oxidative stress and antioxidant defence biomarkers in various tissues and cell compartments. The identified effects in experimental models should then be complemented and validated by epidemiological studies. This is important if we wish to understand the impact of pesticides on human health and to establish safe limits.\n",
      "['pesticide', 'other']\n",
      "[0.851641833782196, 0.14835818111896515]\n",
      "\n",
      "\n",
      "Glyphosate is the active component of many commonly used herbicides; it can reach bodies of water through irrigated rice plantations. In the present study, we evaluated the effect of glyphosate and Roundup® (a glyphosate-based herbicide) in established culture of the zebrafish hepatocyte cell line ZF-L after 24 and 48 h of exposure to concentrations of 650 and 3250 µg/L. We observed a reduction in metabolic activity and lysosomal integrity, and an increase in cell number after 24 h of Roundup® exposure at the highest concentration. An increase in active mitochondria and apoptotic cells was observed following 24 h exposure to glyphosate and Roundup®, while only exposure to Roundup® induced an increase in necrotic cells. Rhodamine B accumulation decreased after 48 h exposure to 650 µg/L of Roundup®; this reduction is indicative of increased activity of ABC pumps. Overall, the present findings highlighted the hazard of glyphosate exposure not only in the commercial formulation but also glyphosate alone, since both can induce damage in the ZF-L cell line primarily through the induction of apoptosis.\n",
      "['pesticide', 'other']\n",
      "[0.7933750748634338, 0.20662494003772736]\n",
      "\n",
      "\n",
      "Methyl vinyl ketone (MVK) and methacrolein (MACR) are important intermediate products in atmospheric degradation of volatile organic compounds, especially of isoprene. This work investigates the reactions of the smallest Criegee intermediate, CH2OO, with its co-products from isoprene ozonolysis, MVK and MACR, using multiplexed photoionization mass spectrometry (MPIMS), with either tunable synchrotron radiation from the Advanced Light Source or Lyman-α (10.2 eV) radiation for photoionization. CH2OO was produced via pulsed laser photolysis of CH2I2 in the presence of excess O2. Time-resolved measurements of reactant disappearance and of product formation were performed to monitor reaction progress; first order rate coefficients were obtained from exponential fits to the CH2OO decays. The bimolecular reaction rate coefficients at 300 K and 4 Torr are k(CH2OO + MVK) = (5.0 ± 0.4) × 10-13 cm3 s-1 and k(CH2OO + MACR) = (4.4 ± 1.0) × 10-13 cm3 s-1, where the stated ±2σ uncertainties are statistical uncertainties. Adduct formation is observed for both reactions and is attributed to the formation of a secondary ozonides (1,2,4-trioxolanes), supported by master equation calculations of the kinetics and the agreement between measured and calculated adiabatic ionization energies. Kinetics measurements were also performed for a possible bimolecular CH2OO + CO reaction and for the reaction of CH2OO with CF3CHCH2 at 300 K and 4 Torr. For CH2OO + CO, no reaction is observed and an upper limit is determined: k(CH2OO + CO) < 2 × 10-16 cm3 s-1. For CH2OO + CF3CHCH2, an upper limit of k(CH2OO + CF3CHCH2) < 2 × 10-14 cm3 s-1 is obtained.\n",
      "['other', 'pesticide']\n",
      "[0.9659882187843323, 0.034011781215667725]\n",
      "\n",
      "\n",
      "CONTEXT: Dihydromyricetin (DMY) has oxidation resistance, anti-inflammatory and free radical scavenging capabilities. The preventive effects of DMY for vascular hyporeactivity remain unclear. OBJECTIVE: This study investigates the preventive effects of DMY in vascular hyporeactivity. MATERIALS AND METHODS: The experimental sepsis was induced by transvenous administration of lipopolysaccharide (LPS) to Sprague-Dawley (SD) rats. DMY-treated rats received daily administration of DMY, 5 μg/kg dissolved in DMSO through the tail vein for 7 days. The invasive mean arterial pressure (MAP) of the caudal ventral artery was measured. Dose-response curves for norepinephrine (NE, doses from 10-9 to 10-6 M) were obtained in isolated thoracic aorta in a cumulative manner. The function of MaxiK and KATP channels were investigated using whole-cell patch clamp recording. The Elisa was adopted to measure the serum concentration of NO, MDA, 3-NT, IL-1β and TNF-α. RESULTS: The increased MAP in septic rats induced by vasopressor agents was smaller than that in control rats. However, the % of increased MAP induced by vasopressor agents was raised by DMY injection (NE: 20.4 ± 8.495 vs. 15.16 ± 5.195%; AVP: 14.05 ± 2.459 vs. 9.583 ± 2.982%, p < 0.05). The vascular hyporesponsiveness to NE (10-6 M) in vitro. was increased by 51% in LPS + DMY group compared with that in LPS + Con group (2.74 ± 0.81 vs. 1.82 ± 0.92 g, p < 0.05). Charybdotoxin (a potent MaxiK channel blocker) and glibenclamide (a KATP channel blocker) pretreatment, instead of 4-aminopyridine (4-AP) and BaCl2, could diminish the DMY-induced improvement of vasoconstrictor hyporeactivity (ChTX: 73.2 ± 11.8 vs. 71.8 ± 13.5%; Glib: 63.1 ± 12.5 vs. 58.1 ± 13.7%, p > 0.05). DMY blunted the highly sensitized MaxiK and KATP channels of arterial smooth muscle cells isolated from the thoracic aorta of LPS rats. DMY decreased the serum level of NO, MDA, IL-1β and TNF-α, which had increased in LPS rats. DISCUSSION AND CONCLUSIONS: Our results indicate that DMY administration ameliorated the impaired contractility of the rat aorta in experimental sepsis. Such an effect is mediated by normalization of the over-excited MaxiK and KATP, channels possibly via oxidative stress inhibition.\n",
      "['other', 'pesticide']\n",
      "[0.946839451789856, 0.053160544484853745]\n",
      "\n",
      "\n",
      "The presence in the atmosphere of glyphosate (GLP) and atrazine (ATZ) was investigated-those pesticides dominating the market in Argentina-through rain, as the main climatic phenomenon associated with wet deposition, both through analyzing source-receptor relationships with soil along with the climatic influences that may condition that transport and through estimating the annual deposition on the surface of the Argentine pampas. Rainwater samples (n = 112) were collected throughout each rainfall in urban areas of the pampas having different degrees of land use and with extensive crop production plus subsurface-soil samples (n = 58) from the relevant periurban sites. The herbicides-analyzed by liquid-chromatography-mass-spectrometry-were detected in >80% of the rain samples at median-to-maximum concentrations of 1.24-67.3 μg·L-1 (GLP) and 0.22-26.9 μg·L-1(ATZ), while aminomethylphosphonic acid (AMPA) was detected at 34% (0.75-7.91 μg·L-1). In soils, GLP was more frequently registered (41%; 102-323 μg·kg-1) followed by ATZ (32%; 7-66 μg·kg-1) and then AMPA (22%; 223-732 μg·kg-1). The maximum GLP concentrations quantified in rainwater exceeded the previously reported levels for the USA and Canada. No associations were observed between soil and rainwater concentrations in the same monitoring areas-despite the soil's action as a source, as evidenced through the AMPA present in rainwater. Median GLP concentrations were significantly associated with isohyets, in an increasing gradient from the east to the west-as such in an inverse pattern to that of the annual rainfall volumes; whereas ATZ-rainwater levels exhibited no characteristic spatial configuration. The estimated annual deposition of GLP by rainfall indicated that more than onc source of a herbicide can lead to its presence in the atmosphere and points out the relevance of rainfall's contribution to the surface levels of a pollutant.\n",
      "['pesticide', 'other']\n",
      "[0.7873439192771912, 0.21265606582164764]\n",
      "\n",
      "\n"
     ]
    }
   ],
   "source": [
    "# my own labels: ['pesticide', 'other']\n",
    "for i in range(5):\n",
    "    print(abstracts.iloc[i]['abstract'])\n",
    "    classification = classifier(abstracts.iloc[i]['abstract'], candidate_labels=[\"pesticide\", \"other\"])\n",
    "    print(classification['labels'])\n",
    "    print(classification['scores'])\n",
    "    print(\"\\n\")"
   ]
  },
  {
   "cell_type": "markdown",
   "id": "c7ceeb5e",
   "metadata": {},
   "source": [
    "The above sample was manually annotated by me (in progress). This result is amazing: 100% accuracy on this (extremely small) sample.\n",
    "I will try on a slightly more extensive set."
   ]
  },
  {
   "cell_type": "code",
   "execution_count": 29,
   "id": "7686a81e",
   "metadata": {},
   "outputs": [],
   "source": [
    "# abstract_set1_labeled = pd.read_csv('./data/abstract_set1_manually_labeled.txt', sep=\"\\t\", encoding='utf-16')\n",
    "# abstract_set1_labeled.head()\n",
    "\n",
    "# solved with read_excel (below)"
   ]
  },
  {
   "cell_type": "code",
   "execution_count": 51,
   "id": "789df3d9",
   "metadata": {},
   "outputs": [
    {
     "data": {
      "text/html": [
       "<div>\n",
       "<style scoped>\n",
       "    .dataframe tbody tr th:only-of-type {\n",
       "        vertical-align: middle;\n",
       "    }\n",
       "\n",
       "    .dataframe tbody tr th {\n",
       "        vertical-align: top;\n",
       "    }\n",
       "\n",
       "    .dataframe thead th {\n",
       "        text-align: right;\n",
       "    }\n",
       "</style>\n",
       "<table border=\"1\" class=\"dataframe\">\n",
       "  <thead>\n",
       "    <tr style=\"text-align: right;\">\n",
       "      <th></th>\n",
       "      <th>pmid</th>\n",
       "      <th>title</th>\n",
       "      <th>label</th>\n",
       "      <th>abstract</th>\n",
       "    </tr>\n",
       "  </thead>\n",
       "  <tbody>\n",
       "    <tr>\n",
       "      <th>0</th>\n",
       "      <td>29990300</td>\n",
       "      <td>Oxidative stress in triazine pesticide toxicit...</td>\n",
       "      <td>1</td>\n",
       "      <td>This review article provides a summary of the ...</td>\n",
       "    </tr>\n",
       "    <tr>\n",
       "      <th>1</th>\n",
       "      <td>29990732</td>\n",
       "      <td>Toxicity induced by glyphosate and glyphosate-...</td>\n",
       "      <td>1</td>\n",
       "      <td>Glyphosate is the active component of many com...</td>\n",
       "    </tr>\n",
       "    <tr>\n",
       "      <th>2</th>\n",
       "      <td>29999060</td>\n",
       "      <td>Direct kinetics study of CH2OO + methyl vinyl ...</td>\n",
       "      <td>0</td>\n",
       "      <td>Methyl vinyl ketone (MVK) and methacrolein (MA...</td>\n",
       "    </tr>\n",
       "    <tr>\n",
       "      <th>3</th>\n",
       "      <td>30003825</td>\n",
       "      <td>Dihydromyricetin improves vascular hyporespons...</td>\n",
       "      <td>0</td>\n",
       "      <td>CONTEXT: Dihydromyricetin (DMY) has oxidation ...</td>\n",
       "    </tr>\n",
       "    <tr>\n",
       "      <th>4</th>\n",
       "      <td>30015122</td>\n",
       "      <td>Glyphosate and atrazine in rainfall and soils ...</td>\n",
       "      <td>1</td>\n",
       "      <td>The presence in the atmosphere of glyphosate (...</td>\n",
       "    </tr>\n",
       "  </tbody>\n",
       "</table>\n",
       "</div>"
      ],
      "text/plain": [
       "       pmid                                              title  label  \\\n",
       "0  29990300  Oxidative stress in triazine pesticide toxicit...      1   \n",
       "1  29990732  Toxicity induced by glyphosate and glyphosate-...      1   \n",
       "2  29999060  Direct kinetics study of CH2OO + methyl vinyl ...      0   \n",
       "3  30003825  Dihydromyricetin improves vascular hyporespons...      0   \n",
       "4  30015122  Glyphosate and atrazine in rainfall and soils ...      1   \n",
       "\n",
       "                                            abstract  \n",
       "0  This review article provides a summary of the ...  \n",
       "1  Glyphosate is the active component of many com...  \n",
       "2  Methyl vinyl ketone (MVK) and methacrolein (MA...  \n",
       "3  CONTEXT: Dihydromyricetin (DMY) has oxidation ...  \n",
       "4  The presence in the atmosphere of glyphosate (...  "
      ]
     },
     "execution_count": 51,
     "metadata": {},
     "output_type": "execute_result"
    }
   ],
   "source": [
    "abstract_set1_labeled = pd.read_excel('./data/abstract_set1_manually_labeled.xlsx', sheet_name='Sheet1')\n",
    "#drop na values\n",
    "abstract_set1_labeled = abstract_set1_labeled.dropna()\n",
    "#drop duplicates\n",
    "abstract_set1_labeled = abstract_set1_labeled.drop_duplicates()\n",
    "#change column type of 'label' to integer\n",
    "abstract_set1_labeled['label'] = abstract_set1_labeled['label'].astype(int)\n",
    "#reset index\n",
    "abstract_set1_labeled = abstract_set1_labeled.reset_index(drop=True)\n",
    "abstract_set1_labeled.head()\n"
   ]
  },
  {
   "cell_type": "code",
   "execution_count": 50,
   "id": "561468d3",
   "metadata": {},
   "outputs": [],
   "source": [
    "#select first 5 rows\n",
    "# abstract_set1_labeled_selection = abstract_set1_labeled.iloc[:5]\n",
    "# abstract_set1_labeled_selection\n"
   ]
  },
  {
   "cell_type": "code",
   "execution_count": 52,
   "id": "4105fc72",
   "metadata": {},
   "outputs": [
    {
     "name": "stdout",
     "output_type": "stream",
     "text": [
      "[['pesticide', 'other'], ['pesticide', 'other'], ['other', 'pesticide'], ['other', 'pesticide'], ['pesticide', 'other'], ['pesticide', 'other'], ['pesticide', 'other'], ['other', 'pesticide'], ['other', 'pesticide'], ['other', 'pesticide'], ['other', 'pesticide'], ['pesticide', 'other'], ['pesticide', 'other'], ['other', 'pesticide'], ['other', 'pesticide'], ['other', 'pesticide'], ['pesticide', 'other'], ['pesticide', 'other'], ['other', 'pesticide'], ['pesticide', 'other'], ['other', 'pesticide'], ['other', 'pesticide'], ['pesticide', 'other'], ['other', 'pesticide'], ['other', 'pesticide'], ['other', 'pesticide'], ['other', 'pesticide'], ['other', 'pesticide'], ['pesticide', 'other'], ['other', 'pesticide'], ['other', 'pesticide'], ['pesticide', 'other'], ['pesticide', 'other'], ['pesticide', 'other'], ['other', 'pesticide'], ['other', 'pesticide'], ['other', 'pesticide'], ['other', 'pesticide'], ['pesticide', 'other'], ['other', 'pesticide'], ['pesticide', 'other'], ['other', 'pesticide'], ['pesticide', 'other'], ['other', 'pesticide'], ['other', 'pesticide'], ['pesticide', 'other'], ['other', 'pesticide'], ['pesticide', 'other'], ['other', 'pesticide'], ['pesticide', 'other'], ['pesticide', 'other'], ['pesticide', 'other'], ['pesticide', 'other'], ['other', 'pesticide'], ['pesticide', 'other'], ['other', 'pesticide'], ['pesticide', 'other'], ['pesticide', 'other'], ['other', 'pesticide'], ['pesticide', 'other'], ['pesticide', 'other'], ['pesticide', 'other'], ['other', 'pesticide'], ['pesticide', 'other'], ['other', 'pesticide'], ['other', 'pesticide'], ['other', 'pesticide'], ['pesticide', 'other'], ['other', 'pesticide'], ['pesticide', 'other'], ['other', 'pesticide'], ['other', 'pesticide'], ['other', 'pesticide'], ['pesticide', 'other'], ['other', 'pesticide'], ['other', 'pesticide'], ['other', 'pesticide'], ['other', 'pesticide'], ['other', 'pesticide'], ['pesticide', 'other'], ['other', 'pesticide'], ['other', 'pesticide'], ['other', 'pesticide'], ['other', 'pesticide'], ['other', 'pesticide'], ['pesticide', 'other'], ['other', 'pesticide'], ['pesticide', 'other'], ['other', 'pesticide'], ['other', 'pesticide'], ['other', 'pesticide'], ['pesticide', 'other'], ['other', 'pesticide'], ['other', 'pesticide'], ['pesticide', 'other'], ['pesticide', 'other'], ['other', 'pesticide'], ['other', 'pesticide'], ['pesticide', 'other'], ['pesticide', 'other'], ['other', 'pesticide'], ['other', 'pesticide'], ['pesticide', 'other'], ['pesticide', 'other'], ['other', 'pesticide'], ['other', 'pesticide'], ['other', 'pesticide'], ['pesticide', 'other'], ['other', 'pesticide'], ['other', 'pesticide'], ['other', 'pesticide'], ['other', 'pesticide'], ['pesticide', 'other'], ['other', 'pesticide'], ['other', 'pesticide'], ['other', 'pesticide'], ['other', 'pesticide'], ['other', 'pesticide'], ['other', 'pesticide'], ['pesticide', 'other'], ['pesticide', 'other'], ['other', 'pesticide'], ['other', 'pesticide'], ['other', 'pesticide'], ['pesticide', 'other'], ['pesticide', 'other'], ['other', 'pesticide'], ['pesticide', 'other'], ['other', 'pesticide'], ['other', 'pesticide'], ['other', 'pesticide'], ['other', 'pesticide'], ['other', 'pesticide'], ['pesticide', 'other'], ['other', 'pesticide'], ['pesticide', 'other'], ['other', 'pesticide'], ['other', 'pesticide'], ['pesticide', 'other'], ['other', 'pesticide'], ['other', 'pesticide'], ['other', 'pesticide'], ['other', 'pesticide'], ['pesticide', 'other'], ['other', 'pesticide'], ['pesticide', 'other'], ['other', 'pesticide'], ['pesticide', 'other'], ['other', 'pesticide'], ['other', 'pesticide'], ['other', 'pesticide'], ['pesticide', 'other'], ['pesticide', 'other'], ['other', 'pesticide'], ['other', 'pesticide'], ['other', 'pesticide'], ['pesticide', 'other'], ['pesticide', 'other'], ['other', 'pesticide'], ['pesticide', 'other'], ['other', 'pesticide'], ['pesticide', 'other'], ['pesticide', 'other'], ['other', 'pesticide'], ['other', 'pesticide'], ['other', 'pesticide'], ['pesticide', 'other'], ['pesticide', 'other'], ['pesticide', 'other'], ['pesticide', 'other'], ['other', 'pesticide'], ['pesticide', 'other'], ['other', 'pesticide'], ['other', 'pesticide'], ['other', 'pesticide'], ['pesticide', 'other'], ['other', 'pesticide'], ['pesticide', 'other'], ['other', 'pesticide'], ['other', 'pesticide'], ['pesticide', 'other'], ['pesticide', 'other'], ['other', 'pesticide'], ['other', 'pesticide'], ['other', 'pesticide'], ['other', 'pesticide'], ['other', 'pesticide'], ['other', 'pesticide'], ['other', 'pesticide'], ['pesticide', 'other'], ['other', 'pesticide'], ['pesticide', 'other'], ['other', 'pesticide'], ['other', 'pesticide'], ['other', 'pesticide'], ['other', 'pesticide'], ['other', 'pesticide'], ['other', 'pesticide'], ['other', 'pesticide'], ['other', 'pesticide'], ['other', 'pesticide'], ['other', 'pesticide'], ['other', 'pesticide'], ['other', 'pesticide'], ['other', 'pesticide'], ['other', 'pesticide'], ['other', 'pesticide'], ['other', 'pesticide'], ['other', 'pesticide'], ['other', 'pesticide'], ['other', 'pesticide'], ['other', 'pesticide'], ['other', 'pesticide'], ['pesticide', 'other'], ['other', 'pesticide'], ['other', 'pesticide'], ['pesticide', 'other'], ['other', 'pesticide'], ['other', 'pesticide'], ['other', 'pesticide'], ['other', 'pesticide'], ['other', 'pesticide'], ['other', 'pesticide'], ['other', 'pesticide'], ['other', 'pesticide'], ['pesticide', 'other'], ['other', 'pesticide'], ['other', 'pesticide'], ['other', 'pesticide'], ['other', 'pesticide'], ['other', 'pesticide'], ['other', 'pesticide'], ['other', 'pesticide'], ['other', 'pesticide'], ['other', 'pesticide'], ['pesticide', 'other'], ['other', 'pesticide'], ['other', 'pesticide'], ['pesticide', 'other'], ['other', 'pesticide'], ['other', 'pesticide'], ['other', 'pesticide'], ['other', 'pesticide'], ['other', 'pesticide'], ['other', 'pesticide'], ['other', 'pesticide'], ['pesticide', 'other'], ['other', 'pesticide'], ['other', 'pesticide'], ['other', 'pesticide'], ['other', 'pesticide'], ['other', 'pesticide'], ['other', 'pesticide'], ['other', 'pesticide'], ['other', 'pesticide'], ['other', 'pesticide'], ['other', 'pesticide'], ['other', 'pesticide'], ['other', 'pesticide'], ['other', 'pesticide']]\n",
      "[[0.851641833782196, 0.14835818111896515], [0.7933750748634338, 0.20662494003772736], [0.9659882187843323, 0.034011781215667725], [0.946839451789856, 0.053160544484853745], [0.7873439192771912, 0.21265606582164764], [0.7794129848480225, 0.22058700025081635], [0.7313270568847656, 0.2686729431152344], [0.7663859128952026, 0.23361411690711975], [0.5666975975036621, 0.4333024322986603], [0.9174262881278992, 0.08257373422384262], [0.9477043747901917, 0.052295614033937454], [0.6972577571868896, 0.30274224281311035], [0.8461653590202332, 0.15383468568325043], [0.9686927199363708, 0.03130729869008064], [0.8875721096992493, 0.1124279573559761], [0.7141585350036621, 0.2858414649963379], [0.7166784405708313, 0.2833215594291687], [0.6033542156219482, 0.396645724773407], [0.9355220198631287, 0.06447796523571014], [0.760005533695221, 0.23999449610710144], [0.676686704158783, 0.32331323623657227], [0.950273871421814, 0.04972614347934723], [0.6404150128364563, 0.3595849573612213], [0.9267812967300415, 0.07321875542402267], [0.6478060483932495, 0.3521939814090729], [0.959348201751709, 0.040651775896549225], [0.9670695662498474, 0.03293044492602348], [0.9568725824356079, 0.043127432465553284], [0.7088938355445862, 0.2911061942577362], [0.9204126596450806, 0.07958730310201645], [0.5256744623184204, 0.4743255078792572], [0.6538181304931641, 0.34618183970451355], [0.6933313012123108, 0.306668758392334], [0.6496984958648682, 0.35030150413513184], [0.854408860206604, 0.14559108018875122], [0.8913369178771973, 0.10866307467222214], [0.95045405626297, 0.04954599216580391], [0.9402384161949158, 0.059761591255664825], [0.6876677870750427, 0.31233227252960205], [0.9145464301109314, 0.085453562438488], [0.7592984437942505, 0.2407016158103943], [0.9137104749679565, 0.08628950268030167], [0.7798178791999817, 0.2201821208000183], [0.9075614213943481, 0.09243860840797424], [0.925502598285675, 0.07449740916490555], [0.6897276639938354, 0.31027236580848694], [0.7551116943359375, 0.2448883056640625], [0.7692252993583679, 0.23077473044395447], [0.5376238822937012, 0.4623761773109436], [0.6771792769432068, 0.32282066345214844], [0.7128317952156067, 0.2871682047843933], [0.7881978154182434, 0.21180219948291779], [0.6322745084762573, 0.3677254915237427], [0.581490695476532, 0.4185093343257904], [0.8192934989929199, 0.18070651590824127], [0.675420343875885, 0.324579656124115], [0.584181547164917, 0.4158184826374054], [0.5133192539215088, 0.4866807460784912], [0.961338460445404, 0.038661547005176544], [0.7090147733688354, 0.29098519682884216], [0.6193463206291199, 0.3806537389755249], [0.5971376895904541, 0.4028623104095459], [0.9263893365859985, 0.07361070066690445], [0.5260623693466187, 0.47393763065338135], [0.9732796549797058, 0.026720313355326653], [0.8903127908706665, 0.1096871942281723], [0.9696007966995239, 0.030399173498153687], [0.8865799307823181, 0.11342006176710129], [0.9077795147895813, 0.09222053736448288], [0.7366425395011902, 0.2633574306964874], [0.6190522909164429, 0.38094767928123474], [0.8792983889579773, 0.12070155888795853], [0.5755781531333923, 0.4244218170642853], [0.7641459107398987, 0.2358541190624237], [0.9486673474311829, 0.051332660019397736], [0.9402729868888855, 0.05972703546285629], [0.8894437551498413, 0.11055625230073929], [0.9508144855499268, 0.049185529351234436], [0.9596335887908936, 0.040366385132074356], [0.8156384825706482, 0.1843615025281906], [0.9804995059967041, 0.01950048841536045], [0.9676872491836548, 0.032312821596860886], [0.9324343800544739, 0.06756565719842911], [0.9604389667510986, 0.03956105560064316], [0.884757936000824, 0.11524207144975662], [0.8343346118927002, 0.16566535830497742], [0.9336055517196655, 0.06639447808265686], [0.8394027948379517, 0.16059719026088715], [0.9695878624916077, 0.030412111431360245], [0.9338684678077698, 0.06613151729106903], [0.9090674519538879, 0.09093253314495087], [0.6730129718780518, 0.32698702812194824], [0.9580564498901367, 0.04194352775812149], [0.9742937088012695, 0.025706248357892036], [0.8724873661994934, 0.12751266360282898], [0.5592740774154663, 0.4407259523868561], [0.9607369303703308, 0.03926311060786247], [0.9545217752456665, 0.045478254556655884], [0.918678879737854, 0.0813211128115654], [0.8377379775047302, 0.16226200759410858], [0.834773600101471, 0.16522635519504547], [0.951447069644928, 0.04855292662978172], [0.565208911895752, 0.4347911477088928], [0.8907952308654785, 0.10920480638742447], [0.9556999802589417, 0.04430008679628372], [0.8742793202400208, 0.12572070956230164], [0.6485739350318909, 0.35142603516578674], [0.7207574248313904, 0.2792425751686096], [0.7243176102638245, 0.2756823003292084], [0.8998115658760071, 0.10018840432167053], [0.6646609306335449, 0.3353390693664551], [0.8661154508590698, 0.1338845044374466], [0.749172031879425, 0.25082796812057495], [0.7695625424385071, 0.23043742775917053], [0.7447217702865601, 0.25527822971343994], [0.5690193176269531, 0.43098071217536926], [0.886793851852417, 0.11320619285106659], [0.8871628046035767, 0.11283722519874573], [0.9237138628959656, 0.0762861892580986], [0.7047632336616516, 0.2952367663383484], [0.6707717776298523, 0.32922816276550293], [0.9123545289039612, 0.08764544129371643], [0.9602053165435791, 0.03979465737938881], [0.7236264944076538, 0.2763735353946686], [0.7772355079650879, 0.22276455163955688], [0.6084060668945312, 0.39159393310546875], [0.7092050909996033, 0.29079484939575195], [0.7782334089279175, 0.2217666655778885], [0.8649768233299255, 0.13502314686775208], [0.6577598452568054, 0.34224018454551697], [0.9375354647636414, 0.06246458739042282], [0.9719300866127014, 0.028069905936717987], [0.7312835454940796, 0.2687164545059204], [0.5742765665054321, 0.4257234036922455], [0.9751070141792297, 0.02489303983747959], [0.6078398823738098, 0.3921601474285126], [0.8046736717224121, 0.19532638788223267], [0.8649390339851379, 0.13506098091602325], [0.5731027722358704, 0.42689722776412964], [0.87701416015625, 0.12298583984375], [0.8731756210327148, 0.12682439386844635], [0.6052951812744141, 0.3947048485279083], [0.7486202120780945, 0.25137975811958313], [0.5136127471923828, 0.48638731241226196], [0.9728434085845947, 0.027156589552760124], [0.7563113570213318, 0.2436886429786682], [0.6549146175384521, 0.34508541226387024], [0.5154384970664978, 0.4845615029335022], [0.9105926752090454, 0.08940735459327698], [0.7088978886604309, 0.2911021113395691], [0.7434610724449158, 0.25653889775276184], [0.5864070057868958, 0.41359296441078186], [0.7267541885375977, 0.27324584126472473], [0.9500881433486938, 0.04991188272833824], [0.6114348769187927, 0.3885650932788849], [0.5817862749099731, 0.41821375489234924], [0.7049376368522644, 0.2950623333454132], [0.7572520971298218, 0.24274782836437225], [0.9437195658683777, 0.056280381977558136], [0.6190494298934937, 0.3809506297111511], [0.7158147692680359, 0.2841852307319641], [0.8412954211235046, 0.15870460867881775], [0.8742653727531433, 0.12573470175266266], [0.9411216974258423, 0.05887832120060921], [0.9490944147109985, 0.05090554431080818], [0.9306856393814087, 0.06931428611278534], [0.7605407238006592, 0.2394593060016632], [0.5236760377883911, 0.4763239026069641], [0.8485923409461975, 0.15140771865844727], [0.6715664267539978, 0.3284335434436798], [0.9266186952590942, 0.07338130474090576], [0.7308917045593262, 0.2691083252429962], [0.9877790212631226, 0.01222099456936121], [0.9804114699363708, 0.019588528200984], [0.98906010389328, 0.010939933359622955], [0.7087218761444092, 0.2912781238555908], [0.6456647515296936, 0.3543352782726288], [0.75746750831604, 0.24253243207931519], [0.9602965116500854, 0.03970356658101082], [0.9144899249076843, 0.08551008254289627], [0.6957815885543823, 0.3042183816432953], [0.8870779871940613, 0.11292200535535812], [0.6943721771240234, 0.30562785267829895], [0.9402498602867126, 0.059750188142061234], [0.7524687647819519, 0.2475312501192093], [0.8205230832099915, 0.17947696149349213], [0.9481277465820312, 0.05187225714325905], [0.9017463326454163, 0.09825368225574493], [0.8442609906196594, 0.15573899447917938], [0.9011350870132446, 0.09886497259140015], [0.7248184680938721, 0.27518150210380554], [0.8784990310668945, 0.12150101363658905], [0.9212238192558289, 0.07877615839242935], [0.788726806640625, 0.2112732231616974], [0.9590505361557007, 0.04094944894313812], [0.90474534034729, 0.09525465965270996], [0.82198566198349, 0.1780143827199936], [0.9494221806526184, 0.05057783052325249], [0.798964262008667, 0.2010357528924942], [0.8506165742874146, 0.14938345551490784], [0.7546949982643127, 0.24530497193336487], [0.8634936213493347, 0.1365063190460205], [0.908656120300293, 0.09134388715028763], [0.9245724678039551, 0.0754275992512703], [0.9513347148895264, 0.048665277659893036], [0.8618625998497009, 0.13813741505146027], [0.886895477771759, 0.11310449987649918], [0.9350879192352295, 0.06491212546825409], [0.9472572207450867, 0.052742816507816315], [0.8806746006011963, 0.11932538449764252], [0.9477365016937256, 0.05226346477866173], [0.8085027933120728, 0.19149719178676605], [0.9093217849731445, 0.0906781479716301], [0.8235487937927246, 0.17645123600959778], [0.9882419109344482, 0.011758065782487392], [0.8876738548278809, 0.11232616007328033], [0.8666712641716003, 0.13332872092723846], [0.9508609175682068, 0.04913906753063202], [0.9312007427215576, 0.06879927217960358], [0.8679349422454834, 0.13206510245800018], [0.9431560039520264, 0.056843943893909454], [0.9338966012001038, 0.06610342115163803], [0.930942714214325, 0.06905731558799744], [0.8849138617515564, 0.11508611589670181], [0.5100608468055725, 0.4899390935897827], [0.6475541591644287, 0.3524457812309265], [0.9094880223274231, 0.0905119776725769], [0.7165347933769226, 0.2834652364253998], [0.7192322015762329, 0.2807677984237671], [0.8889865875244141, 0.11101335287094116], [0.9714410305023193, 0.02855897881090641], [0.7205713391304016, 0.2794286906719208], [0.9042823910713196, 0.09571767598390579], [0.943172812461853, 0.056827180087566376], [0.8480775952339172, 0.15192241966724396], [0.9423128962516785, 0.057687122374773026], [0.8102583289146423, 0.18974162638187408], [0.953959584236145, 0.04604038968682289], [0.6674796342849731, 0.33252033591270447], [0.9271769523620605, 0.07282307744026184], [0.6185269951820374, 0.38147303462028503], [0.9019556641578674, 0.09804434329271317], [0.9667041897773743, 0.03329586982727051], [0.9258867502212524, 0.07411325722932816], [0.9300999641418457, 0.06990000605583191], [0.9287399649620056, 0.0712599977850914], [0.5434951186180115, 0.45650485157966614], [0.9071150422096252, 0.09288494288921356], [0.8706154823303223, 0.12938448786735535], [0.8416250944137573, 0.15837493538856506], [0.884374737739563, 0.11562529951334], [0.9083689451217651, 0.09163106232881546], [0.9450370073318481, 0.05496295168995857], [0.9479085803031921, 0.05209143087267876], [0.90254145860672, 0.09745857864618301], [0.9521429538726807, 0.04785704240202904], [0.9617893695831299, 0.03821064904332161], [0.9469354152679443, 0.053064607083797455], [0.9190681576728821, 0.08093182742595673], [0.8439431190490723, 0.15605689585208893]]\n"
     ]
    }
   ],
   "source": [
    "labels = []\n",
    "scores = []\n",
    "pmids = []\n",
    "for i in range(abstract_set1_labeled.shape[0]):\n",
    "    #print(sample[i])\n",
    "    classification = classifier(abstract_set1_labeled.iloc[i]['abstract'], candidate_labels=[\"pesticide\", \"other\"])\n",
    "    # classification = classifier(sample[i], candidate_labels=[\"pesticide\", \"other\"])\n",
    "    labels.append(classification['labels'])\n",
    "    scores.append(classification['scores'])\n",
    "    pmids.append(abstract_set1_labeled.iloc[i]['pmid'])\n",
    "\n",
    "# create a dataframe with the labels and scores\n",
    "print(labels)\n",
    "print(scores)"
   ]
  },
  {
   "cell_type": "code",
   "execution_count": 62,
   "id": "5cc6bb76",
   "metadata": {},
   "outputs": [],
   "source": [
    "#combine the labels and scores into a dataframe\n",
    "final_labels = []\n",
    "final_scores = []\n",
    "for i in range(len(labels)):\n",
    "    if labels[i][0] == 'pesticide':\n",
    "        final_labels.append(1)\n",
    "        final_scores.append(scores[i][0])\n",
    "    else:\n",
    "        final_labels.append(0)\n",
    "        final_scores.append(scores[i][1])\n"
   ]
  },
  {
   "cell_type": "code",
   "execution_count": 63,
   "id": "56d0795e",
   "metadata": {},
   "outputs": [
    {
     "data": {
      "text/html": [
       "<div>\n",
       "<style scoped>\n",
       "    .dataframe tbody tr th:only-of-type {\n",
       "        vertical-align: middle;\n",
       "    }\n",
       "\n",
       "    .dataframe tbody tr th {\n",
       "        vertical-align: top;\n",
       "    }\n",
       "\n",
       "    .dataframe thead th {\n",
       "        text-align: right;\n",
       "    }\n",
       "</style>\n",
       "<table border=\"1\" class=\"dataframe\">\n",
       "  <thead>\n",
       "    <tr style=\"text-align: right;\">\n",
       "      <th></th>\n",
       "      <th>pmid</th>\n",
       "      <th>label</th>\n",
       "      <th>score</th>\n",
       "      <th>pmid_check</th>\n",
       "      <th>human_label</th>\n",
       "    </tr>\n",
       "  </thead>\n",
       "  <tbody>\n",
       "    <tr>\n",
       "      <th>0</th>\n",
       "      <td>29990300</td>\n",
       "      <td>1</td>\n",
       "      <td>0.851642</td>\n",
       "      <td>29990300</td>\n",
       "      <td>1</td>\n",
       "    </tr>\n",
       "    <tr>\n",
       "      <th>1</th>\n",
       "      <td>29990732</td>\n",
       "      <td>1</td>\n",
       "      <td>0.793375</td>\n",
       "      <td>29990732</td>\n",
       "      <td>1</td>\n",
       "    </tr>\n",
       "    <tr>\n",
       "      <th>2</th>\n",
       "      <td>29999060</td>\n",
       "      <td>0</td>\n",
       "      <td>0.034012</td>\n",
       "      <td>29999060</td>\n",
       "      <td>0</td>\n",
       "    </tr>\n",
       "    <tr>\n",
       "      <th>3</th>\n",
       "      <td>30003825</td>\n",
       "      <td>0</td>\n",
       "      <td>0.053161</td>\n",
       "      <td>30003825</td>\n",
       "      <td>0</td>\n",
       "    </tr>\n",
       "    <tr>\n",
       "      <th>4</th>\n",
       "      <td>30015122</td>\n",
       "      <td>1</td>\n",
       "      <td>0.787344</td>\n",
       "      <td>30015122</td>\n",
       "      <td>1</td>\n",
       "    </tr>\n",
       "    <tr>\n",
       "      <th>...</th>\n",
       "      <td>...</td>\n",
       "      <td>...</td>\n",
       "      <td>...</td>\n",
       "      <td>...</td>\n",
       "      <td>...</td>\n",
       "    </tr>\n",
       "    <tr>\n",
       "      <th>255</th>\n",
       "      <td>727998</td>\n",
       "      <td>0</td>\n",
       "      <td>0.047857</td>\n",
       "      <td>727998</td>\n",
       "      <td>0</td>\n",
       "    </tr>\n",
       "    <tr>\n",
       "      <th>256</th>\n",
       "      <td>729163</td>\n",
       "      <td>0</td>\n",
       "      <td>0.038211</td>\n",
       "      <td>729163</td>\n",
       "      <td>0</td>\n",
       "    </tr>\n",
       "    <tr>\n",
       "      <th>257</th>\n",
       "      <td>730644</td>\n",
       "      <td>0</td>\n",
       "      <td>0.053065</td>\n",
       "      <td>730644</td>\n",
       "      <td>0</td>\n",
       "    </tr>\n",
       "    <tr>\n",
       "      <th>258</th>\n",
       "      <td>735999</td>\n",
       "      <td>0</td>\n",
       "      <td>0.080932</td>\n",
       "      <td>735999</td>\n",
       "      <td>0</td>\n",
       "    </tr>\n",
       "    <tr>\n",
       "      <th>259</th>\n",
       "      <td>736162</td>\n",
       "      <td>0</td>\n",
       "      <td>0.156057</td>\n",
       "      <td>736162</td>\n",
       "      <td>0</td>\n",
       "    </tr>\n",
       "  </tbody>\n",
       "</table>\n",
       "<p>260 rows × 5 columns</p>\n",
       "</div>"
      ],
      "text/plain": [
       "         pmid  label     score  pmid_check  human_label\n",
       "0    29990300      1  0.851642    29990300            1\n",
       "1    29990732      1  0.793375    29990732            1\n",
       "2    29999060      0  0.034012    29999060            0\n",
       "3    30003825      0  0.053161    30003825            0\n",
       "4    30015122      1  0.787344    30015122            1\n",
       "..        ...    ...       ...         ...          ...\n",
       "255    727998      0  0.047857      727998            0\n",
       "256    729163      0  0.038211      729163            0\n",
       "257    730644      0  0.053065      730644            0\n",
       "258    735999      0  0.080932      735999            0\n",
       "259    736162      0  0.156057      736162            0\n",
       "\n",
       "[260 rows x 5 columns]"
      ]
     },
     "execution_count": 63,
     "metadata": {},
     "output_type": "execute_result"
    }
   ],
   "source": [
    "\n",
    "# create a dataframe with the labels and scores\n",
    "df = pd.DataFrame({'pmid': pmids, \n",
    "                   'label': final_labels, \n",
    "                   'score': final_scores, \n",
    "                   'pmid_check': abstract_set1_labeled['pmid'],\n",
    "                   'human_label': abstract_set1_labeled['label']})\n",
    "df"
   ]
  },
  {
   "cell_type": "code",
   "execution_count": 64,
   "id": "13f29908",
   "metadata": {},
   "outputs": [
    {
     "data": {
      "text/plain": [
       "array([[123,  56],\n",
       "       [  0,  81]])"
      ]
     },
     "execution_count": 64,
     "metadata": {},
     "output_type": "execute_result"
    }
   ],
   "source": [
    "# create confusion matrix\n",
    "confusion = confusion_matrix(df['label'], df['human_label'])\n",
    "confusion"
   ]
  },
  {
   "cell_type": "code",
   "execution_count": 77,
   "id": "bc881721",
   "metadata": {},
   "outputs": [
    {
     "name": "stdout",
     "output_type": "stream",
     "text": [
      "81\n",
      "123\n",
      "0\n",
      "56\n"
     ]
    }
   ],
   "source": [
    "# which are the rows that have the value 1 for columns 'label' and 'human_label'\n",
    "true_pos = df[(df['label'] == 1) & (df['human_label'] == 1)]\n",
    "print(true_pos.shape[0])\n",
    "\n",
    "true_neg = df[(df['label'] == 0) & (df['human_label'] == 0)]\n",
    "print(true_neg.shape[0])\n",
    "\n",
    "false_pos = df[(df['label'] == 1) & (df['human_label'] == 0)]\n",
    "print(false_pos.shape[0])\n",
    "\n",
    "false_neg = df[(df['label'] == 0) & (df['human_label'] == 1)]\n",
    "print(false_neg.shape[0])\n",
    "\n"
   ]
  }
 ],
 "metadata": {
  "kernelspec": {
   "display_name": "nlp",
   "language": "python",
   "name": "nlp"
  },
  "language_info": {
   "codemirror_mode": {
    "name": "ipython",
    "version": 3
   },
   "file_extension": ".py",
   "mimetype": "text/x-python",
   "name": "python",
   "nbconvert_exporter": "python",
   "pygments_lexer": "ipython3",
   "version": "3.12.2"
  }
 },
 "nbformat": 4,
 "nbformat_minor": 5
}
