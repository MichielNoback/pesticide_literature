{
 "cells": [
  {
   "cell_type": "markdown",
   "id": "7dd5b578-8c3a-4a2e-bff2-e19da7aa28b4",
   "metadata": {},
   "source": [
    "# Nearest Neighbor finding"
   ]
  },
  {
   "cell_type": "code",
   "execution_count": 1,
   "id": "f368d1d7-e24b-4661-b796-73c30150156a",
   "metadata": {},
   "outputs": [],
   "source": [
    "import os\n",
    "import pandas as pd\n",
    "import numpy as np\n",
    "import matplotlib.pyplot as plt\n",
    "import nltk\n",
    "\n",
    "from sklearn.model_selection import train_test_split\n",
    "from sklearn.feature_extraction.text import  TfidfVectorizer\n",
    "from sklearn.metrics.pairwise import cosine_similarity, euclidean_distances\n",
    "\n",
    "# scientific units\n",
    "#from quantities import units\n",
    "import utils # all datareading and preprocessing functionality"
   ]
  },
  {
   "cell_type": "code",
   "execution_count": 2,
   "id": "0e95bc69-9cbf-4403-b7fb-fece47b83093",
   "metadata": {},
   "outputs": [],
   "source": [
    "file1 = './data/abstract_set1.txt' # pesticides\n",
    "file2 = './data/abstract_set2.txt' # cancer-ish\n",
    "data_selection = 'abstract_clean'\n",
    "label_selection = 'label'"
   ]
  },
  {
   "cell_type": "code",
   "execution_count": 3,
   "id": "858bdfda-084a-477b-9d5c-8acbbd84b69b",
   "metadata": {},
   "outputs": [],
   "source": [
    "# the custom class Tokenizer can also lemmatize, and remove short words, digits and stopwords\n",
    "stopwords = utils.get_stopwords(custom = {'wa', 'use', 'using', 'one', 'two', 'three', 'study'}) \n",
    "#custom = {'pesticide', 'pesticides'})\n",
    "\n",
    "tokenizer = utils.Tokenizer(stop_words=stopwords, min_length=3)\n",
    "#tokenizer = utils.StemTokenizer()\n",
    "\n",
    "# this requires TF-IDF\n",
    "vectorizer = TfidfVectorizer(tokenizer=tokenizer, max_features=3000)\n",
    "#vectorizer = CountVectorizer(tokenizer=tokenizer) "
   ]
  },
  {
   "cell_type": "code",
   "execution_count": 4,
   "id": "9507105d-3e76-438a-bd1b-cb725c93909d",
   "metadata": {},
   "outputs": [
    {
     "data": {
      "text/html": [
       "<div>\n",
       "<style scoped>\n",
       "    .dataframe tbody tr th:only-of-type {\n",
       "        vertical-align: middle;\n",
       "    }\n",
       "\n",
       "    .dataframe tbody tr th {\n",
       "        vertical-align: top;\n",
       "    }\n",
       "\n",
       "    .dataframe thead th {\n",
       "        text-align: right;\n",
       "    }\n",
       "</style>\n",
       "<table border=\"1\" class=\"dataframe\">\n",
       "  <thead>\n",
       "    <tr style=\"text-align: right;\">\n",
       "      <th></th>\n",
       "      <th>pmid</th>\n",
       "      <th>title</th>\n",
       "      <th>abstract</th>\n",
       "      <th>label</th>\n",
       "      <th>text_label</th>\n",
       "      <th>title_clean</th>\n",
       "      <th>abstract_clean</th>\n",
       "    </tr>\n",
       "  </thead>\n",
       "  <tbody>\n",
       "    <tr>\n",
       "      <th>0</th>\n",
       "      <td>29990300</td>\n",
       "      <td>Oxidative stress in triazine pesticide toxicit...</td>\n",
       "      <td>This review article provides a summary of the ...</td>\n",
       "      <td>1</td>\n",
       "      <td>pest</td>\n",
       "      <td>oxidative stress in triazine pesticide toxicit...</td>\n",
       "      <td>this review article provides a summary of the ...</td>\n",
       "    </tr>\n",
       "    <tr>\n",
       "      <th>1</th>\n",
       "      <td>29990732</td>\n",
       "      <td>Toxicity induced by glyphosate and glyphosate-...</td>\n",
       "      <td>Glyphosate is the active component of many com...</td>\n",
       "      <td>1</td>\n",
       "      <td>pest</td>\n",
       "      <td>toxicity induced by glyphosate and glyphosate-...</td>\n",
       "      <td>glyphosate is the active component of many com...</td>\n",
       "    </tr>\n",
       "    <tr>\n",
       "      <th>2</th>\n",
       "      <td>29999060</td>\n",
       "      <td>Direct kinetics study of CH2OO + methyl vinyl ...</td>\n",
       "      <td>Methyl vinyl ketone (MVK) and methacrolein (MA...</td>\n",
       "      <td>1</td>\n",
       "      <td>pest</td>\n",
       "      <td>direct kinetics study of ch2oo + methyl vinyl ...</td>\n",
       "      <td>methyl vinyl ketone (mvk) and methacrolein (ma...</td>\n",
       "    </tr>\n",
       "    <tr>\n",
       "      <th>3</th>\n",
       "      <td>30003825</td>\n",
       "      <td>Dihydromyricetin improves vascular hyporespons...</td>\n",
       "      <td>CONTEXT: Dihydromyricetin (DMY) has oxidation ...</td>\n",
       "      <td>1</td>\n",
       "      <td>pest</td>\n",
       "      <td>dihydromyricetin improves vascular hyporespons...</td>\n",
       "      <td>context: dihydromyricetin (dmy) has oxidation ...</td>\n",
       "    </tr>\n",
       "    <tr>\n",
       "      <th>4</th>\n",
       "      <td>30015122</td>\n",
       "      <td>Glyphosate and atrazine in rainfall and soils ...</td>\n",
       "      <td>The presence in the atmosphere of glyphosate (...</td>\n",
       "      <td>1</td>\n",
       "      <td>pest</td>\n",
       "      <td>glyphosate and atrazine in rainfall and soils ...</td>\n",
       "      <td>the presence in the atmosphere of glyphosate (...</td>\n",
       "    </tr>\n",
       "  </tbody>\n",
       "</table>\n",
       "</div>"
      ],
      "text/plain": [
       "       pmid                                              title  \\\n",
       "0  29990300  Oxidative stress in triazine pesticide toxicit...   \n",
       "1  29990732  Toxicity induced by glyphosate and glyphosate-...   \n",
       "2  29999060  Direct kinetics study of CH2OO + methyl vinyl ...   \n",
       "3  30003825  Dihydromyricetin improves vascular hyporespons...   \n",
       "4  30015122  Glyphosate and atrazine in rainfall and soils ...   \n",
       "\n",
       "                                            abstract  label text_label  \\\n",
       "0  This review article provides a summary of the ...      1       pest   \n",
       "1  Glyphosate is the active component of many com...      1       pest   \n",
       "2  Methyl vinyl ketone (MVK) and methacrolein (MA...      1       pest   \n",
       "3  CONTEXT: Dihydromyricetin (DMY) has oxidation ...      1       pest   \n",
       "4  The presence in the atmosphere of glyphosate (...      1       pest   \n",
       "\n",
       "                                         title_clean  \\\n",
       "0  oxidative stress in triazine pesticide toxicit...   \n",
       "1  toxicity induced by glyphosate and glyphosate-...   \n",
       "2  direct kinetics study of ch2oo + methyl vinyl ...   \n",
       "3  dihydromyricetin improves vascular hyporespons...   \n",
       "4  glyphosate and atrazine in rainfall and soils ...   \n",
       "\n",
       "                                      abstract_clean  \n",
       "0  this review article provides a summary of the ...  \n",
       "1  glyphosate is the active component of many com...  \n",
       "2  methyl vinyl ketone (mvk) and methacrolein (ma...  \n",
       "3  context: dihydromyricetin (dmy) has oxidation ...  \n",
       "4  the presence in the atmosphere of glyphosate (...  "
      ]
     },
     "execution_count": 4,
     "metadata": {},
     "output_type": "execute_result"
    }
   ],
   "source": [
    "data = utils.read_abstract_data(file1, file2)\n",
    "\n",
    "# no need to catch return value; dataframe operations are in-place\n",
    "# no need to remove punctuation in this step when using nltk.tokenize_word() \n",
    "# which is implemented in utils.tokenize_text()\n",
    "utils.preprocess_text(data)\n",
    "\n",
    "data.head()"
   ]
  },
  {
   "cell_type": "code",
   "execution_count": 5,
   "id": "f6ca6e06-6310-4a0e-9551-1593a887475f",
   "metadata": {},
   "outputs": [
    {
     "data": {
      "image/png": "[encoded data removed]",
      "text/plain": [
       "<Figure size 640x480 with 1 Axes>"
      ]
     },
     "metadata": {},
     "output_type": "display_data"
    }
   ],
   "source": [
    "data[label_selection].hist();"
   ]
  },
  {
   "cell_type": "code",
   "execution_count": 6,
   "id": "695d7364-4bfc-4020-a212-fd5c143b9f4a",
   "metadata": {},
   "outputs": [
    {
     "name": "stderr",
     "output_type": "stream",
     "text": [
      "/Users/michielnoback/opt/miniconda3/envs/nlp/lib/python3.12/site-packages/sklearn/feature_extraction/text.py:517: UserWarning: The parameter 'token_pattern' will not be used since 'tokenizer' is not None'\n",
      "  warnings.warn(\n"
     ]
    },
    {
     "data": {
      "text/plain": [
       "<9110x3000 sparse matrix of type '<class 'numpy.float64'>'\n",
       "\twith 553117 stored elements in Compressed Sparse Row format>"
      ]
     },
     "execution_count": 6,
     "metadata": {},
     "output_type": "execute_result"
    }
   ],
   "source": [
    "# create a data matrix from the overviews\n",
    "X = vectorizer.fit_transform(data[data_selection])\n",
    "X"
   ]
  },
  {
   "cell_type": "code",
   "execution_count": 7,
   "id": "df5991f6-7f71-40ea-b0e5-cd0bfb6cb718",
   "metadata": {},
   "outputs": [
    {
     "data": {
      "text/plain": [
       "Index([   0,    1,    2,    3,    4,    5,    6,    7,    8,    9,\n",
       "       ...\n",
       "       9883, 9884, 9885, 9886, 9887, 9888, 9890, 9891, 9892, 9893],\n",
       "      dtype='int64', length=9110)"
      ]
     },
     "execution_count": 7,
     "metadata": {},
     "output_type": "execute_result"
    }
   ],
   "source": [
    "data.index"
   ]
  },
  {
   "cell_type": "code",
   "execution_count": 8,
   "id": "cc156466-82e1-4ca7-bdd1-9d84a9c377b1",
   "metadata": {},
   "outputs": [
    {
     "data": {
      "text/plain": [
       "pmid\n",
       "29990300    0\n",
       "29990732    1\n",
       "29999060    2\n",
       "30003825    3\n",
       "30015122    4\n",
       "dtype: int64"
      ]
     },
     "execution_count": 8,
     "metadata": {},
     "output_type": "execute_result"
    }
   ],
   "source": [
    "# generate a mapping from paper pubmed id -> index (in df)\n",
    "paper2idx = pd.Series(data.index, index=data['pmid'])\n",
    "paper2idx.head()"
   ]
  },
  {
   "cell_type": "code",
   "execution_count": 9,
   "id": "903a76bb-e540-4857-8047-f5fbb0b31007",
   "metadata": {},
   "outputs": [
    {
     "data": {
      "text/plain": [
       "1"
      ]
     },
     "execution_count": 9,
     "metadata": {},
     "output_type": "execute_result"
    }
   ],
   "source": [
    "query_pmid = 29990732\n",
    "query_index = paper2idx[query_pmid]\n",
    "query_index"
   ]
  },
  {
   "cell_type": "code",
   "execution_count": 14,
   "id": "fc6d56fe-59ad-4a65-8771-b573c7452757",
   "metadata": {},
   "outputs": [
    {
     "name": "stdout",
     "output_type": "stream",
     "text": [
      "<class 'pandas.core.series.Series'>\n",
      "pmid                                                       29990732\n",
      "title             Toxicity induced by glyphosate and glyphosate-...\n",
      "abstract          Glyphosate is the active component of many com...\n",
      "label                                                             1\n",
      "text_label                                                     pest\n",
      "title_clean       toxicity induced by glyphosate and glyphosate-...\n",
      "abstract_clean    glyphosate is the active component of many com...\n",
      "Name: 1, dtype: object\n"
     ]
    }
   ],
   "source": [
    "query = data.loc[query_index]\n",
    "print(type(query))\n",
    "print(query)"
   ]
  },
  {
   "cell_type": "code",
   "execution_count": 10,
   "id": "56ec3fd3-cbf1-4f94-843a-7ff52cf6a893",
   "metadata": {},
   "outputs": [
    {
     "name": "stdout",
     "output_type": "stream",
     "text": [
      "  (0, 887)\t0.045542117447258286\n",
      "  (0, 1040)\t0.40673176957621987\n",
      "  (0, 2530)\t0.08874989073173065\n",
      "  (0, 1272)\t0.1754143557805652\n",
      "  (0, 547)\t0.11234142219039345\n",
      "  (0, 1404)\t0.09468259304256584\n",
      "  (0, 424)\t0.2760612674390579\n",
      "  (0, 1212)\t0.48773133644366784\n",
      "  (0, 56)\t0.1657790561116234\n",
      "  (0, 539)\t0.08765369311509442\n",
      "  (0, 1656)\t0.08043445070914824\n",
      "  (0, 521)\t0.09209405282196848\n",
      "  (0, 2267)\t0.1152606851057199\n",
      "  (0, 353)\t0.07998322725836517\n",
      "  (0, 2948)\t0.07462063191806655\n",
      "  (0, 2407)\t0.1263570526259423\n",
      "  (0, 2137)\t0.12209720204385326\n",
      "  (0, 989)\t0.07032046397795697\n",
      "  (0, 972)\t0.08897609769914892\n",
      "  (0, 655)\t0.09868339380228966\n",
      "  (0, 2994)\t0.13580063070738754\n",
      "  (0, 1586)\t0.18471828010034907\n",
      "  (0, 1887)\t0.11924009975943703\n",
      "  (0, 2304)\t0.1567436335273687\n",
      "  (0, 1704)\t0.08676450260268596\n",
      "  (0, 57)\t0.11659012495322928\n",
      "  (0, 1460)\t0.12772570181904172\n",
      "  (0, 1385)\t0.18609235443433292\n",
      "  (0, 1878)\t0.07131037024748461\n",
      "  (0, 1283)\t0.08532872836378598\n",
      "  (0, 1745)\t0.12570448722682492\n",
      "  (0, 206)\t0.1270303378138316\n",
      "  (0, 1131)\t0.07565675504348854\n",
      "  (0, 1405)\t0.07508801617199846\n",
      "  (0, 29)\t0.10166976031602602\n",
      "  (0, 694)\t0.0689282386822391\n",
      "  (0, 1386)\t0.05410772288102271\n",
      "  (0, 1953)\t0.08009513623637869\n",
      "  (0, 1106)\t0.0674769121831676\n",
      "  (0, 1245)\t0.10431026931177734\n",
      "  (0, 519)\t0.10187767082567008\n",
      "  (0, 1139)\t0.10373239426148993\n",
      "  (0, 139)\t0.09387948942142912\n",
      "  (0, 679)\t0.08903302847728926\n",
      "  (0, 2154)\t0.10915989708966026\n",
      "  (0, 1408)\t0.09877344362813205\n",
      "  (0, 205)\t0.10407722628395136\n"
     ]
    },
    {
     "data": {
      "text/plain": [
       "<1x3000 sparse matrix of type '<class 'numpy.float64'>'\n",
       "\twith 47 stored elements in Compressed Sparse Row format>"
      ]
     },
     "execution_count": 10,
     "metadata": {},
     "output_type": "execute_result"
    }
   ],
   "source": [
    "# x_train.loc[query_index]\n",
    "# this checks out -- the same record\n",
    "\n",
    "query_vec = X[query_index]\n",
    "print(query_vec)\n",
    "# print the query vector\n",
    "query_vec.toarray()\n",
    "\n",
    "query_vec"
   ]
  },
  {
   "cell_type": "code",
   "execution_count": 11,
   "id": "d80eca60-b397-4973-aec2-970d53a0c3bb",
   "metadata": {},
   "outputs": [
    {
     "data": {
      "text/plain": [
       "array([[0.14437368, 1.        , 0.01295377, ..., 0.04521846, 0.02326801,\n",
       "        0.00824854]])"
      ]
     },
     "execution_count": 11,
     "metadata": {},
     "output_type": "execute_result"
    }
   ],
   "source": [
    "# compute similarity between query and every vector in X\n",
    "scores = cosine_similarity(query_vec, X)\n",
    "scores"
   ]
  },
  {
   "cell_type": "code",
   "execution_count": 12,
   "id": "c11aafc7-02da-4f33-9cf3-9c8c504b0b99",
   "metadata": {},
   "outputs": [],
   "source": [
    "# currently the array is 1 x N, make it just a 1-D array\n",
    "scores = scores.flatten()"
   ]
  },
  {
   "cell_type": "code",
   "execution_count": 13,
   "id": "f4bd3107-6a91-4602-8598-636449887b48",
   "metadata": {},
   "outputs": [
    {
     "data": {
      "image/png": "[encoded data removed]",
      "text/plain": [
       "<Figure size 640x480 with 1 Axes>"
      ]
     },
     "metadata": {},
     "output_type": "display_data"
    }
   ],
   "source": [
    "plt.plot(scores);"
   ]
  },
  {
   "cell_type": "code",
   "execution_count": 14,
   "id": "c01dafc8-a1d4-40a1-91b1-43666337d340",
   "metadata": {},
   "outputs": [
    {
     "name": "stdout",
     "output_type": "stream",
     "text": [
      "[1.30814855 0.         1.40502401 ... 1.38186941 1.39766376 1.40836889]\n"
     ]
    },
    {
     "data": {
      "image/png": "[encoded data removed]",
      "text/plain": [
       "<Figure size 640x480 with 1 Axes>"
      ]
     },
     "metadata": {},
     "output_type": "display_data"
    }
   ],
   "source": [
    "# compare with euclidean\n",
    "scores = euclidean_distances(query_vec, X)\n",
    "scores = scores.flatten()\n",
    "print(scores)\n",
    "plt.plot(scores);\n",
    "## TODO investigate further"
   ]
  },
  {
   "cell_type": "code",
   "execution_count": 15,
   "id": "11b74885-e790-46bc-a85d-f2d1028ca797",
   "metadata": {},
   "outputs": [
    {
     "name": "stdout",
     "output_type": "stream",
     "text": [
      "[7063 5191 3260 3283 4744 7848]\n",
      "[1.41421356 1.41421356 1.41421356 1.41421356 1.41421356 1.41421356]\n"
     ]
    }
   ],
   "source": [
    "# get top 5 matches\n",
    "# SHOULD exclude self (similarity between query and itself yields max score)\n",
    "top_n_papers = 6\n",
    "\n",
    "# sort the scores\n",
    "recommended_idx = (-scores).argsort()[:top_n_papers]\n",
    "print(recommended_idx)\n",
    "top_scoring_scores = scores[recommended_idx]\n",
    "print(top_scoring_scores)"
   ]
  },
  {
   "cell_type": "code",
   "execution_count": 16,
   "id": "d557e5d8-dc1e-40a6-8842-f7aebb887128",
   "metadata": {},
   "outputs": [
    {
     "data": {
      "text/html": [
       "<div>\n",
       "<style scoped>\n",
       "    .dataframe tbody tr th:only-of-type {\n",
       "        vertical-align: middle;\n",
       "    }\n",
       "\n",
       "    .dataframe tbody tr th {\n",
       "        vertical-align: top;\n",
       "    }\n",
       "\n",
       "    .dataframe thead th {\n",
       "        text-align: right;\n",
       "    }\n",
       "</style>\n",
       "<table border=\"1\" class=\"dataframe\">\n",
       "  <thead>\n",
       "    <tr style=\"text-align: right;\">\n",
       "      <th></th>\n",
       "      <th>pmid</th>\n",
       "      <th>title</th>\n",
       "      <th>score</th>\n",
       "    </tr>\n",
       "  </thead>\n",
       "  <tbody>\n",
       "    <tr>\n",
       "      <th>7735</th>\n",
       "      <td>24060234</td>\n",
       "      <td>Importation of chloroquine-resistant Plasmodiu...</td>\n",
       "      <td>1.414214</td>\n",
       "    </tr>\n",
       "    <tr>\n",
       "      <th>5626</th>\n",
       "      <td>6328253</td>\n",
       "      <td>[Hepatic artery embolization therapy for advan...</td>\n",
       "      <td>1.414214</td>\n",
       "    </tr>\n",
       "    <tr>\n",
       "      <th>3504</th>\n",
       "      <td>29624869</td>\n",
       "      <td>A Highly Efficient Near-Infrared-Emissive Copo...</td>\n",
       "      <td>1.414214</td>\n",
       "    </tr>\n",
       "    <tr>\n",
       "      <th>3527</th>\n",
       "      <td>29790539</td>\n",
       "      <td>Uranium(iii) complexes supported by hydrobis(m...</td>\n",
       "      <td>1.414214</td>\n",
       "    </tr>\n",
       "    <tr>\n",
       "      <th>4997</th>\n",
       "      <td>30390378</td>\n",
       "      <td>Three-dimensional navigation-guided thoracosco...</td>\n",
       "      <td>1.414214</td>\n",
       "    </tr>\n",
       "    <tr>\n",
       "      <th>8571</th>\n",
       "      <td>31028001</td>\n",
       "      <td>Relationship between childhood trauma and leve...</td>\n",
       "      <td>1.414214</td>\n",
       "    </tr>\n",
       "  </tbody>\n",
       "</table>\n",
       "</div>"
      ],
      "text/plain": [
       "          pmid                                              title     score\n",
       "7735  24060234  Importation of chloroquine-resistant Plasmodiu...  1.414214\n",
       "5626   6328253  [Hepatic artery embolization therapy for advan...  1.414214\n",
       "3504  29624869  A Highly Efficient Near-Infrared-Emissive Copo...  1.414214\n",
       "3527  29790539  Uranium(iii) complexes supported by hydrobis(m...  1.414214\n",
       "4997  30390378  Three-dimensional navigation-guided thoracosco...  1.414214\n",
       "8571  31028001  Relationship between childhood trauma and leve...  1.414214"
      ]
     },
     "execution_count": 16,
     "metadata": {},
     "output_type": "execute_result"
    }
   ],
   "source": [
    "# convert indices back to titles\n",
    "best_matches_pmids = data['pmid'].iloc[recommended_idx] # fetches a Series\n",
    "best_matches_titles = data['title'].iloc[recommended_idx] # fetches a Series\n",
    "\n",
    "best_matches = pd.concat([best_matches_pmids, best_matches_titles], axis=1)#DataFrame(best_matches_titles)\n",
    "\n",
    "best_matches['score'] = top_scoring_scores\n",
    "best_matches"
   ]
  },
  {
   "cell_type": "code",
   "execution_count": 18,
   "id": "515ee896-a83e-4ced-b1b8-d974262b0b63",
   "metadata": {},
   "outputs": [
    {
     "name": "stdout",
     "output_type": "stream",
     "text": [
      "Recommendations for 29990732:\n",
      "          pmid                                              title     score\n",
      "4520  36880770  Evaluation of the herbicide glyphosate, (amino...  0.470800\n",
      "4432  36379430  Glyphosate mimics 17β-estradiol effects promot...  0.456118\n",
      "4376  36048159  Transcriptomic signaling in zebrafish (Danio r...  0.431441\n",
      "3224  27564378  Behavioral responses of juvenile Daphnia magna...  0.423269\n",
      "2404  20883798  Altered hematological and immunological parame...  0.396666\n"
     ]
    }
   ],
   "source": [
    "pmid = 29990732\n",
    "print(f\"Recommendations for {pmid}:\")\n",
    "recommendations = utils.recommend(pmid, data, paper2idx, X)\n",
    "print(recommendations)"
   ]
  },
  {
   "cell_type": "code",
   "execution_count": 19,
   "id": "37818218-8dd0-4722-ace5-6b9492361fe3",
   "metadata": {},
   "outputs": [
    {
     "name": "stdout",
     "output_type": "stream",
     "text": [
      "PubMed ID: 29990732\n",
      "\n",
      "Title: \n",
      "Toxicity induced by glyphosate and glyphosate-based herbicides in the zebrafish\n",
      "hepatocyte cell line (ZF-L).\n",
      "\n",
      "Abstract:\n",
      "Glyphosate is the active component of many commonly used herbicides; it can\n",
      "reach bodies of water through irrigated rice plantations. In the present study,\n",
      "we evaluated the effect of glyphosate and Roundup® (a glyphosate-based\n",
      "herbicide) in established culture of the zebrafish hepatocyte cell line ZF-L\n",
      "after 24 and 48 h of exposure to concentrations of 650 and 3250 µg/L. We\n",
      "observed a reduction in metabolic activity and lysosomal integrity, and an\n",
      "increase in cell number after 24 h of Roundup® exposure at the highest\n",
      "concentration. An increase in active mitochondria and apoptotic cells was\n",
      "observed following 24 h exposure to glyphosate and Roundup®, while only exposure\n",
      "to Roundup® induced an increase in necrotic cells. Rhodamine B accumulation\n",
      "decreased after 48 h exposure to 650 µg/L of Roundup®; this reduction is\n",
      "indicative of increased activity of ABC pumps. Overall, the present findings\n",
      "highlighted the hazard of glyphosate exposure not only in the commercial\n",
      "formulation but also glyphosate alone, since both can induce damage in the ZF-L\n",
      "cell line primarily through the induction of apoptosis.\n"
     ]
    }
   ],
   "source": [
    "utils.print_paper(29990732, data) # input paper"
   ]
  },
  {
   "cell_type": "code",
   "execution_count": 20,
   "id": "a93f7375-2d39-4189-b839-6b11a150e0a9",
   "metadata": {},
   "outputs": [
    {
     "name": "stdout",
     "output_type": "stream",
     "text": [
      "PubMed ID: 36880770\n",
      "\n",
      "Title: \n",
      "Evaluation of the herbicide glyphosate, (aminomethyl)phosphonic acid, and\n",
      "glyphosate-based formulations for genotoxic activity using in vitro assays.\n",
      "\n",
      "Abstract:\n",
      "Glyphosate, the most heavily used herbicide world-wide, is applied to plants in\n",
      "complex formulations that promote absorption. The National Toxicology Program\n",
      "reported in 1992 that glyphosate, administered to rats and mice at doses up to\n",
      "50,000 ppm in feed for 13 weeks, showed little evidence of toxicity, and no\n",
      "induction of micronuclei was observed in the mice in this study. Subsequently,\n",
      "mechanistic studies of glyphosate and glyphosate-based formulations (GBFs) that\n",
      "have focused on DNA damage and oxidative stress suggest that glyphosate may have\n",
      "genotoxic potential. However, few of these studies directly compared glyphosate\n",
      "to GBFs, or effects among GBFs. To address these data gaps, we tested\n",
      "glyphosate, glyphosate isopropylamine (IPA), and (aminomethyl)phosphonic acid\n",
      "(AMPA, a microbial metabolite of glyphosate), 9 high-use agricultural GBFs, 4\n",
      "residential-use GBFs, and additional herbicides (metolachlor, mesotrione, and\n",
      "diquat dibromide) present in some of the GBFs in bacterial mutagenicity tests,\n",
      "and in human TK6 cells using a micronucleus assay and a multiplexed DNA damage\n",
      "assay. Our results showed no genotoxicity or notable cytotoxicity for glyphosate\n",
      "or AMPA at concentrations up to 10 mM, while all GBFs and herbicides other than\n",
      "glyphosate were cytotoxic, and some showed genotoxic activity. An in vitro to in\n",
      "vivo extrapolation of results for glyphosate suggests that it is of low\n",
      "toxicological concern for humans. In conclusion, these results demonstrate a\n",
      "lack of genotoxicity for glyphosate, consistent with observations in the NTP in\n",
      "vivo study, and suggest that toxicity associated with GBFs may be related to\n",
      "other components of these formulations.\n"
     ]
    }
   ],
   "source": [
    "utils.print_paper(36880770, data)"
   ]
  },
  {
   "cell_type": "code",
   "execution_count": 21,
   "id": "32a2bd23-0b01-4757-8562-08a6b3b535b4",
   "metadata": {},
   "outputs": [
    {
     "name": "stdout",
     "output_type": "stream",
     "text": [
      "PubMed ID: 36379430\n",
      "\n",
      "Title: \n",
      "Glyphosate mimics 17β-estradiol effects promoting estrogen receptor alpha\n",
      "activity in breast cancer cells.\n",
      "\n",
      "Abstract:\n",
      "Glyphosate, the active ingredient in several broad-spectrum herbicide\n",
      "formulations, has been validated and widely used throughout the world. Recent\n",
      "reports have questioned its safety, showing that glyphosate may act as an\n",
      "endocrine disruptor by promoting estrogenic activity. However, the molecular\n",
      "mechanism involved in this phenomenon remains unclear. Therefore, here we aimed\n",
      "to elucidate the mechanism by which glyphosate induces estrogenic activity using\n",
      "estrogen-sensitive breast cancer cell line models. Our results show that\n",
      "glyphosate mimics the cell effects of 17β-estradiol (E2), promoting estrogen\n",
      "receptor α (ERα) phosphorylation, its degradation, and transcriptional activity\n",
      "at high concentrations. The molecular mechanism seems involved in the ERα\n",
      "ligand-binding domain (LBD). Molecular simulations suggest a plausible\n",
      "interaction between glyphosate and the LBD through a coordinated complex\n",
      "involving divalent cations such as Zn (II). In addition, glyphosate exposure\n",
      "alters the level of Cyclin-dependent kinase 7 that contribute to ERα\n",
      "phosphorylation. Finally, glyphosate increases cell proliferation rate and\n",
      "levels of cell cycle regulators, accompanied by an increase in anchorage-\n",
      "independent growth capacity. These findings suggest that glyphosate at high\n",
      "concentrations, induces estrogen-like effects through an ERα ligand binding\n",
      "site-dependent mechanism, leading to cellular responses resulting from a complex\n",
      "interplay of genomic and non-genomic events.\n"
     ]
    }
   ],
   "source": [
    "utils.print_paper(36379430, data)"
   ]
  }
 ],
 "metadata": {
  "kernelspec": {
   "display_name": "nlp",
   "language": "python",
   "name": "nlp"
  },
  "language_info": {
   "codemirror_mode": {
    "name": "ipython",
    "version": 3
   },
   "file_extension": ".py",
   "mimetype": "text/x-python",
   "name": "python",
   "nbconvert_exporter": "python",
   "pygments_lexer": "ipython3",
   "version": "3.12.8"
  }
 },
 "nbformat": 4,
 "nbformat_minor": 5
}
