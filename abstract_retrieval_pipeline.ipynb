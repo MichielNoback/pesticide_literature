{
 "cells": [
  {
   "cell_type": "code",
   "execution_count": 1,
   "id": "fcd12e80",
   "metadata": {},
   "outputs": [],
   "source": [
    "import pandas as pd\n",
    "import numpy as np\n",
    "import matplotlib.pyplot as plt\n",
    "\n",
    "from sklearn.model_selection import train_test_split\n",
    "from sklearn.feature_extraction.text import  TfidfVectorizer\n",
    "\n",
    "from tensorflow.keras.preprocessing.text import Tokenizer # type: ignore\n",
    "from tensorflow.keras.preprocessing.sequence import pad_sequences # type: ignore\n",
    "\n",
    "import utils # all datareading and preprocessing functionality\n",
    "import entrez_utils # all functions for querying NCBI Entrez"
   ]
  },
  {
   "cell_type": "markdown",
   "id": "33ef9886",
   "metadata": {},
   "source": [
    "## Validation data"
   ]
  },
  {
   "cell_type": "markdown",
   "id": "18dd2433",
   "metadata": {},
   "source": [
    "Read and process the \"gold standard\" data."
   ]
  },
  {
   "cell_type": "code",
   "execution_count": 2,
   "id": "564f888f",
   "metadata": {},
   "outputs": [
    {
     "data": {
      "text/html": [
       "<div>\n",
       "<style scoped>\n",
       "    .dataframe tbody tr th:only-of-type {\n",
       "        vertical-align: middle;\n",
       "    }\n",
       "\n",
       "    .dataframe tbody tr th {\n",
       "        vertical-align: top;\n",
       "    }\n",
       "\n",
       "    .dataframe thead th {\n",
       "        text-align: right;\n",
       "    }\n",
       "</style>\n",
       "<table border=\"1\" class=\"dataframe\">\n",
       "  <thead>\n",
       "    <tr style=\"text-align: right;\">\n",
       "      <th></th>\n",
       "      <th>pmid</th>\n",
       "      <th>label</th>\n",
       "      <th>tenwise_id</th>\n",
       "      <th>pesticide</th>\n",
       "    </tr>\n",
       "  </thead>\n",
       "  <tbody>\n",
       "    <tr>\n",
       "      <th>0</th>\n",
       "      <td>10234476</td>\n",
       "      <td>animal</td>\n",
       "      <td>TWPHI_00010</td>\n",
       "      <td>carbaryl</td>\n",
       "    </tr>\n",
       "    <tr>\n",
       "      <th>1</th>\n",
       "      <td>10369463</td>\n",
       "      <td>human</td>\n",
       "      <td>TWPHI_00003</td>\n",
       "      <td>acetamiprid</td>\n",
       "    </tr>\n",
       "    <tr>\n",
       "      <th>2</th>\n",
       "      <td>10583056</td>\n",
       "      <td>human</td>\n",
       "      <td>TWPHI_00010</td>\n",
       "      <td>carbaryl</td>\n",
       "    </tr>\n",
       "    <tr>\n",
       "      <th>3</th>\n",
       "      <td>15496540</td>\n",
       "      <td>human</td>\n",
       "      <td>TWPHI_00072</td>\n",
       "      <td>pendimethalin</td>\n",
       "    </tr>\n",
       "    <tr>\n",
       "      <th>4</th>\n",
       "      <td>16452832</td>\n",
       "      <td>human</td>\n",
       "      <td>TWPHI_00072</td>\n",
       "      <td>pendimethalin</td>\n",
       "    </tr>\n",
       "    <tr>\n",
       "      <th>...</th>\n",
       "      <td>...</td>\n",
       "      <td>...</td>\n",
       "      <td>...</td>\n",
       "      <td>...</td>\n",
       "    </tr>\n",
       "    <tr>\n",
       "      <th>159</th>\n",
       "      <td>39415959</td>\n",
       "      <td>animal</td>\n",
       "      <td>TWPHI_00003</td>\n",
       "      <td>acetamiprid</td>\n",
       "    </tr>\n",
       "    <tr>\n",
       "      <th>160</th>\n",
       "      <td>39415959</td>\n",
       "      <td>animal</td>\n",
       "      <td>TWPHI_00012</td>\n",
       "      <td>clothianidin</td>\n",
       "    </tr>\n",
       "    <tr>\n",
       "      <th>161</th>\n",
       "      <td>39415959</td>\n",
       "      <td>animal</td>\n",
       "      <td>TWPHI_00025</td>\n",
       "      <td>imidacloprid</td>\n",
       "    </tr>\n",
       "    <tr>\n",
       "      <th>162</th>\n",
       "      <td>39419870</td>\n",
       "      <td>other</td>\n",
       "      <td>TWPHI_00025</td>\n",
       "      <td>imidacloprid</td>\n",
       "    </tr>\n",
       "    <tr>\n",
       "      <th>163</th>\n",
       "      <td>7783251</td>\n",
       "      <td>animal</td>\n",
       "      <td>TWPHI_00010</td>\n",
       "      <td>carbaryl</td>\n",
       "    </tr>\n",
       "  </tbody>\n",
       "</table>\n",
       "<p>164 rows × 4 columns</p>\n",
       "</div>"
      ],
      "text/plain": [
       "         pmid   label   tenwise_id      pesticide\n",
       "0    10234476  animal  TWPHI_00010       carbaryl\n",
       "1    10369463   human  TWPHI_00003    acetamiprid\n",
       "2    10583056   human  TWPHI_00010       carbaryl\n",
       "3    15496540   human  TWPHI_00072  pendimethalin\n",
       "4    16452832   human  TWPHI_00072  pendimethalin\n",
       "..        ...     ...          ...            ...\n",
       "159  39415959  animal  TWPHI_00003    acetamiprid\n",
       "160  39415959  animal  TWPHI_00012   clothianidin\n",
       "161  39415959  animal  TWPHI_00025   imidacloprid\n",
       "162  39419870   other  TWPHI_00025   imidacloprid\n",
       "163   7783251  animal  TWPHI_00010       carbaryl\n",
       "\n",
       "[164 rows x 4 columns]"
      ]
     },
     "execution_count": 2,
     "metadata": {},
     "output_type": "execute_result"
    }
   ],
   "source": [
    "curated_pesticide_papers = pd.read_csv('./data/curated_pesticides.txt', sep='\\t')\n",
    "curated_pesticide_papers"
   ]
  },
  {
   "cell_type": "markdown",
   "id": "bea246eb",
   "metadata": {},
   "source": [
    "Fetch abstracts belonging to theses pmid's."
   ]
  },
  {
   "cell_type": "code",
   "execution_count": null,
   "id": "64b98c75",
   "metadata": {},
   "outputs": [],
   "source": [
    "#entrez_utils.init('20af26e91ae36b8ec830da38ca84b872a209', 'michiel.noback@gmail.com')"
   ]
  },
  {
   "cell_type": "code",
   "execution_count": 3,
   "id": "c196a6f4",
   "metadata": {},
   "outputs": [
    {
     "name": "stdout",
     "output_type": "stream",
     "text": [
      "164\n"
     ]
    },
    {
     "data": {
      "text/plain": [
       "[10234476,\n",
       " 10369463,\n",
       " 10583056,\n",
       " 15496540,\n",
       " 16452832,\n",
       " 16704049,\n",
       " 19248625,\n",
       " 19934164,\n",
       " 22361216,\n",
       " 22393406]"
      ]
     },
     "execution_count": 3,
     "metadata": {},
     "output_type": "execute_result"
    }
   ],
   "source": [
    "pub_ids=curated_pesticide_papers['pmid'].to_list()\n",
    "print(len(pub_ids))\n",
    "pub_ids[:10]"
   ]
  },
  {
   "cell_type": "code",
   "execution_count": null,
   "id": "2bcb21e4",
   "metadata": {},
   "outputs": [],
   "source": [
    "# from importlib import reload\n",
    "# reload(entrez_utils)"
   ]
  },
  {
   "cell_type": "code",
   "execution_count": null,
   "id": "aae780a6",
   "metadata": {},
   "outputs": [],
   "source": [
    "# not required to repeat\n",
    "#entrez_utils.fetch_abstracts(pub_ids=pub_ids, \n",
    "#                             output_file='./data/curated_pesticides_abstracts.txt')"
   ]
  },
  {
   "cell_type": "code",
   "execution_count": 4,
   "id": "6690be04",
   "metadata": {},
   "outputs": [
    {
     "name": "stdout",
     "output_type": "stream",
     "text": [
      "(152, 3)\n"
     ]
    },
    {
     "data": {
      "text/html": [
       "<div>\n",
       "<style scoped>\n",
       "    .dataframe tbody tr th:only-of-type {\n",
       "        vertical-align: middle;\n",
       "    }\n",
       "\n",
       "    .dataframe tbody tr th {\n",
       "        vertical-align: top;\n",
       "    }\n",
       "\n",
       "    .dataframe thead th {\n",
       "        text-align: right;\n",
       "    }\n",
       "</style>\n",
       "<table border=\"1\" class=\"dataframe\">\n",
       "  <thead>\n",
       "    <tr style=\"text-align: right;\">\n",
       "      <th></th>\n",
       "      <th>pmid</th>\n",
       "      <th>title</th>\n",
       "      <th>abstract</th>\n",
       "    </tr>\n",
       "  </thead>\n",
       "  <tbody>\n",
       "    <tr>\n",
       "      <th>0</th>\n",
       "      <td>10234476</td>\n",
       "      <td>Pesticide induced changes of nitric oxide synt...</td>\n",
       "      <td>Organic insecticides are well known neurotoxic...</td>\n",
       "    </tr>\n",
       "    <tr>\n",
       "      <th>1</th>\n",
       "      <td>10369463</td>\n",
       "      <td>Minor structural changes in nicotinoid insecti...</td>\n",
       "      <td>The major nitroimine insecticide imidacloprid ...</td>\n",
       "    </tr>\n",
       "    <tr>\n",
       "      <th>2</th>\n",
       "      <td>10583056</td>\n",
       "      <td>Evidence for double resistance to permethrin a...</td>\n",
       "      <td>A rising prevalence of head lice among school ...</td>\n",
       "    </tr>\n",
       "    <tr>\n",
       "      <th>3</th>\n",
       "      <td>15496540</td>\n",
       "      <td>Pesticides and lung cancer risk in the agricul...</td>\n",
       "      <td>The authors examined the relation between 50 w...</td>\n",
       "    </tr>\n",
       "    <tr>\n",
       "      <th>4</th>\n",
       "      <td>16452832</td>\n",
       "      <td>Pendimethalin exposure and cancer incidence am...</td>\n",
       "      <td>Pendimethalin, a widely used herbicide, has be...</td>\n",
       "    </tr>\n",
       "    <tr>\n",
       "      <th>5</th>\n",
       "      <td>16704049</td>\n",
       "      <td>Dose-additive inhibition of chinook salmon ace...</td>\n",
       "      <td>Organophosphate and carbamate insecticides are...</td>\n",
       "    </tr>\n",
       "    <tr>\n",
       "      <th>6</th>\n",
       "      <td>19248625</td>\n",
       "      <td>[The effect of pesticide acetamiprid on bioche...</td>\n",
       "      <td>The effects of ecological real concentration o...</td>\n",
       "    </tr>\n",
       "    <tr>\n",
       "      <th>7</th>\n",
       "      <td>19934164</td>\n",
       "      <td>Time-course, dose-response, and age comparativ...</td>\n",
       "      <td>N-Methyl carbamate insecticides are reversible...</td>\n",
       "    </tr>\n",
       "    <tr>\n",
       "      <th>8</th>\n",
       "      <td>22361216</td>\n",
       "      <td>Effect of chronic exposure to pendimethalin on...</td>\n",
       "      <td>In this study, the in vivo effects of chronic ...</td>\n",
       "    </tr>\n",
       "    <tr>\n",
       "      <th>9</th>\n",
       "      <td>22393406</td>\n",
       "      <td>Nicotine-like effects of the neonicotinoid ins...</td>\n",
       "      <td>Acetamiprid (ACE) and imidacloprid (IMI) belon...</td>\n",
       "    </tr>\n",
       "  </tbody>\n",
       "</table>\n",
       "</div>"
      ],
      "text/plain": [
       "       pmid                                              title  \\\n",
       "0  10234476  Pesticide induced changes of nitric oxide synt...   \n",
       "1  10369463  Minor structural changes in nicotinoid insecti...   \n",
       "2  10583056  Evidence for double resistance to permethrin a...   \n",
       "3  15496540  Pesticides and lung cancer risk in the agricul...   \n",
       "4  16452832  Pendimethalin exposure and cancer incidence am...   \n",
       "5  16704049  Dose-additive inhibition of chinook salmon ace...   \n",
       "6  19248625  [The effect of pesticide acetamiprid on bioche...   \n",
       "7  19934164  Time-course, dose-response, and age comparativ...   \n",
       "8  22361216  Effect of chronic exposure to pendimethalin on...   \n",
       "9  22393406  Nicotine-like effects of the neonicotinoid ins...   \n",
       "\n",
       "                                            abstract  \n",
       "0  Organic insecticides are well known neurotoxic...  \n",
       "1  The major nitroimine insecticide imidacloprid ...  \n",
       "2  A rising prevalence of head lice among school ...  \n",
       "3  The authors examined the relation between 50 w...  \n",
       "4  Pendimethalin, a widely used herbicide, has be...  \n",
       "5  Organophosphate and carbamate insecticides are...  \n",
       "6  The effects of ecological real concentration o...  \n",
       "7  N-Methyl carbamate insecticides are reversible...  \n",
       "8  In this study, the in vivo effects of chronic ...  \n",
       "9  Acetamiprid (ACE) and imidacloprid (IMI) belon...  "
      ]
     },
     "execution_count": 4,
     "metadata": {},
     "output_type": "execute_result"
    }
   ],
   "source": [
    "# check the new file\n",
    "curated_pesticide_abstracts = pd.read_csv('./data/curated_pesticides_abstracts.txt', sep='\\t')\n",
    "print(curated_pesticide_abstracts.shape)\n",
    "curated_pesticide_abstracts.head(10)"
   ]
  },
  {
   "cell_type": "markdown",
   "id": "d9daa4d9",
   "metadata": {},
   "source": [
    "Strangely enough, 12 papers seem to be lost in this procedure. I will investigate this a bit."
   ]
  },
  {
   "cell_type": "code",
   "execution_count": 5,
   "id": "d8c5a783",
   "metadata": {},
   "outputs": [
    {
     "data": {
      "text/plain": [
       "[(26990785, 2),\n",
       " (28385489, 2),\n",
       " (29151145, 2),\n",
       " (29374591, 2),\n",
       " (33288284, 2),\n",
       " (38470098, 2),\n",
       " (38581179, 2),\n",
       " (38799264, 2),\n",
       " (39162819, 2),\n",
       " (39359636, 2),\n",
       " (39415959, 3)]"
      ]
     },
     "execution_count": 5,
     "metadata": {},
     "output_type": "execute_result"
    }
   ],
   "source": [
    "# import Counter to check for duplicates\n",
    "from collections import Counter\n",
    "duplicates = [(item, count) for item, count in Counter(pub_ids).items() if count > 1]\n",
    "duplicates\n"
   ]
  },
  {
   "cell_type": "markdown",
   "id": "cb63521e",
   "metadata": {},
   "source": [
    "Apparently, there were 10 duplicates in the collection, as well as one triplicate.  \n",
    "Otherwise, it seems to be OK. On 2025-04-09 I have already downloaded a baseline set, i.e. all the abstracts that were published on that day.  \n",
    "Now I fetch another set, to get some body."
   ]
  },
  {
   "cell_type": "code",
   "execution_count": null,
   "id": "9f42025c",
   "metadata": {},
   "outputs": [],
   "source": [
    "# not required to repeat\n",
    "#yesterdays_papers = entrez_utils.query_pubmed_by_date() #defaults to yesterday\n",
    "#len(yesterdays_papers)"
   ]
  },
  {
   "cell_type": "code",
   "execution_count": null,
   "id": "bdcad589",
   "metadata": {},
   "outputs": [],
   "source": [
    "# not required to repeat\n",
    "#entrez_utils.fetch_abstracts(pub_ids=yesterdays_papers, \n",
    "#                             output_file='./data/abstracts_2025_04_15.csv', chunksize = 2500)"
   ]
  },
  {
   "cell_type": "markdown",
   "id": "ea1685e6",
   "metadata": {},
   "source": [
    "Now combine all into one validation set."
   ]
  },
  {
   "cell_type": "code",
   "execution_count": 6,
   "id": "ce0c481d",
   "metadata": {},
   "outputs": [
    {
     "name": "stdout",
     "output_type": "stream",
     "text": [
      "(2907, 3)\n",
      "(2573, 3)\n"
     ]
    }
   ],
   "source": [
    "set1 = pd.read_csv('./data/abstracts_2025_04_09.csv', sep='\\t')\n",
    "print(set1.shape)\n",
    "set1.dropna(subset=['abstract'], inplace=True)\n",
    "print(set1.shape)"
   ]
  },
  {
   "cell_type": "code",
   "execution_count": 7,
   "id": "30175c27",
   "metadata": {},
   "outputs": [
    {
     "name": "stdout",
     "output_type": "stream",
     "text": [
      "(2375, 3)\n",
      "(2136, 3)\n"
     ]
    }
   ],
   "source": [
    "set2 = pd.read_csv('./data/abstracts_2025_04_15.csv', sep='\\t')\n",
    "print(set2.shape)\n",
    "set2.dropna(subset=['abstract'], inplace=True)\n",
    "print(set2.shape)"
   ]
  },
  {
   "cell_type": "code",
   "execution_count": 8,
   "id": "7606e8ed",
   "metadata": {},
   "outputs": [
    {
     "name": "stdout",
     "output_type": "stream",
     "text": [
      "(4709, 3)\n",
      "(4708, 3)\n"
     ]
    }
   ],
   "source": [
    "# concat set 1 and set 2\n",
    "baseline_abstracts = pd.concat([set1, set2], axis=0)\n",
    "print(baseline_abstracts.shape)\n",
    "baseline_abstracts = baseline_abstracts.drop_duplicates(subset=['pmid'], keep='first')\n",
    "print(baseline_abstracts.shape)"
   ]
  },
  {
   "cell_type": "code",
   "execution_count": 9,
   "id": "1a6dc05d",
   "metadata": {},
   "outputs": [
    {
     "data": {
      "text/html": [
       "<div>\n",
       "<style scoped>\n",
       "    .dataframe tbody tr th:only-of-type {\n",
       "        vertical-align: middle;\n",
       "    }\n",
       "\n",
       "    .dataframe tbody tr th {\n",
       "        vertical-align: top;\n",
       "    }\n",
       "\n",
       "    .dataframe thead th {\n",
       "        text-align: right;\n",
       "    }\n",
       "</style>\n",
       "<table border=\"1\" class=\"dataframe\">\n",
       "  <thead>\n",
       "    <tr style=\"text-align: right;\">\n",
       "      <th></th>\n",
       "      <th>pmid</th>\n",
       "      <th>title</th>\n",
       "      <th>abstract</th>\n",
       "      <th>label</th>\n",
       "      <th>text_label</th>\n",
       "    </tr>\n",
       "  </thead>\n",
       "  <tbody>\n",
       "    <tr>\n",
       "      <th>1</th>\n",
       "      <td>40205634</td>\n",
       "      <td>A Python package for fast GPU-based proton pen...</td>\n",
       "      <td>Open-source GPU-based Monte Carlo (MC) proton ...</td>\n",
       "      <td>0</td>\n",
       "      <td>not_pesticide</td>\n",
       "    </tr>\n",
       "    <tr>\n",
       "      <th>8</th>\n",
       "      <td>40205627</td>\n",
       "      <td>Efficacy and Safety of Direct Oral Anti-Coagul...</td>\n",
       "      <td>Direct oral anticoagulants (DOAC), including d...</td>\n",
       "      <td>0</td>\n",
       "      <td>not_pesticide</td>\n",
       "    </tr>\n",
       "    <tr>\n",
       "      <th>9</th>\n",
       "      <td>40205626</td>\n",
       "      <td>Design and validation of a novel dosimetry pha...</td>\n",
       "      <td>We present a novel phantom design for conducti...</td>\n",
       "      <td>0</td>\n",
       "      <td>not_pesticide</td>\n",
       "    </tr>\n",
       "    <tr>\n",
       "      <th>10</th>\n",
       "      <td>40205625</td>\n",
       "      <td>Associations of neighbourhood walkability with...</td>\n",
       "      <td>Neighbourhood walkability is known to be posit...</td>\n",
       "      <td>0</td>\n",
       "      <td>not_pesticide</td>\n",
       "    </tr>\n",
       "    <tr>\n",
       "      <th>11</th>\n",
       "      <td>40205624</td>\n",
       "      <td>Psychometric evaluation of the problem areas i...</td>\n",
       "      <td>to assesses the psychometric properties of the...</td>\n",
       "      <td>0</td>\n",
       "      <td>not_pesticide</td>\n",
       "    </tr>\n",
       "    <tr>\n",
       "      <th>...</th>\n",
       "      <td>...</td>\n",
       "      <td>...</td>\n",
       "      <td>...</td>\n",
       "      <td>...</td>\n",
       "      <td>...</td>\n",
       "    </tr>\n",
       "    <tr>\n",
       "      <th>2370</th>\n",
       "      <td>39198200</td>\n",
       "      <td>Enhanced functionality and migration of human ...</td>\n",
       "      <td>The maintenance of peri-implant health relies ...</td>\n",
       "      <td>0</td>\n",
       "      <td>not_pesticide</td>\n",
       "    </tr>\n",
       "    <tr>\n",
       "      <th>2371</th>\n",
       "      <td>39198199</td>\n",
       "      <td>Effect of build orientation on the wear resist...</td>\n",
       "      <td>This in vitro study investigated the effect of...</td>\n",
       "      <td>0</td>\n",
       "      <td>not_pesticide</td>\n",
       "    </tr>\n",
       "    <tr>\n",
       "      <th>2372</th>\n",
       "      <td>39034113</td>\n",
       "      <td>Effect of wall thickness on shape accuracy of ...</td>\n",
       "      <td>This study aimed to analyze how the wall thick...</td>\n",
       "      <td>0</td>\n",
       "      <td>not_pesticide</td>\n",
       "    </tr>\n",
       "    <tr>\n",
       "      <th>2373</th>\n",
       "      <td>38925985</td>\n",
       "      <td>Dental human enamel wear caused by ceramic ant...</td>\n",
       "      <td>Fixed restorations and dental enamel have diff...</td>\n",
       "      <td>0</td>\n",
       "      <td>not_pesticide</td>\n",
       "    </tr>\n",
       "    <tr>\n",
       "      <th>2374</th>\n",
       "      <td>38853001</td>\n",
       "      <td>Optimizing implant osseointegration, soft tiss...</td>\n",
       "      <td>Titanium implants have revolutionized restorat...</td>\n",
       "      <td>0</td>\n",
       "      <td>not_pesticide</td>\n",
       "    </tr>\n",
       "  </tbody>\n",
       "</table>\n",
       "<p>4708 rows × 5 columns</p>\n",
       "</div>"
      ],
      "text/plain": [
       "          pmid                                              title  \\\n",
       "1     40205634  A Python package for fast GPU-based proton pen...   \n",
       "8     40205627  Efficacy and Safety of Direct Oral Anti-Coagul...   \n",
       "9     40205626  Design and validation of a novel dosimetry pha...   \n",
       "10    40205625  Associations of neighbourhood walkability with...   \n",
       "11    40205624  Psychometric evaluation of the problem areas i...   \n",
       "...        ...                                                ...   \n",
       "2370  39198200  Enhanced functionality and migration of human ...   \n",
       "2371  39198199  Effect of build orientation on the wear resist...   \n",
       "2372  39034113  Effect of wall thickness on shape accuracy of ...   \n",
       "2373  38925985  Dental human enamel wear caused by ceramic ant...   \n",
       "2374  38853001  Optimizing implant osseointegration, soft tiss...   \n",
       "\n",
       "                                               abstract  label     text_label  \n",
       "1     Open-source GPU-based Monte Carlo (MC) proton ...      0  not_pesticide  \n",
       "8     Direct oral anticoagulants (DOAC), including d...      0  not_pesticide  \n",
       "9     We present a novel phantom design for conducti...      0  not_pesticide  \n",
       "10    Neighbourhood walkability is known to be posit...      0  not_pesticide  \n",
       "11    to assesses the psychometric properties of the...      0  not_pesticide  \n",
       "...                                                 ...    ...            ...  \n",
       "2370  The maintenance of peri-implant health relies ...      0  not_pesticide  \n",
       "2371  This in vitro study investigated the effect of...      0  not_pesticide  \n",
       "2372  This study aimed to analyze how the wall thick...      0  not_pesticide  \n",
       "2373  Fixed restorations and dental enamel have diff...      0  not_pesticide  \n",
       "2374  Titanium implants have revolutionized restorat...      0  not_pesticide  \n",
       "\n",
       "[4708 rows x 5 columns]"
      ]
     },
     "execution_count": 9,
     "metadata": {},
     "output_type": "execute_result"
    }
   ],
   "source": [
    "baseline_abstracts['label'] = 0\n",
    "baseline_abstracts['text_label'] = 'not_pesticide'\n",
    "\n",
    "baseline_abstracts"
   ]
  },
  {
   "cell_type": "code",
   "execution_count": 10,
   "id": "2a5a6b9e",
   "metadata": {},
   "outputs": [
    {
     "data": {
      "text/html": [
       "<div>\n",
       "<style scoped>\n",
       "    .dataframe tbody tr th:only-of-type {\n",
       "        vertical-align: middle;\n",
       "    }\n",
       "\n",
       "    .dataframe tbody tr th {\n",
       "        vertical-align: top;\n",
       "    }\n",
       "\n",
       "    .dataframe thead th {\n",
       "        text-align: right;\n",
       "    }\n",
       "</style>\n",
       "<table border=\"1\" class=\"dataframe\">\n",
       "  <thead>\n",
       "    <tr style=\"text-align: right;\">\n",
       "      <th></th>\n",
       "      <th>pmid</th>\n",
       "      <th>title</th>\n",
       "      <th>abstract</th>\n",
       "      <th>label</th>\n",
       "      <th>text_label</th>\n",
       "    </tr>\n",
       "  </thead>\n",
       "  <tbody>\n",
       "    <tr>\n",
       "      <th>0</th>\n",
       "      <td>10234476</td>\n",
       "      <td>Pesticide induced changes of nitric oxide synt...</td>\n",
       "      <td>Organic insecticides are well known neurotoxic...</td>\n",
       "      <td>1</td>\n",
       "      <td>pesticide</td>\n",
       "    </tr>\n",
       "    <tr>\n",
       "      <th>1</th>\n",
       "      <td>10369463</td>\n",
       "      <td>Minor structural changes in nicotinoid insecti...</td>\n",
       "      <td>The major nitroimine insecticide imidacloprid ...</td>\n",
       "      <td>1</td>\n",
       "      <td>pesticide</td>\n",
       "    </tr>\n",
       "    <tr>\n",
       "      <th>2</th>\n",
       "      <td>10583056</td>\n",
       "      <td>Evidence for double resistance to permethrin a...</td>\n",
       "      <td>A rising prevalence of head lice among school ...</td>\n",
       "      <td>1</td>\n",
       "      <td>pesticide</td>\n",
       "    </tr>\n",
       "    <tr>\n",
       "      <th>3</th>\n",
       "      <td>15496540</td>\n",
       "      <td>Pesticides and lung cancer risk in the agricul...</td>\n",
       "      <td>The authors examined the relation between 50 w...</td>\n",
       "      <td>1</td>\n",
       "      <td>pesticide</td>\n",
       "    </tr>\n",
       "    <tr>\n",
       "      <th>4</th>\n",
       "      <td>16452832</td>\n",
       "      <td>Pendimethalin exposure and cancer incidence am...</td>\n",
       "      <td>Pendimethalin, a widely used herbicide, has be...</td>\n",
       "      <td>1</td>\n",
       "      <td>pesticide</td>\n",
       "    </tr>\n",
       "    <tr>\n",
       "      <th>...</th>\n",
       "      <td>...</td>\n",
       "      <td>...</td>\n",
       "      <td>...</td>\n",
       "      <td>...</td>\n",
       "      <td>...</td>\n",
       "    </tr>\n",
       "    <tr>\n",
       "      <th>147</th>\n",
       "      <td>39399211</td>\n",
       "      <td>Cytotoxicity induced by three commercial neoni...</td>\n",
       "      <td>Neonicotinoid insecticides are used worldwide ...</td>\n",
       "      <td>1</td>\n",
       "      <td>pesticide</td>\n",
       "    </tr>\n",
       "    <tr>\n",
       "      <th>148</th>\n",
       "      <td>39402966</td>\n",
       "      <td>Toxicity of pesticide cocktails in amphibian l...</td>\n",
       "      <td>Aquatic communities are increasingly exposed t...</td>\n",
       "      <td>1</td>\n",
       "      <td>pesticide</td>\n",
       "    </tr>\n",
       "    <tr>\n",
       "      <th>149</th>\n",
       "      <td>39415959</td>\n",
       "      <td>Neonicotinoid pesticides: evidence of developm...</td>\n",
       "      <td>Neonicotinoids are the most widely used class ...</td>\n",
       "      <td>1</td>\n",
       "      <td>pesticide</td>\n",
       "    </tr>\n",
       "    <tr>\n",
       "      <th>150</th>\n",
       "      <td>39419870</td>\n",
       "      <td>An overview on the fate and behavior of imidac...</td>\n",
       "      <td>This review provides an overview on the fate a...</td>\n",
       "      <td>1</td>\n",
       "      <td>pesticide</td>\n",
       "    </tr>\n",
       "    <tr>\n",
       "      <th>151</th>\n",
       "      <td>7783251</td>\n",
       "      <td>A multidisciplinary approach to toxicological ...</td>\n",
       "      <td>As part of the validation of an integrated bio...</td>\n",
       "      <td>1</td>\n",
       "      <td>pesticide</td>\n",
       "    </tr>\n",
       "  </tbody>\n",
       "</table>\n",
       "<p>152 rows × 5 columns</p>\n",
       "</div>"
      ],
      "text/plain": [
       "         pmid                                              title  \\\n",
       "0    10234476  Pesticide induced changes of nitric oxide synt...   \n",
       "1    10369463  Minor structural changes in nicotinoid insecti...   \n",
       "2    10583056  Evidence for double resistance to permethrin a...   \n",
       "3    15496540  Pesticides and lung cancer risk in the agricul...   \n",
       "4    16452832  Pendimethalin exposure and cancer incidence am...   \n",
       "..        ...                                                ...   \n",
       "147  39399211  Cytotoxicity induced by three commercial neoni...   \n",
       "148  39402966  Toxicity of pesticide cocktails in amphibian l...   \n",
       "149  39415959  Neonicotinoid pesticides: evidence of developm...   \n",
       "150  39419870  An overview on the fate and behavior of imidac...   \n",
       "151   7783251  A multidisciplinary approach to toxicological ...   \n",
       "\n",
       "                                              abstract  label text_label  \n",
       "0    Organic insecticides are well known neurotoxic...      1  pesticide  \n",
       "1    The major nitroimine insecticide imidacloprid ...      1  pesticide  \n",
       "2    A rising prevalence of head lice among school ...      1  pesticide  \n",
       "3    The authors examined the relation between 50 w...      1  pesticide  \n",
       "4    Pendimethalin, a widely used herbicide, has be...      1  pesticide  \n",
       "..                                                 ...    ...        ...  \n",
       "147  Neonicotinoid insecticides are used worldwide ...      1  pesticide  \n",
       "148  Aquatic communities are increasingly exposed t...      1  pesticide  \n",
       "149  Neonicotinoids are the most widely used class ...      1  pesticide  \n",
       "150  This review provides an overview on the fate a...      1  pesticide  \n",
       "151  As part of the validation of an integrated bio...      1  pesticide  \n",
       "\n",
       "[152 rows x 5 columns]"
      ]
     },
     "execution_count": 10,
     "metadata": {},
     "output_type": "execute_result"
    }
   ],
   "source": [
    "curated_pesticide_abstracts['label'] = 1\n",
    "curated_pesticide_abstracts['text_label'] = 'pesticide'\n",
    "curated_pesticide_abstracts"
   ]
  },
  {
   "cell_type": "code",
   "execution_count": 11,
   "id": "77716d95",
   "metadata": {},
   "outputs": [
    {
     "name": "stdout",
     "output_type": "stream",
     "text": [
      "(4860, 5)\n",
      "(4860, 5)\n"
     ]
    }
   ],
   "source": [
    "# concat baseline with curated set\n",
    "validation_abstracts = pd.concat([baseline_abstracts, curated_pesticide_abstracts], axis=0)\n",
    "print(validation_abstracts.shape)\n",
    "# just to be sure: remove duplicates (not likely given this setup)\n",
    "validation_abstracts = validation_abstracts.drop_duplicates(subset=['pmid'], keep='first')\n",
    "print(validation_abstracts.shape)"
   ]
  },
  {
   "cell_type": "code",
   "execution_count": 12,
   "id": "e5e0577c",
   "metadata": {},
   "outputs": [
    {
     "data": {
      "text/plain": [
       "text_label\n",
       "not_pesticide    4708\n",
       "pesticide         152\n",
       "Name: count, dtype: int64"
      ]
     },
     "execution_count": 12,
     "metadata": {},
     "output_type": "execute_result"
    }
   ],
   "source": [
    "validation_abstracts['text_label'].value_counts()"
   ]
  },
  {
   "cell_type": "code",
   "execution_count": 13,
   "id": "06c39054",
   "metadata": {},
   "outputs": [
    {
     "data": {
      "text/html": [
       "<div>\n",
       "<style scoped>\n",
       "    .dataframe tbody tr th:only-of-type {\n",
       "        vertical-align: middle;\n",
       "    }\n",
       "\n",
       "    .dataframe tbody tr th {\n",
       "        vertical-align: top;\n",
       "    }\n",
       "\n",
       "    .dataframe thead th {\n",
       "        text-align: right;\n",
       "    }\n",
       "</style>\n",
       "<table border=\"1\" class=\"dataframe\">\n",
       "  <thead>\n",
       "    <tr style=\"text-align: right;\">\n",
       "      <th></th>\n",
       "      <th>pmid</th>\n",
       "      <th>title</th>\n",
       "      <th>abstract</th>\n",
       "      <th>label</th>\n",
       "      <th>text_label</th>\n",
       "      <th>title_clean</th>\n",
       "      <th>abstract_clean</th>\n",
       "    </tr>\n",
       "  </thead>\n",
       "  <tbody>\n",
       "    <tr>\n",
       "      <th>1</th>\n",
       "      <td>40205634</td>\n",
       "      <td>A Python package for fast GPU-based proton pen...</td>\n",
       "      <td>Open-source GPU-based Monte Carlo (MC) proton ...</td>\n",
       "      <td>0</td>\n",
       "      <td>not_pesticide</td>\n",
       "      <td>a python package for fast gpu-based proton pen...</td>\n",
       "      <td>open-source gpu-based monte carlo (mc) proton ...</td>\n",
       "    </tr>\n",
       "    <tr>\n",
       "      <th>8</th>\n",
       "      <td>40205627</td>\n",
       "      <td>Efficacy and Safety of Direct Oral Anti-Coagul...</td>\n",
       "      <td>Direct oral anticoagulants (DOAC), including d...</td>\n",
       "      <td>0</td>\n",
       "      <td>not_pesticide</td>\n",
       "      <td>efficacy and safety of direct oral anti-coagul...</td>\n",
       "      <td>direct oral anticoagulants (doac), including d...</td>\n",
       "    </tr>\n",
       "    <tr>\n",
       "      <th>9</th>\n",
       "      <td>40205626</td>\n",
       "      <td>Design and validation of a novel dosimetry pha...</td>\n",
       "      <td>We present a novel phantom design for conducti...</td>\n",
       "      <td>0</td>\n",
       "      <td>not_pesticide</td>\n",
       "      <td>design and validation of a novel dosimetry pha...</td>\n",
       "      <td>we present a novel phantom design for conducti...</td>\n",
       "    </tr>\n",
       "  </tbody>\n",
       "</table>\n",
       "</div>"
      ],
      "text/plain": [
       "       pmid                                              title  \\\n",
       "1  40205634  A Python package for fast GPU-based proton pen...   \n",
       "8  40205627  Efficacy and Safety of Direct Oral Anti-Coagul...   \n",
       "9  40205626  Design and validation of a novel dosimetry pha...   \n",
       "\n",
       "                                            abstract  label     text_label  \\\n",
       "1  Open-source GPU-based Monte Carlo (MC) proton ...      0  not_pesticide   \n",
       "8  Direct oral anticoagulants (DOAC), including d...      0  not_pesticide   \n",
       "9  We present a novel phantom design for conducti...      0  not_pesticide   \n",
       "\n",
       "                                         title_clean  \\\n",
       "1  a python package for fast gpu-based proton pen...   \n",
       "8  efficacy and safety of direct oral anti-coagul...   \n",
       "9  design and validation of a novel dosimetry pha...   \n",
       "\n",
       "                                      abstract_clean  \n",
       "1  open-source gpu-based monte carlo (mc) proton ...  \n",
       "8  direct oral anticoagulants (doac), including d...  \n",
       "9  we present a novel phantom design for conducti...  "
      ]
     },
     "execution_count": 13,
     "metadata": {},
     "output_type": "execute_result"
    }
   ],
   "source": [
    "# create abstract and title columns lowercase and without punctuation\n",
    "utils.preprocess_text(validation_abstracts)\n",
    "validation_abstracts.head(3)"
   ]
  },
  {
   "cell_type": "code",
   "execution_count": 14,
   "id": "c87c6cd8",
   "metadata": {},
   "outputs": [],
   "source": [
    "#shuffle to prevent batch effects\n",
    "validation_abstracts = validation_abstracts.sample(frac=1, random_state=42).reset_index(drop=True)\n",
    "#reset the index\n",
    "validation_abstracts = validation_abstracts.reset_index(drop=True)\n",
    "#validation_abstracts['text_label'][:50]"
   ]
  },
  {
   "cell_type": "code",
   "execution_count": 15,
   "id": "84a1e124",
   "metadata": {},
   "outputs": [
    {
     "data": {
      "image/png": "[encoded data removed]",
      "text/plain": [
       "<Figure size 1000x500 with 1 Axes>"
      ]
     },
     "metadata": {},
     "output_type": "display_data"
    }
   ],
   "source": [
    "# get a picture of the lengths distribution of the abstracts\n",
    "import seaborn as sns\n",
    "plt.figure(figsize=(10, 5))\n",
    "sns.histplot(validation_abstracts['abstract'].str.split().str.len(), bins=50)\n",
    "plt.title('Distribution of abstract lengths')\n",
    "plt.xlabel('Number of words')\n",
    "plt.ylabel('Count')\n",
    "#plt.savefig('./figures/abstract_lengths.png', dpi=300, bbox_inches='tight')\n",
    "plt.show()"
   ]
  },
  {
   "cell_type": "markdown",
   "id": "c8d72421",
   "metadata": {},
   "source": [
    "That is a strangely bimodal distribution.  \n",
    "That has probably to do with the specific requirements posed by the individual journals to which they were submitted.  \n",
    "However, this is going to be a problem when using the longer abstracts in the context of transformers: they have \n",
    "an upper length limit of 512 **after their own tokenization** which, so it seems, can get very high (see notebook `transformers_feature_extraction.ipynb`)"
   ]
  },
  {
   "cell_type": "markdown",
   "id": "a07d6285",
   "metadata": {},
   "source": [
    "## Train / test data"
   ]
  },
  {
   "cell_type": "markdown",
   "id": "29998d8d",
   "metadata": {},
   "source": [
    "For model development, I will start with the first collection, load it as always and remove any papers of the curated set from this one, to really have unseen data in the validation dataset."
   ]
  },
  {
   "cell_type": "code",
   "execution_count": null,
   "id": "b620f4a9",
   "metadata": {},
   "outputs": [],
   "source": [
    "file1 = './data/abstract_set1.txt'\n",
    "file2 = './data/abstract_set2.txt'\n",
    "data_selection = 'abstract'\n",
    "label_selection = 'label' # can be 'label' or 'text_label'\n",
    "train_test = utils.read_abstract_data(negatives_path=file2, positives_path=file1)\n",
    "train_test.head()"
   ]
  },
  {
   "cell_type": "code",
   "execution_count": null,
   "id": "d7f16550",
   "metadata": {},
   "outputs": [],
   "source": [
    "# create abstract and title columns lowercase and without punctuation\n",
    "utils.preprocess_text(train_test)\n",
    "train_test.head(3)"
   ]
  },
  {
   "cell_type": "code",
   "execution_count": null,
   "id": "88b0b825",
   "metadata": {},
   "outputs": [],
   "source": [
    "#shuffle to prevent batch effects\n",
    "train_test = train_test.sample(frac=1, random_state=42).reset_index(drop=True)\n",
    "# reset the index\n",
    "train_test = train_test.reset_index(drop=True)\n",
    "\n",
    "train_test['text_label'][:20]"
   ]
  },
  {
   "cell_type": "markdown",
   "id": "3187c237",
   "metadata": {},
   "source": [
    "## Split train/test\n",
    "For now, I will work wth the original, non preprocessed abstracts because they are more suitable for CNNs, the "
   ]
  },
  {
   "cell_type": "code",
   "execution_count": null,
   "id": "ae448ccf",
   "metadata": {},
   "outputs": [],
   "source": [
    "x_train, x_test, y_train, y_test = train_test_split(train_test[data_selection], train_test[label_selection], random_state=123)\n",
    "x_train.head()"
   ]
  },
  {
   "cell_type": "markdown",
   "id": "0cfd539c",
   "metadata": {},
   "source": [
    "## Optimize CNN classifier"
   ]
  },
  {
   "cell_type": "code",
   "execution_count": null,
   "id": "b9ecf097",
   "metadata": {},
   "outputs": [],
   "source": [
    "# number of classes\n",
    "K = train_test[label_selection].max() + 1\n",
    "K"
   ]
  },
  {
   "cell_type": "code",
   "execution_count": null,
   "id": "7d09cbef",
   "metadata": {},
   "outputs": [],
   "source": [
    "# Convert sentences to sequences\n",
    "MAX_VOCAB_SIZE = 3000\n",
    "tokenizer = Tokenizer(num_words=MAX_VOCAB_SIZE) # tokenizer from tensorflow.keras.preprocessing.text\n",
    "tokenizer.fit_on_texts(x_train)\n",
    "sequences_train = tokenizer.texts_to_sequences(x_train) # returns a simple python list of lists (of numbers)\n",
    "sequences_test = tokenizer.texts_to_sequences(x_test)\n",
    "print(f'train sequences: {len(sequences_train)}; test sequences: {len(sequences_test)}')\n",
    "\n"
   ]
  },
  {
   "cell_type": "markdown",
   "id": "7785daf6",
   "metadata": {},
   "source": [
    "## Explore Vector \"landscape\""
   ]
  },
  {
   "cell_type": "code",
   "execution_count": null,
   "id": "46d141fd",
   "metadata": {},
   "outputs": [],
   "source": [
    "#stopwords = utils.get_stopwords(custom = {'wa', 'use', 'using', 'one', 'two', 'three', 'study'}) \n",
    "#tokenizer = utils.Tokenizer(stop_words=stopwords, min_length=3)\n",
    "\n",
    "# Here, I will use TF-IDF out of the box\n",
    "#vectorizer = TfidfVectorizer(max_features=MAX_VOCAB_SIZE)"
   ]
  }
 ],
 "metadata": {
  "kernelspec": {
   "display_name": "nlp",
   "language": "python",
   "name": "nlp"
  },
  "language_info": {
   "codemirror_mode": {
    "name": "ipython",
    "version": 3
   },
   "file_extension": ".py",
   "mimetype": "text/x-python",
   "name": "python",
   "nbconvert_exporter": "python",
   "pygments_lexer": "ipython3",
   "version": "3.12.8"
  }
 },
 "nbformat": 4,
 "nbformat_minor": 5
}
