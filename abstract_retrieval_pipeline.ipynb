{
 "cells": [
  {
   "cell_type": "code",
   "execution_count": 1,
   "id": "fcd12e80",
   "metadata": {},
   "outputs": [],
   "source": [
    "import pandas as pd\n",
    "import numpy as np\n",
    "import matplotlib.pyplot as plt\n",
    "\n",
    "from sklearn.model_selection import train_test_split\n",
    "#from sklearn.feature_extraction.text import  TfidfVectorizer\n",
    "\n",
    "from tensorflow.keras.preprocessing.text import Tokenizer # type: ignore\n",
    "from tensorflow.keras.preprocessing.sequence import pad_sequences # type: ignore\n",
    "\n",
    "import utils # all datareading and preprocessing functionality\n",
    "import entrez_utils # all functions for querying NCBI Entrez"
   ]
  },
  {
   "cell_type": "markdown",
   "id": "33ef9886",
   "metadata": {},
   "source": [
    "## Validation data"
   ]
  },
  {
   "cell_type": "markdown",
   "id": "18dd2433",
   "metadata": {},
   "source": [
    "Read and process the \"gold standard\" data."
   ]
  },
  {
   "cell_type": "code",
   "execution_count": 2,
   "id": "564f888f",
   "metadata": {},
   "outputs": [
    {
     "data": {
      "text/html": [
       "<div>\n",
       "<style scoped>\n",
       "    .dataframe tbody tr th:only-of-type {\n",
       "        vertical-align: middle;\n",
       "    }\n",
       "\n",
       "    .dataframe tbody tr th {\n",
       "        vertical-align: top;\n",
       "    }\n",
       "\n",
       "    .dataframe thead th {\n",
       "        text-align: right;\n",
       "    }\n",
       "</style>\n",
       "<table border=\"1\" class=\"dataframe\">\n",
       "  <thead>\n",
       "    <tr style=\"text-align: right;\">\n",
       "      <th></th>\n",
       "      <th>pmid</th>\n",
       "      <th>label</th>\n",
       "      <th>tenwise_id</th>\n",
       "      <th>pesticide</th>\n",
       "    </tr>\n",
       "  </thead>\n",
       "  <tbody>\n",
       "    <tr>\n",
       "      <th>0</th>\n",
       "      <td>10234476</td>\n",
       "      <td>animal</td>\n",
       "      <td>TWPHI_00010</td>\n",
       "      <td>carbaryl</td>\n",
       "    </tr>\n",
       "    <tr>\n",
       "      <th>1</th>\n",
       "      <td>10369463</td>\n",
       "      <td>human</td>\n",
       "      <td>TWPHI_00003</td>\n",
       "      <td>acetamiprid</td>\n",
       "    </tr>\n",
       "    <tr>\n",
       "      <th>2</th>\n",
       "      <td>10583056</td>\n",
       "      <td>human</td>\n",
       "      <td>TWPHI_00010</td>\n",
       "      <td>carbaryl</td>\n",
       "    </tr>\n",
       "    <tr>\n",
       "      <th>3</th>\n",
       "      <td>15496540</td>\n",
       "      <td>human</td>\n",
       "      <td>TWPHI_00072</td>\n",
       "      <td>pendimethalin</td>\n",
       "    </tr>\n",
       "    <tr>\n",
       "      <th>4</th>\n",
       "      <td>16452832</td>\n",
       "      <td>human</td>\n",
       "      <td>TWPHI_00072</td>\n",
       "      <td>pendimethalin</td>\n",
       "    </tr>\n",
       "    <tr>\n",
       "      <th>...</th>\n",
       "      <td>...</td>\n",
       "      <td>...</td>\n",
       "      <td>...</td>\n",
       "      <td>...</td>\n",
       "    </tr>\n",
       "    <tr>\n",
       "      <th>159</th>\n",
       "      <td>39415959</td>\n",
       "      <td>animal</td>\n",
       "      <td>TWPHI_00003</td>\n",
       "      <td>acetamiprid</td>\n",
       "    </tr>\n",
       "    <tr>\n",
       "      <th>160</th>\n",
       "      <td>39415959</td>\n",
       "      <td>animal</td>\n",
       "      <td>TWPHI_00012</td>\n",
       "      <td>clothianidin</td>\n",
       "    </tr>\n",
       "    <tr>\n",
       "      <th>161</th>\n",
       "      <td>39415959</td>\n",
       "      <td>animal</td>\n",
       "      <td>TWPHI_00025</td>\n",
       "      <td>imidacloprid</td>\n",
       "    </tr>\n",
       "    <tr>\n",
       "      <th>162</th>\n",
       "      <td>39419870</td>\n",
       "      <td>other</td>\n",
       "      <td>TWPHI_00025</td>\n",
       "      <td>imidacloprid</td>\n",
       "    </tr>\n",
       "    <tr>\n",
       "      <th>163</th>\n",
       "      <td>7783251</td>\n",
       "      <td>animal</td>\n",
       "      <td>TWPHI_00010</td>\n",
       "      <td>carbaryl</td>\n",
       "    </tr>\n",
       "  </tbody>\n",
       "</table>\n",
       "<p>164 rows × 4 columns</p>\n",
       "</div>"
      ],
      "text/plain": [
       "         pmid   label   tenwise_id      pesticide\n",
       "0    10234476  animal  TWPHI_00010       carbaryl\n",
       "1    10369463   human  TWPHI_00003    acetamiprid\n",
       "2    10583056   human  TWPHI_00010       carbaryl\n",
       "3    15496540   human  TWPHI_00072  pendimethalin\n",
       "4    16452832   human  TWPHI_00072  pendimethalin\n",
       "..        ...     ...          ...            ...\n",
       "159  39415959  animal  TWPHI_00003    acetamiprid\n",
       "160  39415959  animal  TWPHI_00012   clothianidin\n",
       "161  39415959  animal  TWPHI_00025   imidacloprid\n",
       "162  39419870   other  TWPHI_00025   imidacloprid\n",
       "163   7783251  animal  TWPHI_00010       carbaryl\n",
       "\n",
       "[164 rows x 4 columns]"
      ]
     },
     "execution_count": 2,
     "metadata": {},
     "output_type": "execute_result"
    }
   ],
   "source": [
    "curated_pesticide_papers = pd.read_csv('./data/curated_pesticides.txt', sep='\\t')\n",
    "curated_pesticide_papers"
   ]
  },
  {
   "cell_type": "markdown",
   "id": "bea246eb",
   "metadata": {},
   "source": [
    "Fetch abstracts belonging to theses pmid's."
   ]
  },
  {
   "cell_type": "code",
   "execution_count": null,
   "id": "64b98c75",
   "metadata": {},
   "outputs": [],
   "source": [
    "#entrez_utils.init('20af26e91ae36b8ec830da38ca84b872a209', 'michiel.noback@gmail.com')"
   ]
  },
  {
   "cell_type": "code",
   "execution_count": 3,
   "id": "c196a6f4",
   "metadata": {},
   "outputs": [
    {
     "name": "stdout",
     "output_type": "stream",
     "text": [
      "164\n"
     ]
    },
    {
     "data": {
      "text/plain": [
       "[10234476,\n",
       " 10369463,\n",
       " 10583056,\n",
       " 15496540,\n",
       " 16452832,\n",
       " 16704049,\n",
       " 19248625,\n",
       " 19934164,\n",
       " 22361216,\n",
       " 22393406]"
      ]
     },
     "execution_count": 3,
     "metadata": {},
     "output_type": "execute_result"
    }
   ],
   "source": [
    "pub_ids=curated_pesticide_papers['pmid'].to_list()\n",
    "print(len(pub_ids))\n",
    "pub_ids[:10]"
   ]
  },
  {
   "cell_type": "code",
   "execution_count": null,
   "id": "2bcb21e4",
   "metadata": {},
   "outputs": [],
   "source": [
    "# from importlib import reload\n",
    "# reload(entrez_utils)"
   ]
  },
  {
   "cell_type": "code",
   "execution_count": null,
   "id": "aae780a6",
   "metadata": {},
   "outputs": [],
   "source": [
    "# not required to repeat\n",
    "#entrez_utils.fetch_abstracts(pub_ids=pub_ids, \n",
    "#                             output_file='./data/curated_pesticides_abstracts.txt')"
   ]
  },
  {
   "cell_type": "code",
   "execution_count": 10,
   "id": "6690be04",
   "metadata": {},
   "outputs": [
    {
     "name": "stdout",
     "output_type": "stream",
     "text": [
      "(152, 3)\n"
     ]
    },
    {
     "data": {
      "text/html": [
       "<div>\n",
       "<style scoped>\n",
       "    .dataframe tbody tr th:only-of-type {\n",
       "        vertical-align: middle;\n",
       "    }\n",
       "\n",
       "    .dataframe tbody tr th {\n",
       "        vertical-align: top;\n",
       "    }\n",
       "\n",
       "    .dataframe thead th {\n",
       "        text-align: right;\n",
       "    }\n",
       "</style>\n",
       "<table border=\"1\" class=\"dataframe\">\n",
       "  <thead>\n",
       "    <tr style=\"text-align: right;\">\n",
       "      <th></th>\n",
       "      <th>pmid</th>\n",
       "      <th>title</th>\n",
       "      <th>abstract</th>\n",
       "      <th>label</th>\n",
       "      <th>text_label</th>\n",
       "    </tr>\n",
       "  </thead>\n",
       "  <tbody>\n",
       "    <tr>\n",
       "      <th>0</th>\n",
       "      <td>10234476</td>\n",
       "      <td>Pesticide induced changes of nitric oxide synt...</td>\n",
       "      <td>Organic insecticides are well known neurotoxic...</td>\n",
       "      <td>1</td>\n",
       "      <td>pesticide</td>\n",
       "    </tr>\n",
       "    <tr>\n",
       "      <th>1</th>\n",
       "      <td>10369463</td>\n",
       "      <td>Minor structural changes in nicotinoid insecti...</td>\n",
       "      <td>The major nitroimine insecticide imidacloprid ...</td>\n",
       "      <td>1</td>\n",
       "      <td>pesticide</td>\n",
       "    </tr>\n",
       "    <tr>\n",
       "      <th>2</th>\n",
       "      <td>10583056</td>\n",
       "      <td>Evidence for double resistance to permethrin a...</td>\n",
       "      <td>A rising prevalence of head lice among school ...</td>\n",
       "      <td>1</td>\n",
       "      <td>pesticide</td>\n",
       "    </tr>\n",
       "    <tr>\n",
       "      <th>3</th>\n",
       "      <td>15496540</td>\n",
       "      <td>Pesticides and lung cancer risk in the agricul...</td>\n",
       "      <td>The authors examined the relation between 50 w...</td>\n",
       "      <td>1</td>\n",
       "      <td>pesticide</td>\n",
       "    </tr>\n",
       "    <tr>\n",
       "      <th>4</th>\n",
       "      <td>16452832</td>\n",
       "      <td>Pendimethalin exposure and cancer incidence am...</td>\n",
       "      <td>Pendimethalin, a widely used herbicide, has be...</td>\n",
       "      <td>1</td>\n",
       "      <td>pesticide</td>\n",
       "    </tr>\n",
       "    <tr>\n",
       "      <th>...</th>\n",
       "      <td>...</td>\n",
       "      <td>...</td>\n",
       "      <td>...</td>\n",
       "      <td>...</td>\n",
       "      <td>...</td>\n",
       "    </tr>\n",
       "    <tr>\n",
       "      <th>147</th>\n",
       "      <td>39399211</td>\n",
       "      <td>Cytotoxicity induced by three commercial neoni...</td>\n",
       "      <td>Neonicotinoid insecticides are used worldwide ...</td>\n",
       "      <td>1</td>\n",
       "      <td>pesticide</td>\n",
       "    </tr>\n",
       "    <tr>\n",
       "      <th>148</th>\n",
       "      <td>39402966</td>\n",
       "      <td>Toxicity of pesticide cocktails in amphibian l...</td>\n",
       "      <td>Aquatic communities are increasingly exposed t...</td>\n",
       "      <td>1</td>\n",
       "      <td>pesticide</td>\n",
       "    </tr>\n",
       "    <tr>\n",
       "      <th>149</th>\n",
       "      <td>39415959</td>\n",
       "      <td>Neonicotinoid pesticides: evidence of developm...</td>\n",
       "      <td>Neonicotinoids are the most widely used class ...</td>\n",
       "      <td>1</td>\n",
       "      <td>pesticide</td>\n",
       "    </tr>\n",
       "    <tr>\n",
       "      <th>150</th>\n",
       "      <td>39419870</td>\n",
       "      <td>An overview on the fate and behavior of imidac...</td>\n",
       "      <td>This review provides an overview on the fate a...</td>\n",
       "      <td>1</td>\n",
       "      <td>pesticide</td>\n",
       "    </tr>\n",
       "    <tr>\n",
       "      <th>151</th>\n",
       "      <td>7783251</td>\n",
       "      <td>A multidisciplinary approach to toxicological ...</td>\n",
       "      <td>As part of the validation of an integrated bio...</td>\n",
       "      <td>1</td>\n",
       "      <td>pesticide</td>\n",
       "    </tr>\n",
       "  </tbody>\n",
       "</table>\n",
       "<p>152 rows × 5 columns</p>\n",
       "</div>"
      ],
      "text/plain": [
       "         pmid                                              title  \\\n",
       "0    10234476  Pesticide induced changes of nitric oxide synt...   \n",
       "1    10369463  Minor structural changes in nicotinoid insecti...   \n",
       "2    10583056  Evidence for double resistance to permethrin a...   \n",
       "3    15496540  Pesticides and lung cancer risk in the agricul...   \n",
       "4    16452832  Pendimethalin exposure and cancer incidence am...   \n",
       "..        ...                                                ...   \n",
       "147  39399211  Cytotoxicity induced by three commercial neoni...   \n",
       "148  39402966  Toxicity of pesticide cocktails in amphibian l...   \n",
       "149  39415959  Neonicotinoid pesticides: evidence of developm...   \n",
       "150  39419870  An overview on the fate and behavior of imidac...   \n",
       "151   7783251  A multidisciplinary approach to toxicological ...   \n",
       "\n",
       "                                              abstract  label text_label  \n",
       "0    Organic insecticides are well known neurotoxic...      1  pesticide  \n",
       "1    The major nitroimine insecticide imidacloprid ...      1  pesticide  \n",
       "2    A rising prevalence of head lice among school ...      1  pesticide  \n",
       "3    The authors examined the relation between 50 w...      1  pesticide  \n",
       "4    Pendimethalin, a widely used herbicide, has be...      1  pesticide  \n",
       "..                                                 ...    ...        ...  \n",
       "147  Neonicotinoid insecticides are used worldwide ...      1  pesticide  \n",
       "148  Aquatic communities are increasingly exposed t...      1  pesticide  \n",
       "149  Neonicotinoids are the most widely used class ...      1  pesticide  \n",
       "150  This review provides an overview on the fate a...      1  pesticide  \n",
       "151  As part of the validation of an integrated bio...      1  pesticide  \n",
       "\n",
       "[152 rows x 5 columns]"
      ]
     },
     "execution_count": 10,
     "metadata": {},
     "output_type": "execute_result"
    }
   ],
   "source": [
    "# check the new file\n",
    "curated_pesticide_abstracts = pd.read_csv('./data/curated_pesticides_abstracts.txt', sep='\\t')\n",
    "print(curated_pesticide_abstracts.shape)\n",
    "curated_pesticide_abstracts['label'] = 1\n",
    "curated_pesticide_abstracts['text_label'] = 'pesticide'\n",
    "curated_pesticide_abstracts"
   ]
  },
  {
   "cell_type": "markdown",
   "id": "d9daa4d9",
   "metadata": {},
   "source": [
    "Strangely enough, 12 papers seem to be lost in this procedure. I will investigate this a bit."
   ]
  },
  {
   "cell_type": "code",
   "execution_count": 11,
   "id": "d8c5a783",
   "metadata": {},
   "outputs": [
    {
     "data": {
      "text/plain": [
       "[(26990785, 2),\n",
       " (28385489, 2),\n",
       " (29151145, 2),\n",
       " (29374591, 2),\n",
       " (33288284, 2),\n",
       " (38470098, 2),\n",
       " (38581179, 2),\n",
       " (38799264, 2),\n",
       " (39162819, 2),\n",
       " (39359636, 2),\n",
       " (39415959, 3)]"
      ]
     },
     "execution_count": 11,
     "metadata": {},
     "output_type": "execute_result"
    }
   ],
   "source": [
    "# import Counter to check for duplicates\n",
    "from collections import Counter\n",
    "duplicates = [(item, count) for item, count in Counter(pub_ids).items() if count > 1]\n",
    "duplicates\n"
   ]
  },
  {
   "cell_type": "markdown",
   "id": "cb63521e",
   "metadata": {},
   "source": [
    "Apparently, there were 10 duplicates in the collection, as well as one triplicate.  \n",
    "Otherwise, it seems to be OK. \n",
    "\n",
    "I have already downloaded a baseline set, i.e. all the abstracts that were published on several days:\n",
    "```\n",
    "data/abstracts_2022_11_01.csv \n",
    "data/abstracts_2023_09_01.csv \n",
    "data/abstracts_2024_06_01.csv \n",
    "data/abstracts_2025_02_01.csv \n",
    "data/abstracts_2025_04_09.csv \n",
    "data/abstracts_2025_04_15.csv \n",
    "data/abstracts_2025_04_23.csv\n",
    "```\n",
    "\n",
    "These were combined into one file using a terminal command:\n",
    "`(head -1 abstracts_2022-11-01.csv && tail -n +2 -q abstracts*.csv ) > all_daily.txt`\n",
    "\n",
    "(Not in the git repo!)"
   ]
  },
  {
   "cell_type": "markdown",
   "id": "ea1685e6",
   "metadata": {},
   "source": [
    "Now read these into a dataframe and remove duplicates and papers without abstracts."
   ]
  },
  {
   "cell_type": "code",
   "execution_count": 6,
   "id": "acbafd96",
   "metadata": {},
   "outputs": [],
   "source": [
    "### DO NOT RERUN THIS CODE \n",
    "# baseline_file = \"/Users/michielnoback/Library/CloudStorage/OneDrive-HanzehogeschoolGroningen/projects/pesticides/all_daily.txt\"\n",
    "\n",
    "# baseline_abstracts = pd.read_csv(baseline_file, sep='\\t')\n",
    "# print(baseline_abstracts.shape)\n",
    "# baseline_abstracts.dropna(subset=['abstract'], inplace=True)\n",
    "# print(baseline_abstracts.shape)\n",
    "# baseline_abstracts = baseline_abstracts.drop_duplicates(subset=['pmid'], keep='first')\n",
    "# # only entries with abstract longer than 100 characters\n",
    "# baseline_abstracts = baseline_abstracts[baseline_abstracts['abstract'].str.len() > 100]\n",
    "\n",
    "# baseline_abstracts.reset_index(drop=True, inplace=True)\n",
    "# print(baseline_abstracts.shape)"
   ]
  },
  {
   "cell_type": "code",
   "execution_count": 7,
   "id": "1207f6c7",
   "metadata": {},
   "outputs": [],
   "source": [
    "### DO NOT RERUN THIS CODE \n",
    "# CREATE TWO NON-OVERLAPPING SAMPLES OF 5000 ABSTRACTS EACH\n",
    "\n",
    "# indices = np.arange(len(baseline_abstracts))\n",
    "# np.random.seed(42)\n",
    "# np.random.shuffle(indices)\n",
    "\n",
    "# first_sample_indices = indices[:5000]\n",
    "# second_sample_indices = indices[5000:10000]\n",
    "\n",
    "# baseline_train_test = baseline_abstracts.iloc[first_sample_indices]\n",
    "# baseline_val = baseline_abstracts.iloc[second_sample_indices]\n",
    "\n",
    "# ## write to file\n",
    "# baseline_train_test.to_csv('./data/baseline_train_test.txt', sep='\\t', index=False)\n",
    "# baseline_val.to_csv('./data/baseline_val.txt', sep='\\t', index=False)"
   ]
  },
  {
   "cell_type": "code",
   "execution_count": 9,
   "id": "e08f6582",
   "metadata": {},
   "outputs": [
    {
     "data": {
      "text/html": [
       "<div>\n",
       "<style scoped>\n",
       "    .dataframe tbody tr th:only-of-type {\n",
       "        vertical-align: middle;\n",
       "    }\n",
       "\n",
       "    .dataframe tbody tr th {\n",
       "        vertical-align: top;\n",
       "    }\n",
       "\n",
       "    .dataframe thead th {\n",
       "        text-align: right;\n",
       "    }\n",
       "</style>\n",
       "<table border=\"1\" class=\"dataframe\">\n",
       "  <thead>\n",
       "    <tr style=\"text-align: right;\">\n",
       "      <th></th>\n",
       "      <th>pmid</th>\n",
       "      <th>title</th>\n",
       "      <th>abstract</th>\n",
       "    </tr>\n",
       "  </thead>\n",
       "  <tbody>\n",
       "    <tr>\n",
       "      <th>0</th>\n",
       "      <td>38314258</td>\n",
       "      <td>COVID-19 and cardiovascular complications: upd...</td>\n",
       "      <td>Coronavirus disease 2019 (COVID-19), caused by...</td>\n",
       "    </tr>\n",
       "    <tr>\n",
       "      <th>1</th>\n",
       "      <td>36786116</td>\n",
       "      <td>New approaches for mental health of social min...</td>\n",
       "      <td>Mental health of social minorities is a challe...</td>\n",
       "    </tr>\n",
       "    <tr>\n",
       "      <th>2</th>\n",
       "      <td>40205354</td>\n",
       "      <td>Effects of Bacillus subtilis N24 combined with...</td>\n",
       "      <td>Recent years have witnessed increasingly exten...</td>\n",
       "    </tr>\n",
       "    <tr>\n",
       "      <th>3</th>\n",
       "      <td>40130907</td>\n",
       "      <td>Reorganizing the Pt Surface Water Structure fo...</td>\n",
       "      <td>The hydrogen oxidation reaction (HOR) in alkal...</td>\n",
       "    </tr>\n",
       "    <tr>\n",
       "      <th>4</th>\n",
       "      <td>40268982</td>\n",
       "      <td>Performance analysis of aquaponics system for ...</td>\n",
       "      <td>The aim of the present study on the performanc...</td>\n",
       "    </tr>\n",
       "  </tbody>\n",
       "</table>\n",
       "</div>"
      ],
      "text/plain": [
       "       pmid                                              title  \\\n",
       "0  38314258  COVID-19 and cardiovascular complications: upd...   \n",
       "1  36786116  New approaches for mental health of social min...   \n",
       "2  40205354  Effects of Bacillus subtilis N24 combined with...   \n",
       "3  40130907  Reorganizing the Pt Surface Water Structure fo...   \n",
       "4  40268982  Performance analysis of aquaponics system for ...   \n",
       "\n",
       "                                            abstract  \n",
       "0  Coronavirus disease 2019 (COVID-19), caused by...  \n",
       "1  Mental health of social minorities is a challe...  \n",
       "2  Recent years have witnessed increasingly exten...  \n",
       "3  The hydrogen oxidation reaction (HOR) in alkal...  \n",
       "4  The aim of the present study on the performanc...  "
      ]
     },
     "execution_count": 9,
     "metadata": {},
     "output_type": "execute_result"
    }
   ],
   "source": [
    "# read the files\n",
    "baseline_train_test = pd.read_csv('./data/baseline_train_test.txt', sep='\\t')\n",
    "baseline_val = pd.read_csv('./data/baseline_val.txt', sep='\\t')\n",
    "\n",
    "baseline_val.head()"
   ]
  },
  {
   "cell_type": "markdown",
   "id": "eef0deca",
   "metadata": {},
   "source": [
    "# Do a simple scan for pesticide terms\n",
    "To get an indication of the amount of pesticide papers in the baseline"
   ]
  },
  {
   "cell_type": "code",
   "execution_count": 12,
   "id": "f32bb71e",
   "metadata": {},
   "outputs": [],
   "source": [
    "pesticide_classes = ['pesticide', 'acaricide ', 'algicide', 'avicide', 'bactericide', 'fungicide', \n",
    "                     'herbicide', 'insecticide', 'molluscicide', 'nematicide', 'rodenticide', 'virucide']"
   ]
  },
  {
   "cell_type": "code",
   "execution_count": null,
   "id": "95ee4ed7",
   "metadata": {},
   "outputs": [
    {
     "data": {
      "text/html": [
       "<div>\n",
       "<style scoped>\n",
       "    .dataframe tbody tr th:only-of-type {\n",
       "        vertical-align: middle;\n",
       "    }\n",
       "\n",
       "    .dataframe tbody tr th {\n",
       "        vertical-align: top;\n",
       "    }\n",
       "\n",
       "    .dataframe thead th {\n",
       "        text-align: right;\n",
       "    }\n",
       "</style>\n",
       "<table border=\"1\" class=\"dataframe\">\n",
       "  <thead>\n",
       "    <tr style=\"text-align: right;\">\n",
       "      <th></th>\n",
       "      <th>pmid</th>\n",
       "      <th>title</th>\n",
       "      <th>abstract</th>\n",
       "    </tr>\n",
       "  </thead>\n",
       "  <tbody>\n",
       "    <tr>\n",
       "      <th>310</th>\n",
       "      <td>36978273</td>\n",
       "      <td>Pesticidal Effect of Leaves Extract of Differe...</td>\n",
       "      <td>&amp;lt;b&amp;gt;Background and Objective:&amp;lt;/b&amp;gt; T...</td>\n",
       "    </tr>\n",
       "    <tr>\n",
       "      <th>584</th>\n",
       "      <td>39055766</td>\n",
       "      <td>Abdominal radiographic features of anticoagula...</td>\n",
       "      <td>Anticoagulant rodenticide toxicity is commonly...</td>\n",
       "    </tr>\n",
       "    <tr>\n",
       "      <th>1551</th>\n",
       "      <td>38107400</td>\n",
       "      <td>&lt;i&gt;Botrytis cinerea&lt;/i&gt; hypovirulent strain △&lt;...</td>\n",
       "      <td>Gray mold, caused by &lt;i&gt;Botrytis cinerea&lt;/i&gt;, ...</td>\n",
       "    </tr>\n",
       "    <tr>\n",
       "      <th>1686</th>\n",
       "      <td>40022367</td>\n",
       "      <td>The diversity and disparity of mineral element...</td>\n",
       "      <td>Mineral elements in fruits are essential for v...</td>\n",
       "    </tr>\n",
       "    <tr>\n",
       "      <th>2417</th>\n",
       "      <td>40205232</td>\n",
       "      <td>Dissipation kinetics, safety evaluation and de...</td>\n",
       "      <td>A field experiment was conducted to evaluate t...</td>\n",
       "    </tr>\n",
       "    <tr>\n",
       "      <th>3352</th>\n",
       "      <td>36540705</td>\n",
       "      <td>Plastome characteristics and species identific...</td>\n",
       "      <td>Wintergreen oil is a folk medicine widely used...</td>\n",
       "    </tr>\n",
       "    <tr>\n",
       "      <th>3374</th>\n",
       "      <td>38074996</td>\n",
       "      <td>Recent advances in stimuli-response mechanisms...</td>\n",
       "      <td>Nanotechnology-enabled fertilizers and pestici...</td>\n",
       "    </tr>\n",
       "    <tr>\n",
       "      <th>3410</th>\n",
       "      <td>40227020</td>\n",
       "      <td>Emergence of Triazole-Resistant &lt;i&gt;Cryptococcu...</td>\n",
       "      <td>The rapid global emergence and spread of resis...</td>\n",
       "    </tr>\n",
       "    <tr>\n",
       "      <th>3426</th>\n",
       "      <td>39036748</td>\n",
       "      <td>Quinofumelin (Pesticides).</td>\n",
       "      <td>Food Safety Commission of Japan (FSCJ) conduct...</td>\n",
       "    </tr>\n",
       "    <tr>\n",
       "      <th>4149</th>\n",
       "      <td>40226962</td>\n",
       "      <td>RNA interference-based dsRNA application confe...</td>\n",
       "      <td>Rice production is severely impacted by pathog...</td>\n",
       "    </tr>\n",
       "    <tr>\n",
       "      <th>4352</th>\n",
       "      <td>40126364</td>\n",
       "      <td>Predictive modelling of peroxisome proliferato...</td>\n",
       "      <td>Peroxisome proliferator-activated receptor gam...</td>\n",
       "    </tr>\n",
       "    <tr>\n",
       "      <th>4384</th>\n",
       "      <td>40022316</td>\n",
       "      <td>Pesticide residues in grapes and wine: An over...</td>\n",
       "      <td>Grapes are fruits widely grown and known throu...</td>\n",
       "    </tr>\n",
       "    <tr>\n",
       "      <th>4808</th>\n",
       "      <td>39529431</td>\n",
       "      <td>Virulence and Diversity of &lt;i&gt;Puccinia striifo...</td>\n",
       "      <td>Stripe rust, caused by &lt;i&gt;Puccinia striiformis...</td>\n",
       "    </tr>\n",
       "  </tbody>\n",
       "</table>\n",
       "</div>"
      ],
      "text/plain": [
       "          pmid                                              title  \\\n",
       "310   36978273  Pesticidal Effect of Leaves Extract of Differe...   \n",
       "584   39055766  Abdominal radiographic features of anticoagula...   \n",
       "1551  38107400  <i>Botrytis cinerea</i> hypovirulent strain △<...   \n",
       "1686  40022367  The diversity and disparity of mineral element...   \n",
       "2417  40205232  Dissipation kinetics, safety evaluation and de...   \n",
       "3352  36540705  Plastome characteristics and species identific...   \n",
       "3374  38074996  Recent advances in stimuli-response mechanisms...   \n",
       "3410  40227020  Emergence of Triazole-Resistant <i>Cryptococcu...   \n",
       "3426  39036748                         Quinofumelin (Pesticides).   \n",
       "4149  40226962  RNA interference-based dsRNA application confe...   \n",
       "4352  40126364  Predictive modelling of peroxisome proliferato...   \n",
       "4384  40022316  Pesticide residues in grapes and wine: An over...   \n",
       "4808  39529431  Virulence and Diversity of <i>Puccinia striifo...   \n",
       "\n",
       "                                               abstract  \n",
       "310   &lt;b&gt;Background and Objective:&lt;/b&gt; T...  \n",
       "584   Anticoagulant rodenticide toxicity is commonly...  \n",
       "1551  Gray mold, caused by <i>Botrytis cinerea</i>, ...  \n",
       "1686  Mineral elements in fruits are essential for v...  \n",
       "2417  A field experiment was conducted to evaluate t...  \n",
       "3352  Wintergreen oil is a folk medicine widely used...  \n",
       "3374  Nanotechnology-enabled fertilizers and pestici...  \n",
       "3410  The rapid global emergence and spread of resis...  \n",
       "3426  Food Safety Commission of Japan (FSCJ) conduct...  \n",
       "4149  Rice production is severely impacted by pathog...  \n",
       "4352  Peroxisome proliferator-activated receptor gam...  \n",
       "4384  Grapes are fruits widely grown and known throu...  \n",
       "4808  Stripe rust, caused by <i>Puccinia striiformis...  "
      ]
     },
     "execution_count": 14,
     "metadata": {},
     "output_type": "execute_result"
    }
   ],
   "source": [
    "## find terms in either title or abstract column of baseline_train_test\n",
    "def find_terms_in_columns(df, column_names, terms):\n",
    "    \"\"\"\n",
    "    Find terms in a specified column of a DataFrame.\n",
    "    \n",
    "    Args:\n",
    "        df (pd.DataFrame): The DataFrame to search.\n",
    "        column_name (str): The name of the column to search.\n",
    "        terms (list): A list of terms to search for.\n",
    "        \n",
    "    Returns:\n",
    "        pd.DataFrame: A DataFrame containing rows where the specified column contains any of the terms.\n",
    "    \"\"\"\n",
    "    return df[df['title'].str.contains('|'.join(terms), na=False) | \n",
    "              df['abstract'].str.contains('|'.join(terms), na=False)]\n",
    "\n",
    "# Find pesticide classes in the abstract column\n",
    "baseline_train_test_pesticides = find_terms_in_column(baseline_train_test, 'abstract', pesticide_classes)\n",
    "\n",
    "#baseline_train_test_pesticides = baseline_train_test[baseline_train_test['abstract'].str.contains('|'.join(pesticide_classes), na=False)]\n",
    "baseline_train_test_pesticides"
   ]
  },
  {
   "cell_type": "code",
   "execution_count": null,
   "id": "1a6dc05d",
   "metadata": {},
   "outputs": [],
   "source": [
    "# baseline_abstracts['label'] = 0\n",
    "# baseline_abstracts['text_label'] = 'not_pesticide'\n",
    "\n",
    "# baseline_abstracts"
   ]
  },
  {
   "cell_type": "code",
   "execution_count": null,
   "id": "06c39054",
   "metadata": {},
   "outputs": [],
   "source": [
    "# create abstract and title columns lowercase and without punctuation\n",
    "utils.preprocess_text(validation_abstracts)\n",
    "validation_abstracts.head(3)"
   ]
  },
  {
   "cell_type": "code",
   "execution_count": null,
   "id": "c87c6cd8",
   "metadata": {},
   "outputs": [],
   "source": [
    "#shuffle to prevent batch effects\n",
    "validation_abstracts = validation_abstracts.sample(frac=1, random_state=42).reset_index(drop=True)\n",
    "#reset the index\n",
    "validation_abstracts = validation_abstracts.reset_index(drop=True)\n",
    "#validation_abstracts['text_label'][:50]"
   ]
  },
  {
   "cell_type": "code",
   "execution_count": null,
   "id": "84a1e124",
   "metadata": {},
   "outputs": [],
   "source": [
    "# get a picture of the lengths distribution of the abstracts\n",
    "import seaborn as sns\n",
    "plt.figure(figsize=(5, 3))\n",
    "sns.histplot(validation_abstracts['abstract'].str.split().str.len(), bins=50)\n",
    "plt.title('Distribution of abstract lengths')\n",
    "plt.xlabel('Number of words')\n",
    "plt.ylabel('Count')\n",
    "#plt.savefig('./figures/abstract_lengths.png', dpi=300, bbox_inches='tight')\n",
    "plt.show()"
   ]
  },
  {
   "cell_type": "markdown",
   "id": "c8d72421",
   "metadata": {},
   "source": [
    "That is a strangely bi- or multimodal distribution.  I see sharp drops before 100, 150, 200 and 250 words.  \n",
    "That has probably to do with the specific requirements posed by the individual journals to which they were submitted.  \n",
    "However, this is going to be a problem when using the longer abstracts in the context of transformers: they have \n",
    "an upper length limit of 512 **after their own tokenization** which, so it seems, can get very high (see notebook `transformers_feature_extraction.ipynb`)"
   ]
  },
  {
   "cell_type": "markdown",
   "id": "a07d6285",
   "metadata": {},
   "source": [
    "## Train / test data"
   ]
  },
  {
   "cell_type": "markdown",
   "id": "29998d8d",
   "metadata": {},
   "source": [
    "For model development, I will start with the first collection, load it as always and remove any papers of the curated set from this one, to really have unseen data in the validation dataset."
   ]
  },
  {
   "cell_type": "code",
   "execution_count": null,
   "id": "b620f4a9",
   "metadata": {},
   "outputs": [],
   "source": [
    "file1 = './data/abstract_set1.txt'\n",
    "file2 = './data/abstract_set2.txt'\n",
    "data_selection = 'abstract'\n",
    "label_selection = 'label' # can be 'label' or 'text_label'\n",
    "train_test = utils.read_abstract_data(negatives_path=file2, positives_path=file1)\n",
    "train_test.head()"
   ]
  },
  {
   "cell_type": "code",
   "execution_count": null,
   "id": "d7f16550",
   "metadata": {},
   "outputs": [],
   "source": [
    "# create abstract and title columns lowercase and without punctuation\n",
    "utils.preprocess_text(train_test)\n",
    "train_test.head(3)"
   ]
  },
  {
   "cell_type": "code",
   "execution_count": null,
   "id": "88b0b825",
   "metadata": {},
   "outputs": [],
   "source": [
    "#shuffle to prevent batch effects\n",
    "train_test = train_test.sample(frac=1, random_state=42).reset_index(drop=True)\n",
    "# reset the index\n",
    "train_test = train_test.reset_index(drop=True)\n",
    "\n",
    "train_test['text_label'][:20]"
   ]
  },
  {
   "cell_type": "markdown",
   "id": "3187c237",
   "metadata": {},
   "source": [
    "## Split train/test\n",
    "For now, I will work wth the original, non preprocessed abstracts because they are more suitable for CNNs, the "
   ]
  },
  {
   "cell_type": "code",
   "execution_count": null,
   "id": "ae448ccf",
   "metadata": {},
   "outputs": [],
   "source": [
    "x_train, x_test, y_train, y_test = train_test_split(train_test[data_selection], train_test[label_selection], random_state=123)\n",
    "x_train.head()"
   ]
  },
  {
   "cell_type": "markdown",
   "id": "0cfd539c",
   "metadata": {},
   "source": [
    "## Optimize CNN classifier"
   ]
  },
  {
   "cell_type": "code",
   "execution_count": null,
   "id": "b9ecf097",
   "metadata": {},
   "outputs": [],
   "source": [
    "# number of classes\n",
    "K = train_test[label_selection].max() + 1\n",
    "K"
   ]
  },
  {
   "cell_type": "code",
   "execution_count": null,
   "id": "7d09cbef",
   "metadata": {},
   "outputs": [],
   "source": [
    "# Convert sentences to sequences\n",
    "MAX_VOCAB_SIZE = 3000\n",
    "tokenizer = Tokenizer(num_words=MAX_VOCAB_SIZE) # tokenizer from tensorflow.keras.preprocessing.text\n",
    "tokenizer.fit_on_texts(x_train)\n",
    "sequences_train = tokenizer.texts_to_sequences(x_train) # returns a simple python list of lists (of numbers)\n",
    "sequences_test = tokenizer.texts_to_sequences(x_test)\n",
    "print(f'train sequences: {len(sequences_train)}; test sequences: {len(sequences_test)}')\n",
    "\n"
   ]
  },
  {
   "cell_type": "markdown",
   "id": "7785daf6",
   "metadata": {},
   "source": [
    "## Explore Vector \"landscape\""
   ]
  },
  {
   "cell_type": "code",
   "execution_count": null,
   "id": "46d141fd",
   "metadata": {},
   "outputs": [],
   "source": [
    "#stopwords = utils.get_stopwords(custom = {'wa', 'use', 'using', 'one', 'two', 'three', 'study'}) \n",
    "#tokenizer = utils.Tokenizer(stop_words=stopwords, min_length=3)\n",
    "\n",
    "# Here, I will use TF-IDF out of the box\n",
    "#vectorizer = TfidfVectorizer(max_features=MAX_VOCAB_SIZE)"
   ]
  }
 ],
 "metadata": {
  "kernelspec": {
   "display_name": "nlp",
   "language": "python",
   "name": "nlp"
  },
  "language_info": {
   "codemirror_mode": {
    "name": "ipython",
    "version": 3
   },
   "file_extension": ".py",
   "mimetype": "text/x-python",
   "name": "python",
   "nbconvert_exporter": "python",
   "pygments_lexer": "ipython3",
   "version": "3.12.2"
  }
 },
 "nbformat": 4,
 "nbformat_minor": 5
}
