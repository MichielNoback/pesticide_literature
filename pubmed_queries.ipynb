{
 "cells": [
  {
   "cell_type": "markdown",
   "id": "b1fa4c71-8590-496e-ad79-ab7f68086e2a",
   "metadata": {},
   "source": [
    "# Biopython PubMed queries"
   ]
  },
  {
   "cell_type": "code",
   "execution_count": 1,
   "id": "b6012541-1f5c-4430-af0f-5e7705cdca96",
   "metadata": {},
   "outputs": [],
   "source": [
    "from Bio import Entrez\n",
    "import entrez_utils\n",
    "import utils\n",
    "import pandas as pd"
   ]
  },
  {
   "cell_type": "markdown",
   "id": "bba5497a-6158-4634-bbf8-26516cf4f73d",
   "metadata": {},
   "source": [
    "**These two are required to be set**  \n",
    "Requested at the NCBI profile page (registration required)"
   ]
  },
  {
   "cell_type": "code",
   "execution_count": 4,
   "id": "3edc65b4-9fc8-49a4-8c2d-e1ab3b84a8fa",
   "metadata": {},
   "outputs": [],
   "source": [
    "# Entrez.api_key = '20af26e91ae36b8ec830da38ca84b872a209'\n",
    "# Entrez.email = 'michiel.noback@gmail.com'\n",
    "\n",
    "entrez_utils.init('20af26e91ae36b8ec830da38ca84b872a209', 'michiel.noback@gmail.com')"
   ]
  },
  {
   "cell_type": "code",
   "execution_count": 3,
   "id": "5d6fb1bd-c741-4818-b09e-81fff3c4afa8",
   "metadata": {},
   "outputs": [],
   "source": [
    "#run this to reload the entrez_utils module after changes during session\n",
    "#from importlib import reload \n",
    "#reload(entrez_utils);"
   ]
  },
  {
   "cell_type": "code",
   "execution_count": 5,
   "id": "26606be2-ecd0-4999-8986-df888b3564e7",
   "metadata": {},
   "outputs": [
    {
     "name": "stdout",
     "output_type": "stream",
     "text": [
      "Querying Pubmed with: (pesticide OR fungicide OR insecticide OR herbicide) AND (2020/01/01:2022/03/10[dp])\n"
     ]
    }
   ],
   "source": [
    "# STEP 1: fetch ids for query terms\n",
    "# see https://www.epa.gov/ingredients-used-pesticide-products/types-pesticide-ingredients\n",
    "pesticide_terms_small = [\"pesticide\", \"fungicide\", \"insecticide\", \"herbicide\"]\n",
    "pesticide_terms_extended = [\"pesticide\", \"fungicide\", \"insecticide\", \"herbicide\", \"rodenticides\", \"algicides\",\n",
    "                           \"antifoulant\", \"biocide\", \"defoliant\", \"miticide\", \"molluscicide\", \"ovicide\", \"nematicide\"]\n",
    "\n",
    "pm_ids = entrez_utils.query_pubmed(pesticide_terms_small,\n",
    "                                    start_date=\"2020/01/01\", end_date=\"2022/03/10\", # end_date defaults to today\n",
    "                                    retmax=10)"
   ]
  },
  {
   "cell_type": "code",
   "execution_count": 6,
   "id": "cfa9e275-970b-4c7d-810a-0ef5b5a19982",
   "metadata": {},
   "outputs": [
    {
     "name": "stdout",
     "output_type": "stream",
     "text": [
      "Fetching abstracts from 0 to 10.\n"
     ]
    }
   ],
   "source": [
    "# STEP 2: fetch title and abstract for each pubmed ID\n",
    "\n",
    "#pm_ids = ['40059550', '40054240', '40054238', '40051450', '40049114']\n",
    "entrez_utils.fetch_abstracts(pm_ids, output_file='new_abstracts.csv')"
   ]
  },
  {
   "cell_type": "markdown",
   "id": "de48bd70-2941-40e9-8e1b-0c1d2e831531",
   "metadata": {},
   "source": [
    "## New Validation datasets generated\n",
    "\n",
    "In order to validate the ML algorithms validation sets were constructed. To this end, five queries were carried out:\n",
    "\n",
    "```python\n",
    "# positives\n",
    "ids = entrez_utils.query_pubmed(pesticide_terms_small, retmax=1000)\n",
    "\n",
    "# negatives\n",
    "ids = entrez_utils.query_pubmed([\"soil\"], retmax=200)\n",
    "# and so forth with\n",
    "[[\"soil\"], [\"gene\"], [\"cell\"], [\"disease\"], [\"crop\"], [\"health\"], [\"mouse\"], [\"bacteria\"], [\"protein\"], [\"cancer\"]]\n",
    "\n",
    "```\n",
    "\n",
    "The resulting files are concatenated into a single file (except for the pesticide file):\n",
    "\n",
    "```bash\n",
    "#concat without headers\n",
    "awk FNR!=1 *.csv > tmp.csv\n",
    "wc -l tmp.csv # 1200\n",
    "sort -u tmp.csv > tmp2.csv\n",
    "cat header.csv tmp2.csv > validation_set_master.csv\n",
    "wc -l validation_set_master.csv # 879\n",
    "```\n",
    "\n",
    "A function was written to generate a random validation set of differing composition. See below."
   ]
  },
  {
   "cell_type": "code",
   "execution_count": 13,
   "id": "8b169178-991c-48a9-809b-c0f5cd3b482c",
   "metadata": {},
   "outputs": [
    {
     "name": "stdout",
     "output_type": "stream",
     "text": [
      "writing abstracts_soil_500.csv\n",
      "writing abstracts_gene_500.csv\n"
     ]
    }
   ],
   "source": [
    "#run this to reload the entrez_utils module after changes during session\n",
    "#terms = [[\"soil\"], [\"gene\"], [\"cell\"], [\"disease\"], [\"crop\"], [\"health\"], [\"mouse\"], [\"bacteria\"], [\"protein\"], [\"cancer\"]]\n",
    "terms = [[\"soil\"], [\"gene\"]]\n",
    "\n",
    "import time\n",
    "retmax=500\n",
    "for term in terms:\n",
    "    #ids = entrez_utils.query_pubmed(term, retmax=retmax)\n",
    "    out_file = 'abstracts_' + \"_\".join(term) + '_' + str(retmax) + '.csv'\n",
    "    print(f'writing {out_file}')\n",
    "    # entrez_utils.fetch_abstracts(ids, output_file='abstracts_soil.csv')\n",
    "    # # sleep so not to get blacklisted\n",
    "    time.sleep(5)"
   ]
  },
  {
   "cell_type": "markdown",
   "id": "063abdf0-4a1a-4619-8100-483c81f98afa",
   "metadata": {},
   "source": [
    "### Sampling validation data\n",
    "\n",
    "The following function was written in `utils.py`:\n",
    "\n",
    "```python\n",
    "def sample_validation_set(positives_file, negatives_file, \n",
    "                          n_positive=30, n_negative=470,\n",
    "                          out_file='validation_set.csv',\n",
    "                          abstract_required=True):\n",
    "    #code omitted\n",
    "```"
   ]
  },
  {
   "cell_type": "code",
   "execution_count": 8,
   "id": "f59f2c60-f260-470a-94e9-c8d4bc783664",
   "metadata": {},
   "outputs": [],
   "source": [
    "from importlib import reload \n",
    "reload(utils);\n",
    "\n",
    "positives_file = './data/pesticide_abstracts_narrow.csv' # has 250\n",
    "negatives_file = './data/validation_set_master.csv' # has 1000\n",
    "out_file = './data/validation_set_500.csv'\n",
    "utils.sample_validation_set(positives_file, negatives_file, out_file = out_file)"
   ]
  },
  {
   "cell_type": "code",
   "execution_count": 9,
   "id": "b743007f-80b9-4877-a263-b19cc6063871",
   "metadata": {},
   "outputs": [
    {
     "data": {
      "text/html": [
       "<div>\n",
       "<style scoped>\n",
       "    .dataframe tbody tr th:only-of-type {\n",
       "        vertical-align: middle;\n",
       "    }\n",
       "\n",
       "    .dataframe tbody tr th {\n",
       "        vertical-align: top;\n",
       "    }\n",
       "\n",
       "    .dataframe thead th {\n",
       "        text-align: right;\n",
       "    }\n",
       "</style>\n",
       "<table border=\"1\" class=\"dataframe\">\n",
       "  <thead>\n",
       "    <tr style=\"text-align: right;\">\n",
       "      <th></th>\n",
       "      <th>mid</th>\n",
       "      <th>title</th>\n",
       "      <th>abstract</th>\n",
       "      <th>label</th>\n",
       "      <th>text_label</th>\n",
       "    </tr>\n",
       "  </thead>\n",
       "  <tbody>\n",
       "    <tr>\n",
       "      <th>0</th>\n",
       "      <td>40058542</td>\n",
       "      <td>Iron at the helm: steering arsenic speciation ...</td>\n",
       "      <td>The toxicity and bioavailability of arsenic (A...</td>\n",
       "      <td>0</td>\n",
       "      <td>contr</td>\n",
       "    </tr>\n",
       "    <tr>\n",
       "      <th>1</th>\n",
       "      <td>40065997</td>\n",
       "      <td>The assembly and annotation of two teinturier ...</td>\n",
       "      <td>Teinturier grapevines, known for their pigment...</td>\n",
       "      <td>0</td>\n",
       "      <td>contr</td>\n",
       "    </tr>\n",
       "    <tr>\n",
       "      <th>2</th>\n",
       "      <td>40066500</td>\n",
       "      <td>Who cares about the dying? - Unpacking integra...</td>\n",
       "      <td>Integrating palliative care into the trajector...</td>\n",
       "      <td>0</td>\n",
       "      <td>contr</td>\n",
       "    </tr>\n",
       "    <tr>\n",
       "      <th>3</th>\n",
       "      <td>40064377</td>\n",
       "      <td>The stability and elimination of mammalian env...</td>\n",
       "      <td>We assessed the viability of aerosolized human...</td>\n",
       "      <td>0</td>\n",
       "      <td>contr</td>\n",
       "    </tr>\n",
       "    <tr>\n",
       "      <th>4</th>\n",
       "      <td>40064517</td>\n",
       "      <td>Microdroplet-Mediated Enzyme Activity Enhancem...</td>\n",
       "      <td>On-site measurements of enzyme activity in com...</td>\n",
       "      <td>0</td>\n",
       "      <td>contr</td>\n",
       "    </tr>\n",
       "  </tbody>\n",
       "</table>\n",
       "</div>"
      ],
      "text/plain": [
       "        mid                                              title  \\\n",
       "0  40058542  Iron at the helm: steering arsenic speciation ...   \n",
       "1  40065997  The assembly and annotation of two teinturier ...   \n",
       "2  40066500  Who cares about the dying? - Unpacking integra...   \n",
       "3  40064377  The stability and elimination of mammalian env...   \n",
       "4  40064517  Microdroplet-Mediated Enzyme Activity Enhancem...   \n",
       "\n",
       "                                            abstract  label text_label  \n",
       "0  The toxicity and bioavailability of arsenic (A...      0      contr  \n",
       "1  Teinturier grapevines, known for their pigment...      0      contr  \n",
       "2  Integrating palliative care into the trajector...      0      contr  \n",
       "3  We assessed the viability of aerosolized human...      0      contr  \n",
       "4  On-site measurements of enzyme activity in com...      0      contr  "
      ]
     },
     "execution_count": 9,
     "metadata": {},
     "output_type": "execute_result"
    }
   ],
   "source": [
    "# check the generated file\n",
    "val_data = pd.read_csv(out_file, sep='\\t')\n",
    "val_data.head()"
   ]
  },
  {
   "cell_type": "code",
   "execution_count": 10,
   "id": "4c29942e-e407-46d8-88bf-884828ea1f09",
   "metadata": {},
   "outputs": [
    {
     "data": {
      "text/plain": [
       "text_label\n",
       "contr    470\n",
       "pest      30\n",
       "Name: count, dtype: int64"
      ]
     },
     "execution_count": 10,
     "metadata": {},
     "output_type": "execute_result"
    }
   ],
   "source": [
    "# check proportions of pos/neg\n",
    "# could be less when there is overlap in the two datasets\n",
    "# if this is the case, duplicates will be removed\n",
    "val_data['text_label'].value_counts()"
   ]
  },
  {
   "cell_type": "markdown",
   "id": "11f48b84-a04f-4b3a-8c5c-31d2a634f622",
   "metadata": {},
   "source": [
    "### Some general-purpose example code"
   ]
  },
  {
   "cell_type": "code",
   "execution_count": 3,
   "id": "29b59efd-f022-4b10-befd-142de168988b",
   "metadata": {},
   "outputs": [
    {
     "data": {
      "text/plain": [
       "'PubMed bibliographic record'"
      ]
     },
     "execution_count": 3,
     "metadata": {},
     "output_type": "execute_result"
    }
   ],
   "source": [
    "stream = Entrez.einfo(db=\"pubmed\")\n",
    "record = Entrez.read(stream)\n",
    "record[\"DbInfo\"][\"Description\"]"
   ]
  },
  {
   "cell_type": "code",
   "execution_count": 8,
   "id": "c7cc8091-4286-4562-8d8a-5c0af4def05c",
   "metadata": {},
   "outputs": [
    {
     "data": {
      "text/plain": [
       "'2025/03/10 18:38'"
      ]
     },
     "execution_count": 8,
     "metadata": {},
     "output_type": "execute_result"
    }
   ],
   "source": [
    "record[\"DbInfo\"][\"LastUpdate\"]"
   ]
  },
  {
   "cell_type": "code",
   "execution_count": 9,
   "id": "f5acadd5-0a0a-4257-a923-771cdd206be3",
   "metadata": {},
   "outputs": [
    {
     "data": {
      "text/plain": [
       "'38514474'"
      ]
     },
     "execution_count": 9,
     "metadata": {},
     "output_type": "execute_result"
    }
   ],
   "source": [
    "record[\"DbInfo\"][\"Count\"]"
   ]
  },
  {
   "cell_type": "code",
   "execution_count": 62,
   "id": "e2934aba-5b3e-42ca-83eb-d025ea05c07e",
   "metadata": {},
   "outputs": [
    {
     "name": "stdout",
     "output_type": "stream",
     "text": [
      "dict_keys(['Count', 'RetMax', 'RetStart', 'IdList', 'TranslationSet', 'QueryTranslation'])\n"
     ]
    }
   ],
   "source": [
    "print(record.keys())"
   ]
  },
  {
   "cell_type": "code",
   "execution_count": 4,
   "id": "c05c5a64-3c93-440f-a016-29b001796184",
   "metadata": {},
   "outputs": [
    {
     "name": "stdout",
     "output_type": "stream",
     "text": [
      "ALL, All Fields, All terms from all searchable fields\n",
      "UID, UID, Unique number assigned to publication\n",
      "FILT, Filter, Limits the records\n",
      "TITL, Title, Words in title of publication\n",
      "MESH, MeSH Terms, Medical Subject Headings assigned to publication\n",
      "MAJR, MeSH Major Topic, MeSH terms of major importance to publication\n",
      "JOUR, Journal, Journal abbreviation of publication\n",
      "AFFL, Affiliation, Author's institutional affiliation and address\n",
      "ECNO, EC/RN Number, EC number for enzyme or CAS registry number\n",
      "SUBS, Supplementary Concept, CAS chemical name or MEDLINE Substance Name\n",
      "PDAT, Date - Publication, Date of publication\n",
      "EDAT, Date - Entry, Date publication first accessible through Entrez\n",
      "VOL, Volume, Volume number of publication\n",
      "PAGE, Pagination, Page number(s) of publication\n",
      "PTYP, Publication Type, Type of publication (e.g., review)\n",
      "LANG, Language, Language of publication\n",
      "ISS, Issue, Issue number of publication\n",
      "SUBH, MeSH Subheading, Additional specificity for MeSH term\n",
      "SI, Secondary Source ID, Cross-reference from publication to other databases\n",
      "MHDA, Date - MeSH, Date publication was indexed with MeSH terms\n",
      "TIAB, Title/Abstract, Free text associated with Abstract/Title\n",
      "OTRM, Other Term, Other terms associated with publication\n",
      "COLN, Author - Corporate, Corporate Author of publication\n",
      "CNTY, Place of Publication, Country of publication\n",
      "PAPX, Pharmacological Action, MeSH pharmacological action pre-explosions\n",
      "GRNT, Grants and Funding, NIH Grant Numbers\n",
      "MDAT, Date - Modification, Date of last modification\n",
      "CDAT, Date - Completion, Date of completion\n",
      "PID, Publisher ID, Publisher ID\n",
      "FAUT, Author - First, First Author of publication\n",
      "FULL, Author, Full Author Name(s) of publication\n",
      "FINV, Investigator, Full name of investigator\n",
      "TT, Transliterated Title, Words in transliterated title of publication\n",
      "LAUT, Author - Last, Last Author of publication\n",
      "PPDT, Print Publication Date, Date of print publication\n",
      "EPDT, Electronic Publication Date, Date of Electronic publication\n",
      "LID, Location ID, ELocation ID\n",
      "CRDT, Date - Create, Date publication first accessible through Entrez\n",
      "BOOK, Book, ID of the book that contains the document\n",
      "ED, Editor, Section's Editor\n",
      "ISBN, ISBN, ISBN\n",
      "PUBN, Publisher, Publisher's name\n",
      "AUCL, Author Cluster ID, Author Cluster ID\n",
      "EID, Extended PMID, Extended PMID\n",
      "DSO, DSO, Additional text from the summary\n",
      "AUID, Author - Identifier, Author Identifier\n",
      "PS, Subject - Personal Name, Personal Name as Subject\n",
      "COIS, Conflict of Interest Statements, Conflict of Interest Statements\n",
      "WORD, Text Word, Free text associated with publication\n",
      "P1DAT, P1DAT, Date publication first accessible through Solr\n"
     ]
    }
   ],
   "source": [
    "for field in record[\"DbInfo\"][\"FieldList\"]:\n",
    "    print(\"%(Name)s, %(FullName)s, %(Description)s\" % field)"
   ]
  },
  {
   "cell_type": "code",
   "execution_count": null,
   "id": "04c7bfbb-7d78-46b8-8bba-dab698274dd2",
   "metadata": {},
   "outputs": [],
   "source": []
  }
 ],
 "metadata": {
  "kernelspec": {
   "display_name": "nlp",
   "language": "python",
   "name": "nlp"
  },
  "language_info": {
   "codemirror_mode": {
    "name": "ipython",
    "version": 3
   },
   "file_extension": ".py",
   "mimetype": "text/x-python",
   "name": "python",
   "nbconvert_exporter": "python",
   "pygments_lexer": "ipython3",
   "version": "3.12.8"
  }
 },
 "nbformat": 4,
 "nbformat_minor": 5
}
