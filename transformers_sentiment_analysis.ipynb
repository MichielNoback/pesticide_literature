{
 "cells": [
  {
   "cell_type": "code",
   "execution_count": 1,
   "id": "01a311c6",
   "metadata": {},
   "outputs": [],
   "source": [
    "# !pip install transformers"
   ]
  },
  {
   "cell_type": "code",
   "execution_count": 2,
   "id": "7be27355",
   "metadata": {},
   "outputs": [],
   "source": [
    "from transformers import pipeline\n",
    "\n",
    "import numpy as np\n",
    "import pandas as pd\n",
    "import seaborn as sn\n",
    "\n",
    "import utils # all data reading and preprocessing functionality"
   ]
  },
  {
   "cell_type": "markdown",
   "id": "e9c05748",
   "metadata": {},
   "source": [
    "Using the druglib dataset to test on."
   ]
  },
  {
   "cell_type": "code",
   "execution_count": 3,
   "id": "d6b271ee",
   "metadata": {},
   "outputs": [],
   "source": [
    "druglib = pd.read_csv(\"./data/drugLib_raw.tsv\", sep=\"\\t\")"
   ]
  },
  {
   "cell_type": "code",
   "execution_count": 4,
   "id": "76b6db72",
   "metadata": {},
   "outputs": [
    {
     "data": {
      "text/html": [
       "<div>\n",
       "<style scoped>\n",
       "    .dataframe tbody tr th:only-of-type {\n",
       "        vertical-align: middle;\n",
       "    }\n",
       "\n",
       "    .dataframe tbody tr th {\n",
       "        vertical-align: top;\n",
       "    }\n",
       "\n",
       "    .dataframe thead th {\n",
       "        text-align: right;\n",
       "    }\n",
       "</style>\n",
       "<table border=\"1\" class=\"dataframe\">\n",
       "  <thead>\n",
       "    <tr style=\"text-align: right;\">\n",
       "      <th></th>\n",
       "      <th>ID</th>\n",
       "      <th>urlDrugName</th>\n",
       "      <th>rating</th>\n",
       "      <th>effectiveness</th>\n",
       "      <th>sideEffects</th>\n",
       "      <th>condition</th>\n",
       "      <th>benefitsReview</th>\n",
       "      <th>sideEffectsReview</th>\n",
       "      <th>commentsReview</th>\n",
       "    </tr>\n",
       "  </thead>\n",
       "  <tbody>\n",
       "    <tr>\n",
       "      <th>0</th>\n",
       "      <td>1366</td>\n",
       "      <td>biaxin</td>\n",
       "      <td>9</td>\n",
       "      <td>Considerably Effective</td>\n",
       "      <td>Mild Side Effects</td>\n",
       "      <td>sinus infection</td>\n",
       "      <td>The antibiotic may have destroyed bacteria cau...</td>\n",
       "      <td>Some back pain, some nauseau.</td>\n",
       "      <td>Took the antibiotics for 14 days. Sinus infect...</td>\n",
       "    </tr>\n",
       "    <tr>\n",
       "      <th>1</th>\n",
       "      <td>3724</td>\n",
       "      <td>lamictal</td>\n",
       "      <td>9</td>\n",
       "      <td>Highly Effective</td>\n",
       "      <td>Mild Side Effects</td>\n",
       "      <td>bipolar disorder</td>\n",
       "      <td>Lamictal stabilized my serious mood swings. On...</td>\n",
       "      <td>Drowsiness, a bit of mental numbness. If you t...</td>\n",
       "      <td>Severe mood swings between hypomania and depre...</td>\n",
       "    </tr>\n",
       "    <tr>\n",
       "      <th>2</th>\n",
       "      <td>3824</td>\n",
       "      <td>depakene</td>\n",
       "      <td>4</td>\n",
       "      <td>Moderately Effective</td>\n",
       "      <td>Severe Side Effects</td>\n",
       "      <td>bipolar disorder</td>\n",
       "      <td>Initial benefits were comparable to the brand ...</td>\n",
       "      <td>Depakene has a very thin coating, which caused...</td>\n",
       "      <td>Depakote was prescribed to me by a Kaiser psyc...</td>\n",
       "    </tr>\n",
       "    <tr>\n",
       "      <th>3</th>\n",
       "      <td>969</td>\n",
       "      <td>sarafem</td>\n",
       "      <td>10</td>\n",
       "      <td>Highly Effective</td>\n",
       "      <td>No Side Effects</td>\n",
       "      <td>bi-polar / anxiety</td>\n",
       "      <td>It controlls my mood swings. It helps me think...</td>\n",
       "      <td>I didnt really notice any side effects.</td>\n",
       "      <td>This drug may not be for everyone but its wond...</td>\n",
       "    </tr>\n",
       "    <tr>\n",
       "      <th>4</th>\n",
       "      <td>696</td>\n",
       "      <td>accutane</td>\n",
       "      <td>10</td>\n",
       "      <td>Highly Effective</td>\n",
       "      <td>Mild Side Effects</td>\n",
       "      <td>nodular acne</td>\n",
       "      <td>Within one week of treatment superficial acne ...</td>\n",
       "      <td>Side effects included moderate to severe dry s...</td>\n",
       "      <td>Drug was taken in gelatin tablet at 0.5 mg per...</td>\n",
       "    </tr>\n",
       "  </tbody>\n",
       "</table>\n",
       "</div>"
      ],
      "text/plain": [
       "     ID urlDrugName  rating           effectiveness          sideEffects  \\\n",
       "0  1366      biaxin       9  Considerably Effective    Mild Side Effects   \n",
       "1  3724    lamictal       9        Highly Effective    Mild Side Effects   \n",
       "2  3824    depakene       4    Moderately Effective  Severe Side Effects   \n",
       "3   969     sarafem      10        Highly Effective      No Side Effects   \n",
       "4   696    accutane      10        Highly Effective    Mild Side Effects   \n",
       "\n",
       "            condition                                     benefitsReview  \\\n",
       "0     sinus infection  The antibiotic may have destroyed bacteria cau...   \n",
       "1    bipolar disorder  Lamictal stabilized my serious mood swings. On...   \n",
       "2    bipolar disorder  Initial benefits were comparable to the brand ...   \n",
       "3  bi-polar / anxiety  It controlls my mood swings. It helps me think...   \n",
       "4        nodular acne  Within one week of treatment superficial acne ...   \n",
       "\n",
       "                                   sideEffectsReview  \\\n",
       "0                      Some back pain, some nauseau.   \n",
       "1  Drowsiness, a bit of mental numbness. If you t...   \n",
       "2  Depakene has a very thin coating, which caused...   \n",
       "3            I didnt really notice any side effects.   \n",
       "4  Side effects included moderate to severe dry s...   \n",
       "\n",
       "                                      commentsReview  \n",
       "0  Took the antibiotics for 14 days. Sinus infect...  \n",
       "1  Severe mood swings between hypomania and depre...  \n",
       "2  Depakote was prescribed to me by a Kaiser psyc...  \n",
       "3  This drug may not be for everyone but its wond...  \n",
       "4  Drug was taken in gelatin tablet at 0.5 mg per...  "
      ]
     },
     "execution_count": 4,
     "metadata": {},
     "output_type": "execute_result"
    }
   ],
   "source": [
    "druglib = druglib.rename(columns = {'Unnamed: 0': 'ID'})\n",
    "druglib.sideEffects = pd.Categorical(druglib.sideEffects,\n",
    "                                     ordered=True,\n",
    "                                     categories=['No Side Effects', 'Mild Side Effects', 'Moderate Side Effects', 'Severe Side Effects', 'Extremely Severe Side Effects'])\n",
    "druglib.effectiveness = pd.Categorical(druglib.effectiveness,\n",
    "                                       ordered=True,\n",
    "                                       categories=['Ineffective', 'Marginally Effective', 'Moderately Effective', 'Considerably Effective', 'Highly Effective'])\n",
    "druglib.head()"
   ]
  },
  {
   "cell_type": "code",
   "execution_count": 5,
   "id": "1369f470",
   "metadata": {},
   "outputs": [
    {
     "name": "stderr",
     "output_type": "stream",
     "text": [
      "No model was supplied, defaulted to distilbert-base-uncased-finetuned-sst-2-english (https://huggingface.co/distilbert-base-uncased-finetuned-sst-2-english)\n",
      "Special tokens have been added in the vocabulary, make sure the associated word embeddings are fine-tuned or trained.\n"
     ]
    }
   ],
   "source": [
    "# Basic usage\n",
    "classifier = pipeline(\"sentiment-analysis\")"
   ]
  },
  {
   "cell_type": "code",
   "execution_count": 6,
   "id": "4293ea70",
   "metadata": {},
   "outputs": [
    {
     "data": {
      "text/plain": [
       "transformers.pipelines.text_classification.TextClassificationPipeline"
      ]
     },
     "execution_count": 6,
     "metadata": {},
     "output_type": "execute_result"
    }
   ],
   "source": [
    "type(classifier)"
   ]
  },
  {
   "cell_type": "code",
   "execution_count": 8,
   "id": "d1bafae1",
   "metadata": {},
   "outputs": [
    {
     "data": {
      "text/plain": [
       "DistilBertConfig {\n",
       "  \"_name_or_path\": \"distilbert-base-uncased-finetuned-sst-2-english\",\n",
       "  \"activation\": \"gelu\",\n",
       "  \"architectures\": [\n",
       "    \"DistilBertForSequenceClassification\"\n",
       "  ],\n",
       "  \"attention_dropout\": 0.1,\n",
       "  \"dim\": 768,\n",
       "  \"dropout\": 0.1,\n",
       "  \"finetuning_task\": \"sst-2\",\n",
       "  \"hidden_dim\": 3072,\n",
       "  \"id2label\": {\n",
       "    \"0\": \"NEGATIVE\",\n",
       "    \"1\": \"POSITIVE\"\n",
       "  },\n",
       "  \"initializer_range\": 0.02,\n",
       "  \"label2id\": {\n",
       "    \"NEGATIVE\": 0,\n",
       "    \"POSITIVE\": 1\n",
       "  },\n",
       "  \"max_position_embeddings\": 512,\n",
       "  \"model_type\": \"distilbert\",\n",
       "  \"n_heads\": 12,\n",
       "  \"n_layers\": 6,\n",
       "  \"output_past\": true,\n",
       "  \"pad_token_id\": 0,\n",
       "  \"qa_dropout\": 0.1,\n",
       "  \"seq_classif_dropout\": 0.2,\n",
       "  \"sinusoidal_pos_embds\": false,\n",
       "  \"tie_weights_\": true,\n",
       "  \"transformers_version\": \"4.17.0\",\n",
       "  \"vocab_size\": 30522\n",
       "}"
      ]
     },
     "execution_count": 8,
     "metadata": {},
     "output_type": "execute_result"
    }
   ],
   "source": [
    "# where is the model stored locally?\n",
    "#~/.cache/huggingface\n",
    "\n",
    "# the model properties\n",
    "classifier.model.config\n"
   ]
  },
  {
   "cell_type": "code",
   "execution_count": 9,
   "id": "c629c3e5",
   "metadata": {},
   "outputs": [
    {
     "data": {
      "text/plain": [
       "[{'label': 'POSITIVE', 'score': 0.9998759031295776}]"
      ]
     },
     "execution_count": 9,
     "metadata": {},
     "output_type": "execute_result"
    }
   ],
   "source": [
    "# Output is a dictionary\n",
    "classifier(\"This is such a great movie!\")"
   ]
  },
  {
   "cell_type": "code",
   "execution_count": 10,
   "id": "8ec387c6",
   "metadata": {},
   "outputs": [
    {
     "data": {
      "text/plain": [
       "[{'label': 'POSITIVE', 'score': 0.9961125254631042}]"
      ]
     },
     "execution_count": 10,
     "metadata": {},
     "output_type": "execute_result"
    }
   ],
   "source": [
    "# try a more tricky example\n",
    "classifier(\"I am not sure what to think of the book but I couldn't stop reading.\")"
   ]
  },
  {
   "cell_type": "code",
   "execution_count": 11,
   "id": "ab507117",
   "metadata": {},
   "outputs": [
    {
     "data": {
      "text/plain": [
       "[{'label': 'NEGATIVE', 'score': 0.9968511462211609}]"
      ]
     },
     "execution_count": 11,
     "metadata": {},
     "output_type": "execute_result"
    }
   ],
   "source": [
    "# try a more tricky example\n",
    "classifier(\"The book hit me in the guts until I could breathe no more.\")"
   ]
  },
  {
   "cell_type": "code",
   "execution_count": 28,
   "id": "ee975d4c",
   "metadata": {},
   "outputs": [
    {
     "data": {
      "text/plain": [
       "['Took the antibiotics for 14 days. Sinus infection was gone after the 6th day.',\n",
       " 'Severe mood swings between hypomania and depression with suicide ideation before Lamictal. Began with 10mg and tritrated up to 400mg over a few months. Played around with the dosage to finally arrive at 400mg. Experimented with taking it at different times in the evening. Found that most comfortable time is before sleep.',\n",
       " 'Depakote was prescribed to me by a Kaiser psychiatrist in Pleasant Hill, CA in 2006.  The medication was given to help treat the diagnosis of Bipolar Disorder, Type II.  My disease was misdiagnosed for several years as depression, since I was never seen by a professional during hypomanic episodes, and when I did see a professional, I did not think that my manic symptoms were signs of a serious psychiatric problem.  Anti-depressant drugs were prescribed: Prozac in 2001, which had minimal effect and I stopped taking them a few months later. Wellbutrin was prescribed again for \"chronic depression\" in the spring of 2006, but this medication slowly spun me into an intense manic period.  After the manic episode, I fell very hard into a severe, suicidal depressive state.  I was voluntarily admitted to a psychiatric ward in June 2006 to keep me safe and to properly diagnose my condition.  The symptoms I was experiencing before being prescribed the Depakote/Depakene: rapidly cycling mood swings between intense activation and irritablity/excitement and crashing lows and depression, suicidal thoughts, poor logic and decision making, racing thoughts, anxiety, poor concentration, and poor sleep.',\n",
       " 'This drug may not be for everyone but its wonderful for me! It makes me a totally different person, a better person.',\n",
       " 'Drug was taken in gelatin tablet at 0.5 mg per day.  Drug treatment was carried out with bi-monthly visits to physician.  After 25 weeks ended treatment successfully finished treatment.  No recurrence of acne.',\n",
       " 'Basically the treatment did not seem to work.  My presumption is that symptoms should have completely cleared up by the end of the 10-day treatment, but they were still significantly present.',\n",
       " 'took it for seizure took pills drank with water drank water and took pills took pills drank water drank water took pills took pills drank water drank water took pills toook pills drank water drank water toook pills took pills drank water drank water took pills.',\n",
       " 'Treating for neck, shoulder, arms, lower back, hip, thigh and knee pain.',\n",
       " 'I started both klonopin and prozac together.  At first, I took klonopin 4 times a day.  Then gradually I was able to cut back to twice a day, first thing in the morning and again at dinnertime.  I did this very gradually, cutting out first the noontime dosage, and then the bedtime one.  I have never had talk-therapy at all.  I continue to take klonopin, or the generic clonazapam to this day with no adverse reactions at all.',\n",
       " 'family doctor initially prescribed wellbutin but a psychologist at the hospital suggested effexor. the dose would be increased as i would adjust and experience setbacks. the gabapentin was added when i had sleep troubles and to augment. many things were also added and subtracted to no avail. a psychiatrist felt the dose could be increased to 375 mg. so it was but i was not under any supervised care other than my family physician. all the above side effects caused me to be sent from specialist to specialist who all had tentative diagnoses ranging from borderline personality, narcolepsy (the modifinil), sleep apnea and restless leg, and finally bi polar. finally a different psychiatrist said it was the drugs!']"
      ]
     },
     "execution_count": 28,
     "metadata": {},
     "output_type": "execute_result"
    }
   ],
   "source": [
    "druglib_comments = druglib['commentsReview'][:10].to_list()\n",
    "druglib_comments"
   ]
  },
  {
   "cell_type": "code",
   "execution_count": 29,
   "id": "131609f7",
   "metadata": {},
   "outputs": [
    {
     "data": {
      "text/plain": [
       "[{'label': 'NEGATIVE', 'score': 0.9951233267784119},\n",
       " {'label': 'NEGATIVE', 'score': 0.9942966103553772},\n",
       " {'label': 'NEGATIVE', 'score': 0.9966172575950623},\n",
       " {'label': 'POSITIVE', 'score': 0.9998546838760376},\n",
       " {'label': 'NEGATIVE', 'score': 0.9553026556968689},\n",
       " {'label': 'NEGATIVE', 'score': 0.9960475564002991},\n",
       " {'label': 'NEGATIVE', 'score': 0.9929372668266296},\n",
       " {'label': 'NEGATIVE', 'score': 0.9108172655105591},\n",
       " {'label': 'NEGATIVE', 'score': 0.9247077107429504},\n",
       " {'label': 'NEGATIVE', 'score': 0.997154712677002}]"
      ]
     },
     "execution_count": 29,
     "metadata": {},
     "output_type": "execute_result"
    }
   ],
   "source": [
    "classifier(druglib_comments)"
   ]
  },
  {
   "cell_type": "code",
   "execution_count": 13,
   "id": "18d67499",
   "metadata": {},
   "outputs": [
    {
     "data": {
      "text/plain": [
       "[{'label': 'NEGATIVE', 'score': 0.99843829870224},\n",
       " {'label': 'POSITIVE', 'score': 0.9974270462989807},\n",
       " {'label': 'POSITIVE', 'score': 0.9917389154434204},\n",
       " {'label': 'POSITIVE', 'score': 0.9949883222579956},\n",
       " {'label': 'NEGATIVE', 'score': 0.9986709356307983},\n",
       " {'label': 'NEGATIVE', 'score': 0.9974334836006165},\n",
       " {'label': 'NEGATIVE', 'score': 0.9982646107673645},\n",
       " {'label': 'POSITIVE', 'score': 0.9977782368659973},\n",
       " {'label': 'POSITIVE', 'score': 0.9927157759666443},\n",
       " {'label': 'NEGATIVE', 'score': 0.9964677095413208}]"
      ]
     },
     "execution_count": 13,
     "metadata": {},
     "output_type": "execute_result"
    }
   ],
   "source": [
    "classifier(druglib['benefitsReview'][:10].to_list())"
   ]
  },
  {
   "cell_type": "code",
   "execution_count": 44,
   "id": "e421b84b",
   "metadata": {},
   "outputs": [
    {
     "data": {
      "text/html": [
       "<div>\n",
       "<style scoped>\n",
       "    .dataframe tbody tr th:only-of-type {\n",
       "        vertical-align: middle;\n",
       "    }\n",
       "\n",
       "    .dataframe tbody tr th {\n",
       "        vertical-align: top;\n",
       "    }\n",
       "\n",
       "    .dataframe thead th {\n",
       "        text-align: right;\n",
       "    }\n",
       "</style>\n",
       "<table border=\"1\" class=\"dataframe\">\n",
       "  <thead>\n",
       "    <tr style=\"text-align: right;\">\n",
       "      <th></th>\n",
       "      <th>pmid</th>\n",
       "      <th>title</th>\n",
       "      <th>abstract</th>\n",
       "      <th>label</th>\n",
       "      <th>text_label</th>\n",
       "    </tr>\n",
       "  </thead>\n",
       "  <tbody>\n",
       "    <tr>\n",
       "      <th>0</th>\n",
       "      <td>29981025</td>\n",
       "      <td>Impact of Neoadjuvant Chemotherapy on Breast C...</td>\n",
       "      <td>BACKGROUND: Breast cancer subtype, as determin...</td>\n",
       "      <td>0</td>\n",
       "      <td>control</td>\n",
       "    </tr>\n",
       "    <tr>\n",
       "      <th>1</th>\n",
       "      <td>29984001</td>\n",
       "      <td>Expert-Performed Endotracheal Intubation-Relat...</td>\n",
       "      <td>The aim of this study was to determine complic...</td>\n",
       "      <td>0</td>\n",
       "      <td>control</td>\n",
       "    </tr>\n",
       "    <tr>\n",
       "      <th>2</th>\n",
       "      <td>29988545</td>\n",
       "      <td>A case report: Addison disease caused by adren...</td>\n",
       "      <td>We report middle age man with skin hyperpigmen...</td>\n",
       "      <td>0</td>\n",
       "      <td>control</td>\n",
       "    </tr>\n",
       "    <tr>\n",
       "      <th>3</th>\n",
       "      <td>29998100</td>\n",
       "      <td>An Unusual Morphological Presentation of Cutan...</td>\n",
       "      <td>Cutaneous squamous cell carcinoma (SCC) exhibi...</td>\n",
       "      <td>0</td>\n",
       "      <td>control</td>\n",
       "    </tr>\n",
       "    <tr>\n",
       "      <th>4</th>\n",
       "      <td>29999256</td>\n",
       "      <td>Informing Consent: Medical Malpractice and the...</td>\n",
       "      <td>Since the early 1990s, jurisdictions around th...</td>\n",
       "      <td>0</td>\n",
       "      <td>control</td>\n",
       "    </tr>\n",
       "  </tbody>\n",
       "</table>\n",
       "</div>"
      ],
      "text/plain": [
       "       pmid                                              title  \\\n",
       "0  29981025  Impact of Neoadjuvant Chemotherapy on Breast C...   \n",
       "1  29984001  Expert-Performed Endotracheal Intubation-Relat...   \n",
       "2  29988545  A case report: Addison disease caused by adren...   \n",
       "3  29998100  An Unusual Morphological Presentation of Cutan...   \n",
       "4  29999256  Informing Consent: Medical Malpractice and the...   \n",
       "\n",
       "                                            abstract  label text_label  \n",
       "0  BACKGROUND: Breast cancer subtype, as determin...      0    control  \n",
       "1  The aim of this study was to determine complic...      0    control  \n",
       "2  We report middle age man with skin hyperpigmen...      0    control  \n",
       "3  Cutaneous squamous cell carcinoma (SCC) exhibi...      0    control  \n",
       "4  Since the early 1990s, jurisdictions around th...      0    control  "
      ]
     },
     "execution_count": 44,
     "metadata": {},
     "output_type": "execute_result"
    }
   ],
   "source": [
    "file1 = './data/abstract_set1.txt'\n",
    "file2 = './data/abstract_set2.txt'\n",
    "data_selection = 'abstract'\n",
    "label_selection = 'label' # can be 'label' or 'text_label'\n",
    "df = utils.read_abstract_data(negatives_path=file2, positives_path=file1)\n",
    "df.head()"
   ]
  },
  {
   "cell_type": "code",
   "execution_count": 57,
   "id": "700b7170",
   "metadata": {},
   "outputs": [
    {
     "data": {
      "text/plain": [
       "['Ustiloxins were cyclopeptide mycotoxins from rice false smut balls (FSBs) that formed in rice spikelets infected by the fungal pathogen Ustilaginoidea virens. To investigate the chemical diversity of these metabolites and their bioactivities, one new cyclopeptide, ustiloxin G (1), together with four known congeners-ustiloxins A (2), B (3), D (4), and F (5)-were isolated from water extract of rice FSBs. Their structures were elucidated by analyses of their physical and spectroscopic data, including ultraviolet spectrometry (UV), infrared spectroscopy (IR), 1D and 2D nuclear magnetic resonance (NMR), and high-resolution electrospray ionization-mass spectrometry (HR-ESI-MS). All the compounds were evaluated for their cytotoxic as well as radicle and germ elongation inhibitory activities. Ustiloxin B (3) showed the best activity against the cell line BGC-823 with an IC50 value of 1.03 µM, while ustiloxin G (1) showed moderate activity against the cell lines A549 and A375 with IC50 values of 36.5 µM and 22.5 µM, respectively. Ustiloxins A (2), B (3), and G (1) showed strong inhibition of radicle and germ elongation of rice seeds. When their concentrations were at 200 µg/mL, the inhibitory ratios of radicle and germ elongation were more than 90% and 50%, respectively, the same effect as that of positive control (glyphosate). They also induced abnormal swelling of the roots and germs of rice seedlings.',\n",
       " 'Disturbances in bone metabolism and histology have been recognized in chronic alcoholism. It has not been established whether they are reversible and the cause remains unclear. We studied various serum and urine variables (including serum PTH, calcium, D-vitamins, and osteocalcin concentrations), bone mineral content, and bone histomorphometrics in men who at present abused alcohol and compared the results to those from men who previously had abused alcohol but who had abstained from alcohol for at least 2 yr and from normal men. No significant differences were found in bone mineral content at the two measuring sites (distal forearm, lumbar spine) between drinkers, abstainers, and controls though a considerable proportion of both current drinkers and abstainers had subnormal values. Bone formation rate and turnover (expressed by the activation frequency) was significantly reduced in the current drinkers who also had lower serum PTH, 1,25-dihydroxycholecalciferol, and osteocalcin concentrations. Men who had abstained from alcohol consumption for at least 2 yr had results similar to those from normal men, suggesting that the disturbances in bone metabolism in men abusing alcohol are reversible. The decrease in bone turnover in the drinkers may be explained by the observed reduction in plasma PTH concentration or a direct toxic effect of ethanol on bone tissue leading to a deficient recruitment of osteogenic cells.',\n",
       " 'OBJECTIVE: To determine if spontaneous hypertension is secondary to defective interaction among dopamine receptor, G protein, and Na(+)/H(+) exchanger 3 (NHE3). METHODS: The inhibitory effect of a D(1) dopamine agonist upon NHE3 activity and its impact upon G(s)alpha/NHE3 binding in renal brush border membrane (BBM) of spontaneously hypertensive rats (SHRs) 2 - 3 weeks before and 12 weeks after the establishment of hypertension were examined. In order to avoid the confounding influence of second messenger on D(1) receptor/NHE3 interaction, study was made in BBM devoid of cytoplasmic component. RESULTS: NHE3 activity increased with age in Wister-Kyoto (WKY) rats but not in SHRS. D1 receptor expression did change with age in both WKY rats and SHRs. The inhibitory effect of a D(1)-like agonist on NHE3 activity increased with age in WKY rats but not in SHRs. In WKY rats, another D(1)-like agonist, fedoldopam, increased G(s)alpha/NHE3 binding to the same extent in 2 week old and adult rats, but decreased the amount of G(s)(alpha)bound to NHE3 in 2 week old SHRs. CONCLUSION: The decrease of inhibitory effect of D(1)-like agonist upon NHE3 activity in SHRs precedes the development of hypertension. Spontaneous hypertension may be caused, in part, by a decreased interaction between G(s)alpha and NHE3 in BBM secondary to D(1)-like receptor function.',\n",
       " 'In many scientific fields, the practice of self-experimentation waned over the course of the twentieth century. For exercise physiologists working today, however, the practice of self-experimentation is alive and well. This paper considers the role of the Harvard Fatigue Laboratory and its scientific director, D. Bruce Dill, in legitimizing the practice of self-experimentation in exercise physiology. Descriptions of self-experimentation are drawn from papers published by members of the Harvard Fatigue Lab. Attention is paid to the ethical and practical justifications for self-experimentation in both the lab and the field. Born out of the practical, immediate demands of fatigue protocols, self-experimentation performed the long-term, epistemological function of uniting physiological data across time and space, enabling researchers to contribute to a general human biology program.',\n",
       " 'This report describes an 18-month-old boy with a completely isolated duplication cyst (CIDC) of the ileum associated with another classic enteric duplication cyst in the adjacent bowel and presenting as an acute abdomen due to torsion of the pedicle of the CIDC. Cysts excision was curative.',\n",
       " 'The dynamic flux of an organophosphate and four pyrethroid pesticides was determined in an air-(soil)-water-sediment system based on monitoring data from Guangzhou, China. The total air-water flux, including air-water gaseous exchange and atmospheric deposition, showed deposition from air to water for chlorpyrifos, bifenthrin and cypermethrin, but volatilization for lambda-cyhalothrin and permethrin. The transport of the pesticides from overlying water to sediment suggested that sediment acted as a sink for the pesticides. Additionally, distinct annual atmospheric depositional fluxes between legacy and current-use pesticides suggested the role of consumer usage in their transport throughout the system. Finally, pesticide toxicity was estimated from annual air-water-sediment flux within an urban stream in Guangzhou. A dynamic flux-based risk assessment indicated that inter-compartmental transport of chlorpyrifos decreased its atmospheric exposure, but had little influence on its aquatic toxicity. Instead, water-to-sediment transport of pyrethroids increased their sediment toxicity, which was supported by previously reported toxicity data.',\n",
       " 'Herbicide mixtures are a new and effective agricultural strategy for managing suppress weed resistance and have been widely used in controlling weeding growth in maize fields. However, the potential ecotoxicological impact of these mixtures on the microbial community structure and function within various root-associated niches, remains inadequately understood. Here, the effects of nicosulfuron, mesotrione and atrazine on soil enzyme activity and microbial community structure and function were investigated when applied alone and in combination. The findings indicated that herbicide mixtures exhibit a prolonged half-life compared to single herbicides. Ecological niches are the major factor influencing the structure and functions of the microbial community, with the rhizosphere exhibiting a more intensive response to herbicide stress. Herbicides significantly inhibited the activities of soil functional enzymes, including dehydrogenase, urease and sucrose in the short-term. Single herbicide did not drastically influence the alpha or beta diversity of the soil bacterial community, but herbicide mixtures significantly increased the richness of the fungal community. Meanwhile, the key functional microbial populations, such as Pseudomonas and Enterobacteriaceae, were significantly altered by herbicide stress. Both individual and combined use of the three herbicides reduced the complexity and stability of the bacterial network but increased the interspecific cooperations of fungal community in the rhizosphere. Moreover, by quantification of residual herbicide concentrations in the soil, we showed that the degradation period of the herbicide mixture was longer than that of single herbicides. Herbicide mixtures increased the contents of NO3--N and NH4+-N in the soil in the short-term. Overall, our study provided',\n",
       " \"AIM: To collect information on the efficiency and safety of a fixed-dose combination of amlodipine/valsartan in patients who failed to achieve blood pressure (BP) control in the use of the combination of an angiotensin-converting enzyme (ACE) inhibitor or an angiotensin II receptor blocker (ARB) and a thiazide/thiazide-like diuretic. SUBJECTS AND METHODS: During routine clinical practice, the 12-week observation program covered 8594 hypertensive patients receiving a fixed-dose combination of amlodipine/valsartan 5/160, 10/160 mg (exforge, Novartis Pharma) with/without a diuretic. The inclusion criteria were 18 years of age or older; systolic BP > OR = 140 mm Hg and/or diastolic BP > or = 90 mm Hg) at the first visit; failure to achieve BP (> or = 140/90 mm Hg) control in the use of the combination of an ACE inhibitor or an ARB and a thiazide/ thiazide-like diuretic; a patient's consent to participate in the program. The exclusion criteria were, besides the contraindications given in the drug use instruction, absent. Amlodipine/valsartan 5/160 or 10/160 mg were used after the previous ineffective therapy was discontinued. The patients visited their physician's office every 4 weeks. RESULTS: The patients' baseline BP was 169.3/99.9 mm Hg. The risk of cardiovascular events was assessed as high in 38% of the patients and as very high in 43.1%. The previous therapy included thiazide or thiazide-like diuretics (92%), an ACE inhibitor (78.5%), an ARB (23.2%), beta-adrenoblockers (38.6%), calcium antagonists (23.1%), and other medications (25.5%). In the entire group, BP decreased from 169.3 +/- 15.6/99.9 +/- 9.3 to\",\n",
       " 'Extractive fermentation using aqueous biphasic systems (ABS) is a promising separation process since it provides a nondenaturing environment for biomolecules and improves the stability of cells. Due to environmental concerns and toxicity issues related with common volatile organic solvents, ionic liquids (ILs), a new class of nonvolatile alternative solvents, are being currently investigated for extraction purposes. In this work, a wide range of imidazolium-based ILs was studied aiming at obtaining new insights regarding their ability toward the formation of ABS and their capacity to the extraction of biomolecules. On the basis of the IL cations 1-ethyl-3-methylimidazolium and 1-butyl-3-methylimidazolium, the IL anion influence on ABS formation was assessed through their combination with chloride, bromide, acetate, hydrogensulfate, methanesulfonate, methylsulfate, ethylsulfate, trifluomethanesulfonate, trifluoroacetate, and dicyanamide. Ternary phase diagrams (and respective tie-lines) formed by these hydrophilic ILs, water, and the inorganic salt K(3)PO(4), were measured and are reported. The results indicate that the ability of an IL to induce ABS closely follows the decrease in the hydrogen bond accepting strength or the increase in the hydrogen bond acidity of the IL anion. In addition, the extraction capacity of the studied ABS was evaluated through their application to the extraction of an essential amino acid, L-tryptophan. It is shown that the partition coefficients obtained between the IL and the K(3)PO(4)-aqueous rich phases were substantially larger than those typically obtained with polymers-inorganic salts or polymers-polysaccharides aqueous systems.',\n",
       " 'Pancytopenia, a hematologic condition, is a decrease in all three blood cell lines. The two main etiologies include decreased production or increased destruction of cells, as seen in nutritional deficiencies or liver cirrhosis, respectively. Pancytopenia commonly presents with fever, splenomegaly, and lymphadenopathy. Initial workup includes complete blood count, metabolic panel, peripheral smear, anemia panel, erythrocyte sedimentation rate, C-reactive protein, and lactate dehydrogenase. Workup also involves excluding toxins, human immunodeficiency virus (HIV), drug effects, and infectious etiologies. Malignancies can cause impaired production of cell lines. For hematologic malignancies, a bone marrow biopsy is performed. In patients above the age of 55 who are diagnosed with acute leukemia, acute lymphoblastic leukemia (ALL) is known to make up approximately 20% of all cases. Furthermore, ALL requires the presence of more than 20% lymphoblasts seen on bone marrow biopsy. Treatment includes induction, consolidation, and maintenance chemotherapy. We report the case of a 63-year-old male with a history of liver cirrhosis from non-alcoholic fatty liver disease who presented for consultation due to pancytopenia without signs of fever or lymphadenopathy. Imaging revealed cirrhosis, ascites, and moderate splenomegaly while the workup for toxins, infections, and HIV was negative. He presented to the hospital with worsening anasarca and acutely worsening pancytopenia. Peripheral smear showed pancytopenia with no definitive blasts, whereas bone marrow biopsy revealed B-lymphoblastic leukemia. He was transferred to a tertiary center for induction chemotherapy but ultimately transitioned to supportive care due to intolerance. This case demonstrates the importance of having a high suspicion for leukemia with']"
      ]
     },
     "execution_count": 57,
     "metadata": {},
     "output_type": "execute_result"
    }
   ],
   "source": [
    "\n",
    "abstract_sample = df.sample(10, random_state=1234)['abstract'].to_list()\n",
    "abstract_sample_truncated = []\n",
    "# truncate to 512 tokens\n",
    "# the model has a maximum length of 512 tokens\n",
    "# we will truncate to 250 tokens because the model doe more sophisticated tokenization\n",
    "for abstract in abstract_sample:\n",
    "    tokens = abstract.split()\n",
    "    if len(tokens) > 250:\n",
    "        tokens = tokens[:250]\n",
    "    else:\n",
    "        tokens = tokens\n",
    "    # convert to string\n",
    "    tokens = ' '.join(tokens)\n",
    "    \n",
    "    abstract_sample_truncated.append(tokens)\n",
    "\n",
    "abstract_sample_truncated"
   ]
  },
  {
   "cell_type": "code",
   "execution_count": 58,
   "id": "01dbec54",
   "metadata": {},
   "outputs": [
    {
     "data": {
      "text/plain": [
       "[{'label': 'NEGATIVE', 'score': 0.977128267288208},\n",
       " {'label': 'NEGATIVE', 'score': 0.9973832964897156},\n",
       " {'label': 'NEGATIVE', 'score': 0.9983440637588501},\n",
       " {'label': 'POSITIVE', 'score': 0.9969672560691833},\n",
       " {'label': 'NEGATIVE', 'score': 0.7761743068695068},\n",
       " {'label': 'NEGATIVE', 'score': 0.9976509213447571},\n",
       " {'label': 'NEGATIVE', 'score': 0.5205545425415039},\n",
       " {'label': 'NEGATIVE', 'score': 0.9979456067085266},\n",
       " {'label': 'POSITIVE', 'score': 0.9912579655647278},\n",
       " {'label': 'NEGATIVE', 'score': 0.9980074763298035}]"
      ]
     },
     "execution_count": 58,
     "metadata": {},
     "output_type": "execute_result"
    }
   ],
   "source": [
    "predictions = classifier(abstract_sample_truncated)\n",
    "predictions"
   ]
  },
  {
   "cell_type": "code",
   "execution_count": 35,
   "id": "67881e7e",
   "metadata": {},
   "outputs": [
    {
     "data": {
      "text/plain": [
       "[0.033216893672943115,\n",
       " 0.006510734558105469,\n",
       " 0.0036910176277160645,\n",
       " 0.9968621730804443,\n",
       " 0.22382569313049316,\n",
       " 0.003848135471343994,\n",
       " 0.003258049488067627,\n",
       " 0.017386913299560547,\n",
       " 0.9982472658157349,\n",
       " 0.0014461874961853027]"
      ]
     },
     "execution_count": 35,
     "metadata": {},
     "output_type": "execute_result"
    }
   ],
   "source": [
    "# Get probabilities\n",
    "probs = [d['score'] if d['label'].startswith('P') else 1 - d['score'] for d in predictions]\n",
    "probs"
   ]
  },
  {
   "cell_type": "code",
   "execution_count": 38,
   "id": "138b21ad",
   "metadata": {},
   "outputs": [
    {
     "data": {
      "text/plain": [
       "array([0, 0, 0, 1, 0, 0, 0, 0, 1, 0])"
      ]
     },
     "execution_count": 38,
     "metadata": {},
     "output_type": "execute_result"
    }
   ],
   "source": [
    "preds = [1 if d['label'].startswith('P') else 0 for d in predictions]\n",
    "preds = np.array(preds)\n",
    "preds"
   ]
  },
  {
   "cell_type": "code",
   "execution_count": null,
   "id": "bcc4b03b",
   "metadata": {},
   "outputs": [],
   "source": []
  },
  {
   "cell_type": "code",
   "execution_count": 30,
   "id": "f2b0b7cb",
   "metadata": {},
   "outputs": [],
   "source": [
    "import torch"
   ]
  },
  {
   "cell_type": "code",
   "execution_count": 31,
   "id": "d1b88454",
   "metadata": {},
   "outputs": [
    {
     "data": {
      "text/plain": [
       "False"
      ]
     },
     "execution_count": 31,
     "metadata": {},
     "output_type": "execute_result"
    }
   ],
   "source": [
    "torch.cuda.is_available()"
   ]
  },
  {
   "cell_type": "code",
   "execution_count": 32,
   "id": "4faff346",
   "metadata": {},
   "outputs": [
    {
     "ename": "AssertionError",
     "evalue": "Torch not compiled with CUDA enabled",
     "output_type": "error",
     "traceback": [
      "\u001b[0;31m---------------------------------------------------------------------------\u001b[0m",
      "\u001b[0;31mAssertionError\u001b[0m                            Traceback (most recent call last)",
      "Cell \u001b[0;32mIn[32], line 1\u001b[0m\n\u001b[0;32m----> 1\u001b[0m torch\u001b[38;5;241m.\u001b[39mcuda\u001b[38;5;241m.\u001b[39mcurrent_device()\n",
      "File \u001b[0;32m~/opt/miniconda3/envs/nlp/lib/python3.12/site-packages/torch/cuda/__init__.py:778\u001b[0m, in \u001b[0;36mcurrent_device\u001b[0;34m()\u001b[0m\n\u001b[1;32m    776\u001b[0m \u001b[38;5;28;01mdef\u001b[39;00m \u001b[38;5;21mcurrent_device\u001b[39m() \u001b[38;5;241m-\u001b[39m\u001b[38;5;241m>\u001b[39m \u001b[38;5;28mint\u001b[39m:\n\u001b[1;32m    777\u001b[0m \u001b[38;5;250m    \u001b[39m\u001b[38;5;124mr\u001b[39m\u001b[38;5;124;03m\"\"\"Return the index of a currently selected device.\"\"\"\u001b[39;00m\n\u001b[0;32m--> 778\u001b[0m     _lazy_init()\n\u001b[1;32m    779\u001b[0m     \u001b[38;5;28;01mreturn\u001b[39;00m torch\u001b[38;5;241m.\u001b[39m_C\u001b[38;5;241m.\u001b[39m_cuda_getDevice()\n",
      "File \u001b[0;32m~/opt/miniconda3/envs/nlp/lib/python3.12/site-packages/torch/cuda/__init__.py:284\u001b[0m, in \u001b[0;36m_lazy_init\u001b[0;34m()\u001b[0m\n\u001b[1;32m    279\u001b[0m     \u001b[38;5;28;01mraise\u001b[39;00m \u001b[38;5;167;01mRuntimeError\u001b[39;00m(\n\u001b[1;32m    280\u001b[0m         \u001b[38;5;124m\"\u001b[39m\u001b[38;5;124mCannot re-initialize CUDA in forked subprocess. To use CUDA with \u001b[39m\u001b[38;5;124m\"\u001b[39m\n\u001b[1;32m    281\u001b[0m         \u001b[38;5;124m\"\u001b[39m\u001b[38;5;124mmultiprocessing, you must use the \u001b[39m\u001b[38;5;124m'\u001b[39m\u001b[38;5;124mspawn\u001b[39m\u001b[38;5;124m'\u001b[39m\u001b[38;5;124m start method\u001b[39m\u001b[38;5;124m\"\u001b[39m\n\u001b[1;32m    282\u001b[0m     )\n\u001b[1;32m    283\u001b[0m \u001b[38;5;28;01mif\u001b[39;00m \u001b[38;5;129;01mnot\u001b[39;00m \u001b[38;5;28mhasattr\u001b[39m(torch\u001b[38;5;241m.\u001b[39m_C, \u001b[38;5;124m\"\u001b[39m\u001b[38;5;124m_cuda_getDeviceCount\u001b[39m\u001b[38;5;124m\"\u001b[39m):\n\u001b[0;32m--> 284\u001b[0m     \u001b[38;5;28;01mraise\u001b[39;00m \u001b[38;5;167;01mAssertionError\u001b[39;00m(\u001b[38;5;124m\"\u001b[39m\u001b[38;5;124mTorch not compiled with CUDA enabled\u001b[39m\u001b[38;5;124m\"\u001b[39m)\n\u001b[1;32m    285\u001b[0m \u001b[38;5;28;01mif\u001b[39;00m _cudart \u001b[38;5;129;01mis\u001b[39;00m \u001b[38;5;28;01mNone\u001b[39;00m:\n\u001b[1;32m    286\u001b[0m     \u001b[38;5;28;01mraise\u001b[39;00m \u001b[38;5;167;01mAssertionError\u001b[39;00m(\n\u001b[1;32m    287\u001b[0m         \u001b[38;5;124m\"\u001b[39m\u001b[38;5;124mlibcudart functions unavailable. It looks like you have a broken build?\u001b[39m\u001b[38;5;124m\"\u001b[39m\n\u001b[1;32m    288\u001b[0m     )\n",
      "\u001b[0;31mAssertionError\u001b[0m: Torch not compiled with CUDA enabled"
     ]
    }
   ],
   "source": [
    "torch.cuda.current_device()"
   ]
  }
 ],
 "metadata": {
  "kernelspec": {
   "display_name": "nlp",
   "language": "python",
   "name": "nlp"
  },
  "language_info": {
   "codemirror_mode": {
    "name": "ipython",
    "version": 3
   },
   "file_extension": ".py",
   "mimetype": "text/x-python",
   "name": "python",
   "nbconvert_exporter": "python",
   "pygments_lexer": "ipython3",
   "version": "3.12.8"
  }
 },
 "nbformat": 4,
 "nbformat_minor": 5
}
